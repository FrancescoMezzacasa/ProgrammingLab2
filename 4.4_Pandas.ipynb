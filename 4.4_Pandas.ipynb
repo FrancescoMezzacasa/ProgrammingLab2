{
 "cells": [
  {
   "cell_type": "markdown",
   "metadata": {
    "id": "b7NfbjzaJYKx"
   },
   "source": [
    "## Esamina i Dati\n",
    "\n",
    "Carichiamo i dati usando `read_csv` e diamo un'occhiata rapida con `head()`."
   ]
  },
  {
   "cell_type": "code",
   "execution_count": 25,
   "metadata": {},
   "outputs": [
    {
     "name": "stderr",
     "output_type": "stream",
     "text": [
      "Repo card metadata block was not found. Setting CardData to empty.\n"
     ]
    }
   ],
   "source": [
    "# Importing Libraries\n",
    "import pandas as pd\n",
    "import numpy as np\n",
    "from datasets import load_dataset\n",
    "import matplotlib.pyplot as plt  \n",
    "\n",
    "\n",
    "\n",
    "# Carica il dataset\n",
    "dataset = load_dataset(\"yiqing111/Engineering_Jobs_Insight_Dataset\")\n",
    "# Converte in DataFrame Pandas\n",
    "df = dataset['train'].to_pandas()\n",
    "# Rimpiazza gli spazi con l'underscore\n",
    "df.columns = df.columns.str.replace(' ', '_')\n",
    "# Convertire 'Date_Posted' in datetime senza specificare il formato esatto\n",
    "df['Date_Posted'] = pd.to_datetime(df['Date_Posted'], errors='coerce')"
   ]
  },
  {
   "cell_type": "code",
   "execution_count": 2,
   "metadata": {},
   "outputs": [
    {
     "data": {
      "text/html": [
       "<div>\n",
       "<style scoped>\n",
       "    .dataframe tbody tr th:only-of-type {\n",
       "        vertical-align: middle;\n",
       "    }\n",
       "\n",
       "    .dataframe tbody tr th {\n",
       "        vertical-align: top;\n",
       "    }\n",
       "\n",
       "    .dataframe thead th {\n",
       "        text-align: right;\n",
       "    }\n",
       "</style>\n",
       "<table border=\"1\" class=\"dataframe\">\n",
       "  <thead>\n",
       "    <tr style=\"text-align: right;\">\n",
       "      <th></th>\n",
       "      <th>Job_Title</th>\n",
       "      <th>Company</th>\n",
       "      <th>Description</th>\n",
       "      <th>Location</th>\n",
       "      <th>Salary_Min</th>\n",
       "      <th>Salary_Max</th>\n",
       "      <th>Date_Posted</th>\n",
       "      <th>URL</th>\n",
       "    </tr>\n",
       "  </thead>\n",
       "  <tbody>\n",
       "    <tr>\n",
       "      <th>0</th>\n",
       "      <td>Senior Software Engineer (Python)</td>\n",
       "      <td>BP Energy</td>\n",
       "      <td>Entity: Trading &amp; Shipping Job Family Group: S...</td>\n",
       "      <td>Crestwood, Houston</td>\n",
       "      <td>138992.40</td>\n",
       "      <td>138992.40</td>\n",
       "      <td>2024-10-29 16:35:26+00:00</td>\n",
       "      <td>https://www.adzuna.com/land/ad/4917931721?se=N...</td>\n",
       "    </tr>\n",
       "    <tr>\n",
       "      <th>1</th>\n",
       "      <td>Sr. Backend Software Engineer</td>\n",
       "      <td>Meijer</td>\n",
       "      <td>As a family company, we serve people and commu...</td>\n",
       "      <td>Belmont, Kent County</td>\n",
       "      <td>118638.80</td>\n",
       "      <td>118638.80</td>\n",
       "      <td>2024-11-10 01:13:11+00:00</td>\n",
       "      <td>https://www.adzuna.com/land/ad/4933370156?se=N...</td>\n",
       "    </tr>\n",
       "    <tr>\n",
       "      <th>2</th>\n",
       "      <td>Sr. Software Engineer - Mobile</td>\n",
       "      <td>Meijer</td>\n",
       "      <td>As a family company, we serve people and commu...</td>\n",
       "      <td>Belmont, Kent County</td>\n",
       "      <td>108041.95</td>\n",
       "      <td>108041.95</td>\n",
       "      <td>2024-10-15 11:51:30+00:00</td>\n",
       "      <td>https://www.adzuna.com/land/ad/4902683574?se=N...</td>\n",
       "    </tr>\n",
       "    <tr>\n",
       "      <th>3</th>\n",
       "      <td>Acquisition Software Engineer</td>\n",
       "      <td>Naval Air Systems Command</td>\n",
       "      <td>Position Description The Harpoon/SLAM ER/JSOW ...</td>\n",
       "      <td>China Lake, Kern County</td>\n",
       "      <td>88583.57</td>\n",
       "      <td>88583.57</td>\n",
       "      <td>2024-11-16 04:21:41+00:00</td>\n",
       "      <td>https://www.adzuna.com/land/ad/4941260438?se=N...</td>\n",
       "    </tr>\n",
       "    <tr>\n",
       "      <th>4</th>\n",
       "      <td>Senior Software Engineer</td>\n",
       "      <td>Innova</td>\n",
       "      <td>A client of Innova Solutions is immediately hi...</td>\n",
       "      <td>Richardson, Dallas</td>\n",
       "      <td>121932.35</td>\n",
       "      <td>121932.35</td>\n",
       "      <td>2024-11-15 09:42:55+00:00</td>\n",
       "      <td>https://www.adzuna.com/details/4940271538?utm_...</td>\n",
       "    </tr>\n",
       "  </tbody>\n",
       "</table>\n",
       "</div>"
      ],
      "text/plain": [
       "                           Job_Title                     Company  \\\n",
       "0  Senior Software Engineer (Python)                   BP Energy   \n",
       "1      Sr. Backend Software Engineer                      Meijer   \n",
       "2     Sr. Software Engineer - Mobile                      Meijer   \n",
       "3      Acquisition Software Engineer  Naval Air Systems Command    \n",
       "4           Senior Software Engineer                      Innova   \n",
       "\n",
       "                                         Description                 Location  \\\n",
       "0  Entity: Trading & Shipping Job Family Group: S...       Crestwood, Houston   \n",
       "1  As a family company, we serve people and commu...     Belmont, Kent County   \n",
       "2  As a family company, we serve people and commu...     Belmont, Kent County   \n",
       "3  Position Description The Harpoon/SLAM ER/JSOW ...  China Lake, Kern County   \n",
       "4  A client of Innova Solutions is immediately hi...       Richardson, Dallas   \n",
       "\n",
       "   Salary_Min  Salary_Max               Date_Posted  \\\n",
       "0   138992.40   138992.40 2024-10-29 16:35:26+00:00   \n",
       "1   118638.80   118638.80 2024-11-10 01:13:11+00:00   \n",
       "2   108041.95   108041.95 2024-10-15 11:51:30+00:00   \n",
       "3    88583.57    88583.57 2024-11-16 04:21:41+00:00   \n",
       "4   121932.35   121932.35 2024-11-15 09:42:55+00:00   \n",
       "\n",
       "                                                 URL  \n",
       "0  https://www.adzuna.com/land/ad/4917931721?se=N...  \n",
       "1  https://www.adzuna.com/land/ad/4933370156?se=N...  \n",
       "2  https://www.adzuna.com/land/ad/4902683574?se=N...  \n",
       "3  https://www.adzuna.com/land/ad/4941260438?se=N...  \n",
       "4  https://www.adzuna.com/details/4940271538?utm_...  "
      ]
     },
     "execution_count": 2,
     "metadata": {},
     "output_type": "execute_result"
    }
   ],
   "source": [
    "df.head()"
   ]
  },
  {
   "cell_type": "markdown",
   "metadata": {},
   "source": [
    "## iloc\n",
    "\n",
    "Abbiamo già imparato come ottenere le righe usando `iloc[]`.  \n",
    "Ma possiamo fare molto di più con questo strumento: possiamo infatti selezionare *sia* righe *che* colonne.\n",
    "\n",
    "Per fare questo, dobbiamo conoscere gli indici del nostro DataFrame.\n"
   ]
  },
  {
   "cell_type": "code",
   "execution_count": 3,
   "metadata": {},
   "outputs": [
    {
     "data": {
      "text/plain": [
       "Job_Title                      Senior Software Engineer (Python)\n",
       "Company                                                BP Energy\n",
       "Description    Entity: Trading & Shipping Job Family Group: S...\n",
       "Location                                      Crestwood, Houston\n",
       "Salary_Min                                              138992.4\n",
       "Salary_Max                                              138992.4\n",
       "Date_Posted                            2024-10-29 16:35:26+00:00\n",
       "URL            https://www.adzuna.com/land/ad/4917931721?se=N...\n",
       "Name: 0, dtype: object"
      ]
     },
     "execution_count": 3,
     "metadata": {},
     "output_type": "execute_result"
    }
   ],
   "source": [
    "df.iloc[0] #prima riga"
   ]
  },
  {
   "cell_type": "code",
   "execution_count": 4,
   "metadata": {},
   "outputs": [
    {
     "name": "stderr",
     "output_type": "stream",
     "text": [
      "/tmp/ipykernel_28548/3296793768.py:1: FutureWarning: Series.__getitem__ treating keys as positions is deprecated. In a future version, integer keys will always be treated as labels (consistent with DataFrame behavior). To access a value by position, use `ser.iloc[pos]`\n",
      "  df.iloc[0][5]\n"
     ]
    },
    {
     "data": {
      "text/plain": [
       "np.float64(138992.4)"
      ]
     },
     "execution_count": 4,
     "metadata": {},
     "output_type": "execute_result"
    }
   ],
   "source": [
    "df.iloc[0][5]"
   ]
  },
  {
   "cell_type": "markdown",
   "metadata": {},
   "source": [
    "##### Nota: usa `df.iloc[0, 15]` invece di `df.iloc[0][15]` per garantire la compatibilità futura con pandas.\n",
    "\n",
    "L’uso dell’indicizzazione concatenata come `df.iloc[0][15]` è in fase di deprecazione in pandas, perché può portare a comportamenti ambigui tra accesso basato sulla posizione e accesso basato sull’etichetta nelle versioni future.  \n",
    "Utilizzando `df.iloc[0, 15]`, specifichi direttamente la posizione dell’elemento che vuoi accedere, in modo più chiaro e sicuro, evitando potenziali errori futuri legati all’interpretazione degli indici interi nelle serie.\n",
    "\n",
    "Quindi dovremmo scrivere:"
   ]
  },
  {
   "cell_type": "code",
   "execution_count": 5,
   "metadata": {},
   "outputs": [
    {
     "data": {
      "text/plain": [
       "np.float64(138992.4)"
      ]
     },
     "execution_count": 5,
     "metadata": {},
     "output_type": "execute_result"
    }
   ],
   "source": [
    "df.iloc[0,5]"
   ]
  },
  {
   "cell_type": "code",
   "execution_count": 6,
   "metadata": {},
   "outputs": [
    {
     "data": {
      "text/html": [
       "<div>\n",
       "<style scoped>\n",
       "    .dataframe tbody tr th:only-of-type {\n",
       "        vertical-align: middle;\n",
       "    }\n",
       "\n",
       "    .dataframe tbody tr th {\n",
       "        vertical-align: top;\n",
       "    }\n",
       "\n",
       "    .dataframe thead th {\n",
       "        text-align: right;\n",
       "    }\n",
       "</style>\n",
       "<table border=\"1\" class=\"dataframe\">\n",
       "  <thead>\n",
       "    <tr style=\"text-align: right;\">\n",
       "      <th></th>\n",
       "      <th>Salary_Min</th>\n",
       "      <th>Salary_Max</th>\n",
       "    </tr>\n",
       "  </thead>\n",
       "  <tbody>\n",
       "    <tr>\n",
       "      <th>2</th>\n",
       "      <td>108041.95</td>\n",
       "      <td>108041.95</td>\n",
       "    </tr>\n",
       "    <tr>\n",
       "      <th>3</th>\n",
       "      <td>88583.57</td>\n",
       "      <td>88583.57</td>\n",
       "    </tr>\n",
       "  </tbody>\n",
       "</table>\n",
       "</div>"
      ],
      "text/plain": [
       "   Salary_Min  Salary_Max\n",
       "2   108041.95   108041.95\n",
       "3    88583.57    88583.57"
      ]
     },
     "execution_count": 6,
     "metadata": {},
     "output_type": "execute_result"
    }
   ],
   "source": [
    "df.iloc[2:4,4:6]"
   ]
  },
  {
   "cell_type": "code",
   "execution_count": 7,
   "metadata": {},
   "outputs": [
    {
     "data": {
      "text/html": [
       "<div>\n",
       "<style scoped>\n",
       "    .dataframe tbody tr th:only-of-type {\n",
       "        vertical-align: middle;\n",
       "    }\n",
       "\n",
       "    .dataframe tbody tr th {\n",
       "        vertical-align: top;\n",
       "    }\n",
       "\n",
       "    .dataframe thead th {\n",
       "        text-align: right;\n",
       "    }\n",
       "</style>\n",
       "<table border=\"1\" class=\"dataframe\">\n",
       "  <thead>\n",
       "    <tr style=\"text-align: right;\">\n",
       "      <th></th>\n",
       "      <th>Salary_Min</th>\n",
       "      <th>Salary_Max</th>\n",
       "    </tr>\n",
       "  </thead>\n",
       "  <tbody>\n",
       "    <tr>\n",
       "      <th>2</th>\n",
       "      <td>108041.95</td>\n",
       "      <td>108041.95</td>\n",
       "    </tr>\n",
       "    <tr>\n",
       "      <th>4</th>\n",
       "      <td>121932.35</td>\n",
       "      <td>121932.35</td>\n",
       "    </tr>\n",
       "  </tbody>\n",
       "</table>\n",
       "</div>"
      ],
      "text/plain": [
       "   Salary_Min  Salary_Max\n",
       "2   108041.95   108041.95\n",
       "4   121932.35   121932.35"
      ]
     },
     "execution_count": 7,
     "metadata": {},
     "output_type": "execute_result"
    }
   ],
   "source": [
    "df.iloc[[2,4],[4,5]]"
   ]
  },
  {
   "cell_type": "markdown",
   "metadata": {},
   "source": [
    "## loc\n",
    "\n",
    "* `df.loc[]`: seleziona righe e colonne per **etichetta** o **intervallo di etichette**.\n",
    "* È simile a `df.iloc[]`, ma consente di usare **etichette** invece degli indici numerici.\n"
   ]
  },
  {
   "cell_type": "code",
   "execution_count": 7,
   "metadata": {},
   "outputs": [
    {
     "data": {
      "text/html": [
       "<div>\n",
       "<style scoped>\n",
       "    .dataframe tbody tr th:only-of-type {\n",
       "        vertical-align: middle;\n",
       "    }\n",
       "\n",
       "    .dataframe tbody tr th {\n",
       "        vertical-align: top;\n",
       "    }\n",
       "\n",
       "    .dataframe thead th {\n",
       "        text-align: right;\n",
       "    }\n",
       "</style>\n",
       "<table border=\"1\" class=\"dataframe\">\n",
       "  <thead>\n",
       "    <tr style=\"text-align: right;\">\n",
       "      <th></th>\n",
       "      <th>Salary_Min</th>\n",
       "      <th>Salary_Max</th>\n",
       "    </tr>\n",
       "  </thead>\n",
       "  <tbody>\n",
       "    <tr>\n",
       "      <th>0</th>\n",
       "      <td>138992.40</td>\n",
       "      <td>138992.40</td>\n",
       "    </tr>\n",
       "    <tr>\n",
       "      <th>1</th>\n",
       "      <td>118638.80</td>\n",
       "      <td>118638.80</td>\n",
       "    </tr>\n",
       "    <tr>\n",
       "      <th>2</th>\n",
       "      <td>108041.95</td>\n",
       "      <td>108041.95</td>\n",
       "    </tr>\n",
       "    <tr>\n",
       "      <th>3</th>\n",
       "      <td>88583.57</td>\n",
       "      <td>88583.57</td>\n",
       "    </tr>\n",
       "    <tr>\n",
       "      <th>4</th>\n",
       "      <td>121932.35</td>\n",
       "      <td>121932.35</td>\n",
       "    </tr>\n",
       "    <tr>\n",
       "      <th>5</th>\n",
       "      <td>133348.23</td>\n",
       "      <td>133348.23</td>\n",
       "    </tr>\n",
       "    <tr>\n",
       "      <th>6</th>\n",
       "      <td>88769.20</td>\n",
       "      <td>88769.20</td>\n",
       "    </tr>\n",
       "    <tr>\n",
       "      <th>7</th>\n",
       "      <td>79830.78</td>\n",
       "      <td>79830.78</td>\n",
       "    </tr>\n",
       "    <tr>\n",
       "      <th>8</th>\n",
       "      <td>94173.15</td>\n",
       "      <td>94173.15</td>\n",
       "    </tr>\n",
       "    <tr>\n",
       "      <th>9</th>\n",
       "      <td>91324.85</td>\n",
       "      <td>91324.85</td>\n",
       "    </tr>\n",
       "  </tbody>\n",
       "</table>\n",
       "</div>"
      ],
      "text/plain": [
       "   Salary_Min  Salary_Max\n",
       "0   138992.40   138992.40\n",
       "1   118638.80   118638.80\n",
       "2   108041.95   108041.95\n",
       "3    88583.57    88583.57\n",
       "4   121932.35   121932.35\n",
       "5   133348.23   133348.23\n",
       "6    88769.20    88769.20\n",
       "7    79830.78    79830.78\n",
       "8    94173.15    94173.15\n",
       "9    91324.85    91324.85"
      ]
     },
     "execution_count": 7,
     "metadata": {},
     "output_type": "execute_result"
    }
   ],
   "source": [
    "df.loc[:9,['Salary_Min',\t'Salary_Max']]"
   ]
  },
  {
   "cell_type": "markdown",
   "metadata": {},
   "source": [
    "## Gestione dei Dati Mancanti\n"
   ]
  },
  {
   "cell_type": "markdown",
   "metadata": {},
   "source": [
    "\n",
    "- `df.dropna()`: elimina i valori mancanti.\n",
    "\n"
   ]
  },
  {
   "cell_type": "markdown",
   "metadata": {},
   "source": [
    "### Fillna\n",
    "\n",
    "- `df.fillna()`: riempie i valori mancanti"
   ]
  },
  {
   "cell_type": "code",
   "execution_count": null,
   "metadata": {},
   "outputs": [
    {
     "data": {
      "text/html": [
       "<div>\n",
       "<style scoped>\n",
       "    .dataframe tbody tr th:only-of-type {\n",
       "        vertical-align: middle;\n",
       "    }\n",
       "\n",
       "    .dataframe tbody tr th {\n",
       "        vertical-align: top;\n",
       "    }\n",
       "\n",
       "    .dataframe thead th {\n",
       "        text-align: right;\n",
       "    }\n",
       "</style>\n",
       "<table border=\"1\" class=\"dataframe\">\n",
       "  <thead>\n",
       "    <tr style=\"text-align: right;\">\n",
       "      <th></th>\n",
       "      <th>Nome</th>\n",
       "      <th>Età</th>\n",
       "      <th>Città</th>\n",
       "    </tr>\n",
       "  </thead>\n",
       "  <tbody>\n",
       "    <tr>\n",
       "      <th>0</th>\n",
       "      <td>Anna</td>\n",
       "      <td>25.0</td>\n",
       "      <td>Roma</td>\n",
       "    </tr>\n",
       "    <tr>\n",
       "      <th>1</th>\n",
       "      <td>Luca</td>\n",
       "      <td>NaN</td>\n",
       "      <td>Milano</td>\n",
       "    </tr>\n",
       "    <tr>\n",
       "      <th>2</th>\n",
       "      <td>Marco</td>\n",
       "      <td>30.0</td>\n",
       "      <td>NaN</td>\n",
       "    </tr>\n",
       "    <tr>\n",
       "      <th>3</th>\n",
       "      <td>Elisa</td>\n",
       "      <td>NaN</td>\n",
       "      <td>Torino</td>\n",
       "    </tr>\n",
       "  </tbody>\n",
       "</table>\n",
       "</div>"
      ],
      "text/plain": [
       "    Nome   Età   Città\n",
       "0   Anna  25.0    Roma\n",
       "1   Luca   NaN  Milano\n",
       "2  Marco  30.0     NaN\n",
       "3  Elisa   NaN  Torino"
      ]
     },
     "execution_count": 9,
     "metadata": {},
     "output_type": "execute_result"
    }
   ],
   "source": [
    "data = {\n",
    "    'Nome': ['Anna', 'Luca', 'Marco', 'Elisa'],\n",
    "    'Età': [25, np.nan, 30, np.nan],\n",
    "    'Città': ['Roma', 'Milano', np.nan, 'Torino']\n",
    "}\n",
    "\n",
    "df2 = pd.DataFrame(data)\n",
    "df2"
   ]
  },
  {
   "cell_type": "code",
   "execution_count": 10,
   "metadata": {},
   "outputs": [
    {
     "data": {
      "text/html": [
       "<div>\n",
       "<style scoped>\n",
       "    .dataframe tbody tr th:only-of-type {\n",
       "        vertical-align: middle;\n",
       "    }\n",
       "\n",
       "    .dataframe tbody tr th {\n",
       "        vertical-align: top;\n",
       "    }\n",
       "\n",
       "    .dataframe thead th {\n",
       "        text-align: right;\n",
       "    }\n",
       "</style>\n",
       "<table border=\"1\" class=\"dataframe\">\n",
       "  <thead>\n",
       "    <tr style=\"text-align: right;\">\n",
       "      <th></th>\n",
       "      <th>Nome</th>\n",
       "      <th>Età</th>\n",
       "      <th>Città</th>\n",
       "    </tr>\n",
       "  </thead>\n",
       "  <tbody>\n",
       "    <tr>\n",
       "      <th>0</th>\n",
       "      <td>Anna</td>\n",
       "      <td>25.0</td>\n",
       "      <td>Roma</td>\n",
       "    </tr>\n",
       "  </tbody>\n",
       "</table>\n",
       "</div>"
      ],
      "text/plain": [
       "   Nome   Età Città\n",
       "0  Anna  25.0  Roma"
      ]
     },
     "execution_count": 10,
     "metadata": {},
     "output_type": "execute_result"
    }
   ],
   "source": [
    "df_drop = df2.dropna()\n",
    "df_drop"
   ]
  },
  {
   "cell_type": "code",
   "execution_count": 11,
   "metadata": {},
   "outputs": [
    {
     "data": {
      "text/html": [
       "<div>\n",
       "<style scoped>\n",
       "    .dataframe tbody tr th:only-of-type {\n",
       "        vertical-align: middle;\n",
       "    }\n",
       "\n",
       "    .dataframe tbody tr th {\n",
       "        vertical-align: top;\n",
       "    }\n",
       "\n",
       "    .dataframe thead th {\n",
       "        text-align: right;\n",
       "    }\n",
       "</style>\n",
       "<table border=\"1\" class=\"dataframe\">\n",
       "  <thead>\n",
       "    <tr style=\"text-align: right;\">\n",
       "      <th></th>\n",
       "      <th>Nome</th>\n",
       "      <th>Età</th>\n",
       "      <th>Città</th>\n",
       "    </tr>\n",
       "  </thead>\n",
       "  <tbody>\n",
       "    <tr>\n",
       "      <th>0</th>\n",
       "      <td>Anna</td>\n",
       "      <td>25.0</td>\n",
       "      <td>Roma</td>\n",
       "    </tr>\n",
       "    <tr>\n",
       "      <th>1</th>\n",
       "      <td>Luca</td>\n",
       "      <td>27.5</td>\n",
       "      <td>Milano</td>\n",
       "    </tr>\n",
       "    <tr>\n",
       "      <th>2</th>\n",
       "      <td>Marco</td>\n",
       "      <td>30.0</td>\n",
       "      <td>NaN</td>\n",
       "    </tr>\n",
       "    <tr>\n",
       "      <th>3</th>\n",
       "      <td>Elisa</td>\n",
       "      <td>27.5</td>\n",
       "      <td>Torino</td>\n",
       "    </tr>\n",
       "  </tbody>\n",
       "</table>\n",
       "</div>"
      ],
      "text/plain": [
       "    Nome   Età   Città\n",
       "0   Anna  25.0    Roma\n",
       "1   Luca  27.5  Milano\n",
       "2  Marco  30.0     NaN\n",
       "3  Elisa  27.5  Torino"
      ]
     },
     "execution_count": 11,
     "metadata": {},
     "output_type": "execute_result"
    }
   ],
   "source": [
    "media_eta = df2['Età'].mean()\n",
    "df2['Età'] = df2['Età'].fillna(media_eta)\n",
    "df2"
   ]
  },
  {
   "cell_type": "markdown",
   "metadata": {},
   "source": [
    "## Rimozione dei Duplicati\n",
    "\n",
    "* `drop_duplicates()`: rimuove le righe duplicate.\n",
    "* Gli analisti devono spesso ripulire i dati, e uno dei problemi più comuni che si incontrano sono i valori duplicati."
   ]
  },
  {
   "cell_type": "code",
   "execution_count": null,
   "metadata": {},
   "outputs": [
    {
     "data": {
      "text/plain": [
       "0        5\n",
       "1        5\n",
       "2        5\n",
       "3        5\n",
       "4        5\n",
       "        ..\n",
       "11180    5\n",
       "11181    5\n",
       "11182    5\n",
       "11183    5\n",
       "11184    5\n",
       "Name: Salary_Min, Length: 11185, dtype: int64"
      ]
     },
     "execution_count": 12,
     "metadata": {},
     "output_type": "execute_result"
    }
   ],
   "source": [
    "# DataFrame Copy\n",
    "df_original = df.copy()\n",
    "df_altered = df_original\n",
    "\n",
    "# Filling the missing values with the median salary\n",
    "df_altered['Salary_Min'] = 5 #cosi modifico anche df_original\n",
    "df_altered['Salary_Min']"
   ]
  },
  {
   "cell_type": "code",
   "execution_count": 13,
   "metadata": {},
   "outputs": [
    {
     "data": {
      "text/plain": [
       "0        5\n",
       "1        5\n",
       "2        5\n",
       "3        5\n",
       "4        5\n",
       "        ..\n",
       "11180    5\n",
       "11181    5\n",
       "11182    5\n",
       "11183    5\n",
       "11184    5\n",
       "Name: Salary_Min, Length: 11185, dtype: int64"
      ]
     },
     "execution_count": 13,
     "metadata": {},
     "output_type": "execute_result"
    }
   ],
   "source": [
    "df_original['Salary_Min']"
   ]
  },
  {
   "cell_type": "code",
   "execution_count": 13,
   "metadata": {},
   "outputs": [
    {
     "data": {
      "text/plain": [
       "0        138992.40\n",
       "1        118638.80\n",
       "2        108041.95\n",
       "3         88583.57\n",
       "4        121932.35\n",
       "           ...    \n",
       "11180    110000.00\n",
       "11181    110000.00\n",
       "11182    126635.63\n",
       "11183    155731.52\n",
       "11184    174527.50\n",
       "Name: Salary_Min, Length: 11185, dtype: float64"
      ]
     },
     "execution_count": 13,
     "metadata": {},
     "output_type": "execute_result"
    }
   ],
   "source": [
    "df['Salary_Min']"
   ]
  },
  {
   "cell_type": "code",
   "execution_count": 14,
   "metadata": {},
   "outputs": [
    {
     "name": "stdout",
     "output_type": "stream",
     "text": [
      "ID of df_original:                139938023573648\n",
      "ID of df_altered:                 139938023573648\n",
      "ID of df:                         139938034618672\n"
     ]
    }
   ],
   "source": [
    "\n",
    "print('ID of df_original:               ', id(df_original))\n",
    "print('ID of df_altered:                ', id(df_altered))\n",
    "print('ID of df:                        ', id(df))"
   ]
  },
  {
   "cell_type": "markdown",
   "metadata": {},
   "source": [
    "## Campionamento\n",
    "\n",
    "* `sample()`: estrae un campione casuale di elementi.\n",
    "\n",
    "### Esempi\n",
    "\n",
    "Otteniamo un campione casuale dei dati.  \n",
    "È possibile ottenere un campione con un numero fisso di righe.\n"
   ]
  },
  {
   "cell_type": "code",
   "execution_count": 15,
   "metadata": {},
   "outputs": [
    {
     "data": {
      "text/html": [
       "<div>\n",
       "<style scoped>\n",
       "    .dataframe tbody tr th:only-of-type {\n",
       "        vertical-align: middle;\n",
       "    }\n",
       "\n",
       "    .dataframe tbody tr th {\n",
       "        vertical-align: top;\n",
       "    }\n",
       "\n",
       "    .dataframe thead th {\n",
       "        text-align: right;\n",
       "    }\n",
       "</style>\n",
       "<table border=\"1\" class=\"dataframe\">\n",
       "  <thead>\n",
       "    <tr style=\"text-align: right;\">\n",
       "      <th></th>\n",
       "      <th>Job_Title</th>\n",
       "      <th>Company</th>\n",
       "      <th>Description</th>\n",
       "      <th>Location</th>\n",
       "      <th>Salary_Min</th>\n",
       "      <th>Salary_Max</th>\n",
       "      <th>Date_Posted</th>\n",
       "      <th>URL</th>\n",
       "    </tr>\n",
       "  </thead>\n",
       "  <tbody>\n",
       "    <tr>\n",
       "      <th>4027</th>\n",
       "      <td>Associate Product Manager  Social app startup</td>\n",
       "      <td>Cheez</td>\n",
       "      <td>Cheez is a new app that sends you the pictures...</td>\n",
       "      <td>Norwalk, Fairfield County</td>\n",
       "      <td>79567.11</td>\n",
       "      <td>79567.11</td>\n",
       "      <td>2024-05-02 13:07:11+00:00</td>\n",
       "      <td>https://www.adzuna.com/land/ad/4675830263?se=5...</td>\n",
       "    </tr>\n",
       "    <tr>\n",
       "      <th>9028</th>\n",
       "      <td>Embedded Systems Security Engineer</td>\n",
       "      <td>Trimble</td>\n",
       "      <td>Your Title: Embedded Systems Security Engineer...</td>\n",
       "      <td>Newark, Essex County</td>\n",
       "      <td>73579.69</td>\n",
       "      <td>73579.69</td>\n",
       "      <td>2024-11-18 14:07:37+00:00</td>\n",
       "      <td>https://www.adzuna.com/details/4943080831?utm_...</td>\n",
       "    </tr>\n",
       "  </tbody>\n",
       "</table>\n",
       "</div>"
      ],
      "text/plain": [
       "                                          Job_Title  Company  \\\n",
       "4027  Associate Product Manager  Social app startup    Cheez   \n",
       "9028             Embedded Systems Security Engineer  Trimble   \n",
       "\n",
       "                                            Description  \\\n",
       "4027  Cheez is a new app that sends you the pictures...   \n",
       "9028  Your Title: Embedded Systems Security Engineer...   \n",
       "\n",
       "                       Location  Salary_Min  Salary_Max  \\\n",
       "4027  Norwalk, Fairfield County    79567.11    79567.11   \n",
       "9028       Newark, Essex County    73579.69    73579.69   \n",
       "\n",
       "                   Date_Posted  \\\n",
       "4027 2024-05-02 13:07:11+00:00   \n",
       "9028 2024-11-18 14:07:37+00:00   \n",
       "\n",
       "                                                    URL  \n",
       "4027  https://www.adzuna.com/land/ad/4675830263?se=5...  \n",
       "9028  https://www.adzuna.com/details/4943080831?utm_...  "
      ]
     },
     "execution_count": 15,
     "metadata": {},
     "output_type": "execute_result"
    }
   ],
   "source": [
    "df.sample(n=2)"
   ]
  },
  {
   "cell_type": "markdown",
   "metadata": {},
   "source": [
    "Oppure puoi selezionare casualmente una frazione dei dati (ad esempio, il 10% delle righe), con o senza reinserimento (replacement).\n"
   ]
  },
  {
   "cell_type": "code",
   "execution_count": 16,
   "metadata": {},
   "outputs": [
    {
     "data": {
      "text/html": [
       "<div>\n",
       "<style scoped>\n",
       "    .dataframe tbody tr th:only-of-type {\n",
       "        vertical-align: middle;\n",
       "    }\n",
       "\n",
       "    .dataframe tbody tr th {\n",
       "        vertical-align: top;\n",
       "    }\n",
       "\n",
       "    .dataframe thead th {\n",
       "        text-align: right;\n",
       "    }\n",
       "</style>\n",
       "<table border=\"1\" class=\"dataframe\">\n",
       "  <thead>\n",
       "    <tr style=\"text-align: right;\">\n",
       "      <th></th>\n",
       "      <th>Job_Title</th>\n",
       "      <th>Company</th>\n",
       "      <th>Description</th>\n",
       "      <th>Location</th>\n",
       "      <th>Salary_Min</th>\n",
       "      <th>Salary_Max</th>\n",
       "      <th>Date_Posted</th>\n",
       "      <th>URL</th>\n",
       "    </tr>\n",
       "  </thead>\n",
       "  <tbody>\n",
       "    <tr>\n",
       "      <th>8894</th>\n",
       "      <td>Senior Security Engineer - Remote</td>\n",
       "      <td>Origami Risk</td>\n",
       "      <td>The Senior Security Engineer is a key contribu...</td>\n",
       "      <td>Highland Park, Dallas</td>\n",
       "      <td>120236.86</td>\n",
       "      <td>120236.86</td>\n",
       "      <td>2024-11-10 12:12:14+00:00</td>\n",
       "      <td>https://www.adzuna.com/details/4933711294?utm_...</td>\n",
       "    </tr>\n",
       "    <tr>\n",
       "      <th>7381</th>\n",
       "      <td>ServiceNow Developer &amp; DevOps Engineer</td>\n",
       "      <td>Apogee, A Boldyn Networks Company</td>\n",
       "      <td>We're Apogee, a Boldyn Networks Company. Nice ...</td>\n",
       "      <td>Atlanta, Fulton County</td>\n",
       "      <td>90000.00</td>\n",
       "      <td>130000.00</td>\n",
       "      <td>2024-10-11 20:12:03+00:00</td>\n",
       "      <td>https://www.adzuna.com/details/4899329530?utm_...</td>\n",
       "    </tr>\n",
       "    <tr>\n",
       "      <th>1720</th>\n",
       "      <td>Full Stack Developer (React &amp; Java) - FTE &amp; Re...</td>\n",
       "      <td>Now100</td>\n",
       "      <td>Company Description Now100 is committed to und...</td>\n",
       "      <td>Huntingdon, Huntingdon County</td>\n",
       "      <td>123089.02</td>\n",
       "      <td>123089.02</td>\n",
       "      <td>2024-10-30 14:15:17+00:00</td>\n",
       "      <td>https://www.adzuna.com/details/4918844341?utm_...</td>\n",
       "    </tr>\n",
       "    <tr>\n",
       "      <th>8852</th>\n",
       "      <td>Information Security Engineer - Remote Opportu...</td>\n",
       "      <td>Hire With Jarvis</td>\n",
       "      <td>Job Title: Information Security Engineer Locat...</td>\n",
       "      <td>Boston, Thomas County</td>\n",
       "      <td>110000.00</td>\n",
       "      <td>125000.00</td>\n",
       "      <td>2024-11-16 11:18:24+00:00</td>\n",
       "      <td>https://www.adzuna.com/details/4941524905?utm_...</td>\n",
       "    </tr>\n",
       "    <tr>\n",
       "      <th>8141</th>\n",
       "      <td>Senior Director - Cloud Network Engineering</td>\n",
       "      <td>USA01</td>\n",
       "      <td>Description About Ford Come help build a bette...</td>\n",
       "      <td>Dearborn, Wayne County</td>\n",
       "      <td>207986.56</td>\n",
       "      <td>207986.56</td>\n",
       "      <td>2024-11-01 05:48:35+00:00</td>\n",
       "      <td>https://www.adzuna.com/details/4921216836?utm_...</td>\n",
       "    </tr>\n",
       "    <tr>\n",
       "      <th>10163</th>\n",
       "      <td>Network Solutions Engineer</td>\n",
       "      <td>TriCore</td>\n",
       "      <td>A Career with a Proven Controls Engineering Te...</td>\n",
       "      <td>Melbourne, Brevard County</td>\n",
       "      <td>90074.98</td>\n",
       "      <td>90074.98</td>\n",
       "      <td>2024-11-17 05:53:23+00:00</td>\n",
       "      <td>https://www.adzuna.com/details/4942106769?utm_...</td>\n",
       "    </tr>\n",
       "  </tbody>\n",
       "</table>\n",
       "</div>"
      ],
      "text/plain": [
       "                                               Job_Title  \\\n",
       "8894                   Senior Security Engineer - Remote   \n",
       "7381              ServiceNow Developer & DevOps Engineer   \n",
       "1720   Full Stack Developer (React & Java) - FTE & Re...   \n",
       "8852   Information Security Engineer - Remote Opportu...   \n",
       "8141         Senior Director - Cloud Network Engineering   \n",
       "10163                         Network Solutions Engineer   \n",
       "\n",
       "                                 Company  \\\n",
       "8894                        Origami Risk   \n",
       "7381   Apogee, A Boldyn Networks Company   \n",
       "1720                              Now100   \n",
       "8852                    Hire With Jarvis   \n",
       "8141                               USA01   \n",
       "10163                            TriCore   \n",
       "\n",
       "                                             Description  \\\n",
       "8894   The Senior Security Engineer is a key contribu...   \n",
       "7381   We're Apogee, a Boldyn Networks Company. Nice ...   \n",
       "1720   Company Description Now100 is committed to und...   \n",
       "8852   Job Title: Information Security Engineer Locat...   \n",
       "8141   Description About Ford Come help build a bette...   \n",
       "10163  A Career with a Proven Controls Engineering Te...   \n",
       "\n",
       "                            Location  Salary_Min  Salary_Max  \\\n",
       "8894           Highland Park, Dallas   120236.86   120236.86   \n",
       "7381          Atlanta, Fulton County    90000.00   130000.00   \n",
       "1720   Huntingdon, Huntingdon County   123089.02   123089.02   \n",
       "8852           Boston, Thomas County   110000.00   125000.00   \n",
       "8141          Dearborn, Wayne County   207986.56   207986.56   \n",
       "10163      Melbourne, Brevard County    90074.98    90074.98   \n",
       "\n",
       "                    Date_Posted  \\\n",
       "8894  2024-11-10 12:12:14+00:00   \n",
       "7381  2024-10-11 20:12:03+00:00   \n",
       "1720  2024-10-30 14:15:17+00:00   \n",
       "8852  2024-11-16 11:18:24+00:00   \n",
       "8141  2024-11-01 05:48:35+00:00   \n",
       "10163 2024-11-17 05:53:23+00:00   \n",
       "\n",
       "                                                     URL  \n",
       "8894   https://www.adzuna.com/details/4933711294?utm_...  \n",
       "7381   https://www.adzuna.com/details/4899329530?utm_...  \n",
       "1720   https://www.adzuna.com/details/4918844341?utm_...  \n",
       "8852   https://www.adzuna.com/details/4941524905?utm_...  \n",
       "8141   https://www.adzuna.com/details/4921216836?utm_...  \n",
       "10163  https://www.adzuna.com/details/4942106769?utm_...  "
      ]
     },
     "execution_count": 16,
     "metadata": {},
     "output_type": "execute_result"
    }
   ],
   "source": [
    "df.sample(frac=0.0005, replace=False) # (senza replacement) → ogni riga può essere selezionata una sola volta nel campione.\n",
    "\n"
   ]
  },
  {
   "cell_type": "markdown",
   "metadata": {},
   "source": [
    "## Pandas Pivot \n",
    "\n",
    "È un'operazione che consente di ristrutturare un DataFrame, trasformando colonne in indici e viceversa. È utile quando vuoi riorganizzare i dati in una forma tabellare più leggibile o più adatta all’analisi.\n",
    "\n"
   ]
  },
  {
   "cell_type": "code",
   "execution_count": 17,
   "metadata": {},
   "outputs": [
    {
     "data": {
      "text/html": [
       "<div>\n",
       "<style scoped>\n",
       "    .dataframe tbody tr th:only-of-type {\n",
       "        vertical-align: middle;\n",
       "    }\n",
       "\n",
       "    .dataframe tbody tr th {\n",
       "        vertical-align: top;\n",
       "    }\n",
       "\n",
       "    .dataframe thead th {\n",
       "        text-align: right;\n",
       "    }\n",
       "</style>\n",
       "<table border=\"1\" class=\"dataframe\">\n",
       "  <thead>\n",
       "    <tr style=\"text-align: right;\">\n",
       "      <th></th>\n",
       "      <th>Data</th>\n",
       "      <th>Prodotto</th>\n",
       "      <th>Vendite</th>\n",
       "    </tr>\n",
       "  </thead>\n",
       "  <tbody>\n",
       "    <tr>\n",
       "      <th>0</th>\n",
       "      <td>2024-01</td>\n",
       "      <td>A</td>\n",
       "      <td>100</td>\n",
       "    </tr>\n",
       "    <tr>\n",
       "      <th>1</th>\n",
       "      <td>2024-01</td>\n",
       "      <td>B</td>\n",
       "      <td>150</td>\n",
       "    </tr>\n",
       "    <tr>\n",
       "      <th>2</th>\n",
       "      <td>2024-02</td>\n",
       "      <td>A</td>\n",
       "      <td>120</td>\n",
       "    </tr>\n",
       "    <tr>\n",
       "      <th>3</th>\n",
       "      <td>2024-02</td>\n",
       "      <td>B</td>\n",
       "      <td>130</td>\n",
       "    </tr>\n",
       "  </tbody>\n",
       "</table>\n",
       "</div>"
      ],
      "text/plain": [
       "      Data Prodotto  Vendite\n",
       "0  2024-01        A      100\n",
       "1  2024-01        B      150\n",
       "2  2024-02        A      120\n",
       "3  2024-02        B      130"
      ]
     },
     "execution_count": 17,
     "metadata": {},
     "output_type": "execute_result"
    }
   ],
   "source": [
    "df = pd.DataFrame({\n",
    "    'Data': ['2024-01', '2024-01', '2024-02', '2024-02'],\n",
    "    'Prodotto': ['A', 'B', 'A', 'B'],\n",
    "    'Vendite': [100, 150, 120, 130]\n",
    "})\n",
    "df"
   ]
  },
  {
   "cell_type": "code",
   "execution_count": 18,
   "metadata": {},
   "outputs": [
    {
     "data": {
      "text/html": [
       "<div>\n",
       "<style scoped>\n",
       "    .dataframe tbody tr th:only-of-type {\n",
       "        vertical-align: middle;\n",
       "    }\n",
       "\n",
       "    .dataframe tbody tr th {\n",
       "        vertical-align: top;\n",
       "    }\n",
       "\n",
       "    .dataframe thead th {\n",
       "        text-align: right;\n",
       "    }\n",
       "</style>\n",
       "<table border=\"1\" class=\"dataframe\">\n",
       "  <thead>\n",
       "    <tr style=\"text-align: right;\">\n",
       "      <th>Prodotto</th>\n",
       "      <th>A</th>\n",
       "      <th>B</th>\n",
       "    </tr>\n",
       "    <tr>\n",
       "      <th>Data</th>\n",
       "      <th></th>\n",
       "      <th></th>\n",
       "    </tr>\n",
       "  </thead>\n",
       "  <tbody>\n",
       "    <tr>\n",
       "      <th>2024-01</th>\n",
       "      <td>100</td>\n",
       "      <td>150</td>\n",
       "    </tr>\n",
       "    <tr>\n",
       "      <th>2024-02</th>\n",
       "      <td>120</td>\n",
       "      <td>130</td>\n",
       "    </tr>\n",
       "  </tbody>\n",
       "</table>\n",
       "</div>"
      ],
      "text/plain": [
       "Prodotto    A    B\n",
       "Data              \n",
       "2024-01   100  150\n",
       "2024-02   120  130"
      ]
     },
     "execution_count": 18,
     "metadata": {},
     "output_type": "execute_result"
    }
   ],
   "source": [
    "# rioganizziamo i dati di modo che Le righe (index) siano le date, Le colonne, i prodotti, e le celle contengono i valori di vendite.\n",
    "\n",
    "df.pivot(index='Data', columns='Prodotto', values='Vendite')"
   ]
  },
  {
   "cell_type": "markdown",
   "metadata": {},
   "source": [
    "\n",
    "\n",
    "- `pivot_table()` è una versione più flessibile di `pivot()`, perché ti permette di aggregare dati quando ci sono valori duplicati per la combinazione di indice e colonne.\n",
    "* Syntax: `pivot_table(values='column_to_aggregate', index='row_index', columns='column_index', aggfunc='mean')`\n"
   ]
  },
  {
   "cell_type": "code",
   "execution_count": 19,
   "metadata": {},
   "outputs": [
    {
     "data": {
      "text/html": [
       "<div>\n",
       "<style scoped>\n",
       "    .dataframe tbody tr th:only-of-type {\n",
       "        vertical-align: middle;\n",
       "    }\n",
       "\n",
       "    .dataframe tbody tr th {\n",
       "        vertical-align: top;\n",
       "    }\n",
       "\n",
       "    .dataframe thead th {\n",
       "        text-align: right;\n",
       "    }\n",
       "</style>\n",
       "<table border=\"1\" class=\"dataframe\">\n",
       "  <thead>\n",
       "    <tr style=\"text-align: right;\">\n",
       "      <th></th>\n",
       "      <th>Data</th>\n",
       "      <th>Prodotto</th>\n",
       "      <th>Vendite</th>\n",
       "    </tr>\n",
       "  </thead>\n",
       "  <tbody>\n",
       "    <tr>\n",
       "      <th>0</th>\n",
       "      <td>2024-01</td>\n",
       "      <td>A</td>\n",
       "      <td>100</td>\n",
       "    </tr>\n",
       "    <tr>\n",
       "      <th>1</th>\n",
       "      <td>2024-01</td>\n",
       "      <td>A</td>\n",
       "      <td>120</td>\n",
       "    </tr>\n",
       "    <tr>\n",
       "      <th>2</th>\n",
       "      <td>2024-01</td>\n",
       "      <td>B</td>\n",
       "      <td>150</td>\n",
       "    </tr>\n",
       "    <tr>\n",
       "      <th>3</th>\n",
       "      <td>2024-02</td>\n",
       "      <td>B</td>\n",
       "      <td>130</td>\n",
       "    </tr>\n",
       "  </tbody>\n",
       "</table>\n",
       "</div>"
      ],
      "text/plain": [
       "      Data Prodotto  Vendite\n",
       "0  2024-01        A      100\n",
       "1  2024-01        A      120\n",
       "2  2024-01        B      150\n",
       "3  2024-02        B      130"
      ]
     },
     "execution_count": 19,
     "metadata": {},
     "output_type": "execute_result"
    }
   ],
   "source": [
    "df = pd.DataFrame({\n",
    "    'Data': ['2024-01', '2024-01', '2024-01', '2024-02'],\n",
    "    'Prodotto': ['A', 'A', 'B', 'B'],\n",
    "    'Vendite': [100, 120, 150, 130]\n",
    "})\n",
    "df"
   ]
  },
  {
   "cell_type": "code",
   "execution_count": 20,
   "metadata": {},
   "outputs": [
    {
     "ename": "ValueError",
     "evalue": "Index contains duplicate entries, cannot reshape",
     "output_type": "error",
     "traceback": [
      "\u001b[31m---------------------------------------------------------------------------\u001b[39m",
      "\u001b[31mValueError\u001b[39m                                Traceback (most recent call last)",
      "\u001b[36mCell\u001b[39m\u001b[36m \u001b[39m\u001b[32mIn[20]\u001b[39m\u001b[32m, line 1\u001b[39m\n\u001b[32m----> \u001b[39m\u001b[32m1\u001b[39m \u001b[43mdf\u001b[49m\u001b[43m.\u001b[49m\u001b[43mpivot\u001b[49m\u001b[43m(\u001b[49m\u001b[43mindex\u001b[49m\u001b[43m=\u001b[49m\u001b[33;43m'\u001b[39;49m\u001b[33;43mData\u001b[39;49m\u001b[33;43m'\u001b[39;49m\u001b[43m,\u001b[49m\u001b[43m \u001b[49m\u001b[43mcolumns\u001b[49m\u001b[43m=\u001b[49m\u001b[33;43m'\u001b[39;49m\u001b[33;43mProdotto\u001b[39;49m\u001b[33;43m'\u001b[39;49m\u001b[43m,\u001b[49m\u001b[43m \u001b[49m\u001b[43mvalues\u001b[49m\u001b[43m=\u001b[49m\u001b[33;43m'\u001b[39;49m\u001b[33;43mVendite\u001b[39;49m\u001b[33;43m'\u001b[39;49m\u001b[43m)\u001b[49m\n",
      "\u001b[36mFile \u001b[39m\u001b[32m~/anaconda3/envs/ProgrammingLab2/lib/python3.12/site-packages/pandas/core/frame.py:9339\u001b[39m, in \u001b[36mDataFrame.pivot\u001b[39m\u001b[34m(self, columns, index, values)\u001b[39m\n\u001b[32m   9332\u001b[39m \u001b[38;5;129m@Substitution\u001b[39m(\u001b[33m\"\u001b[39m\u001b[33m\"\u001b[39m)\n\u001b[32m   9333\u001b[39m \u001b[38;5;129m@Appender\u001b[39m(_shared_docs[\u001b[33m\"\u001b[39m\u001b[33mpivot\u001b[39m\u001b[33m\"\u001b[39m])\n\u001b[32m   9334\u001b[39m \u001b[38;5;28;01mdef\u001b[39;00m\u001b[38;5;250m \u001b[39m\u001b[34mpivot\u001b[39m(\n\u001b[32m   9335\u001b[39m     \u001b[38;5;28mself\u001b[39m, *, columns, index=lib.no_default, values=lib.no_default\n\u001b[32m   9336\u001b[39m ) -> DataFrame:\n\u001b[32m   9337\u001b[39m     \u001b[38;5;28;01mfrom\u001b[39;00m\u001b[38;5;250m \u001b[39m\u001b[34;01mpandas\u001b[39;00m\u001b[34;01m.\u001b[39;00m\u001b[34;01mcore\u001b[39;00m\u001b[34;01m.\u001b[39;00m\u001b[34;01mreshape\u001b[39;00m\u001b[34;01m.\u001b[39;00m\u001b[34;01mpivot\u001b[39;00m\u001b[38;5;250m \u001b[39m\u001b[38;5;28;01mimport\u001b[39;00m pivot\n\u001b[32m-> \u001b[39m\u001b[32m9339\u001b[39m     \u001b[38;5;28;01mreturn\u001b[39;00m \u001b[43mpivot\u001b[49m\u001b[43m(\u001b[49m\u001b[38;5;28;43mself\u001b[39;49m\u001b[43m,\u001b[49m\u001b[43m \u001b[49m\u001b[43mindex\u001b[49m\u001b[43m=\u001b[49m\u001b[43mindex\u001b[49m\u001b[43m,\u001b[49m\u001b[43m \u001b[49m\u001b[43mcolumns\u001b[49m\u001b[43m=\u001b[49m\u001b[43mcolumns\u001b[49m\u001b[43m,\u001b[49m\u001b[43m \u001b[49m\u001b[43mvalues\u001b[49m\u001b[43m=\u001b[49m\u001b[43mvalues\u001b[49m\u001b[43m)\u001b[49m\n",
      "\u001b[36mFile \u001b[39m\u001b[32m~/anaconda3/envs/ProgrammingLab2/lib/python3.12/site-packages/pandas/core/reshape/pivot.py:570\u001b[39m, in \u001b[36mpivot\u001b[39m\u001b[34m(data, columns, index, values)\u001b[39m\n\u001b[32m    566\u001b[39m         indexed = data._constructor_sliced(data[values]._values, index=multiindex)\n\u001b[32m    567\u001b[39m \u001b[38;5;66;03m# error: Argument 1 to \"unstack\" of \"DataFrame\" has incompatible type \"Union\u001b[39;00m\n\u001b[32m    568\u001b[39m \u001b[38;5;66;03m# [List[Any], ExtensionArray, ndarray[Any, Any], Index, Series]\"; expected\u001b[39;00m\n\u001b[32m    569\u001b[39m \u001b[38;5;66;03m# \"Hashable\"\u001b[39;00m\n\u001b[32m--> \u001b[39m\u001b[32m570\u001b[39m result = \u001b[43mindexed\u001b[49m\u001b[43m.\u001b[49m\u001b[43munstack\u001b[49m\u001b[43m(\u001b[49m\u001b[43mcolumns_listlike\u001b[49m\u001b[43m)\u001b[49m  \u001b[38;5;66;03m# type: ignore[arg-type]\u001b[39;00m\n\u001b[32m    571\u001b[39m result.index.names = [\n\u001b[32m    572\u001b[39m     name \u001b[38;5;28;01mif\u001b[39;00m name \u001b[38;5;129;01mis\u001b[39;00m \u001b[38;5;129;01mnot\u001b[39;00m lib.no_default \u001b[38;5;28;01melse\u001b[39;00m \u001b[38;5;28;01mNone\u001b[39;00m \u001b[38;5;28;01mfor\u001b[39;00m name \u001b[38;5;129;01min\u001b[39;00m result.index.names\n\u001b[32m    573\u001b[39m ]\n\u001b[32m    575\u001b[39m \u001b[38;5;28;01mreturn\u001b[39;00m result\n",
      "\u001b[36mFile \u001b[39m\u001b[32m~/anaconda3/envs/ProgrammingLab2/lib/python3.12/site-packages/pandas/core/series.py:4615\u001b[39m, in \u001b[36mSeries.unstack\u001b[39m\u001b[34m(self, level, fill_value, sort)\u001b[39m\n\u001b[32m   4570\u001b[39m \u001b[38;5;250m\u001b[39m\u001b[33;03m\"\"\"\u001b[39;00m\n\u001b[32m   4571\u001b[39m \u001b[33;03mUnstack, also known as pivot, Series with MultiIndex to produce DataFrame.\u001b[39;00m\n\u001b[32m   4572\u001b[39m \n\u001b[32m   (...)\u001b[39m\u001b[32m   4611\u001b[39m \u001b[33;03mb    2    4\u001b[39;00m\n\u001b[32m   4612\u001b[39m \u001b[33;03m\"\"\"\u001b[39;00m\n\u001b[32m   4613\u001b[39m \u001b[38;5;28;01mfrom\u001b[39;00m\u001b[38;5;250m \u001b[39m\u001b[34;01mpandas\u001b[39;00m\u001b[34;01m.\u001b[39;00m\u001b[34;01mcore\u001b[39;00m\u001b[34;01m.\u001b[39;00m\u001b[34;01mreshape\u001b[39;00m\u001b[34;01m.\u001b[39;00m\u001b[34;01mreshape\u001b[39;00m\u001b[38;5;250m \u001b[39m\u001b[38;5;28;01mimport\u001b[39;00m unstack\n\u001b[32m-> \u001b[39m\u001b[32m4615\u001b[39m \u001b[38;5;28;01mreturn\u001b[39;00m \u001b[43munstack\u001b[49m\u001b[43m(\u001b[49m\u001b[38;5;28;43mself\u001b[39;49m\u001b[43m,\u001b[49m\u001b[43m \u001b[49m\u001b[43mlevel\u001b[49m\u001b[43m,\u001b[49m\u001b[43m \u001b[49m\u001b[43mfill_value\u001b[49m\u001b[43m,\u001b[49m\u001b[43m \u001b[49m\u001b[43msort\u001b[49m\u001b[43m)\u001b[49m\n",
      "\u001b[36mFile \u001b[39m\u001b[32m~/anaconda3/envs/ProgrammingLab2/lib/python3.12/site-packages/pandas/core/reshape/reshape.py:517\u001b[39m, in \u001b[36munstack\u001b[39m\u001b[34m(obj, level, fill_value, sort)\u001b[39m\n\u001b[32m    515\u001b[39m \u001b[38;5;28;01mif\u001b[39;00m is_1d_only_ea_dtype(obj.dtype):\n\u001b[32m    516\u001b[39m     \u001b[38;5;28;01mreturn\u001b[39;00m _unstack_extension_series(obj, level, fill_value, sort=sort)\n\u001b[32m--> \u001b[39m\u001b[32m517\u001b[39m unstacker = \u001b[43m_Unstacker\u001b[49m\u001b[43m(\u001b[49m\n\u001b[32m    518\u001b[39m \u001b[43m    \u001b[49m\u001b[43mobj\u001b[49m\u001b[43m.\u001b[49m\u001b[43mindex\u001b[49m\u001b[43m,\u001b[49m\u001b[43m \u001b[49m\u001b[43mlevel\u001b[49m\u001b[43m=\u001b[49m\u001b[43mlevel\u001b[49m\u001b[43m,\u001b[49m\u001b[43m \u001b[49m\u001b[43mconstructor\u001b[49m\u001b[43m=\u001b[49m\u001b[43mobj\u001b[49m\u001b[43m.\u001b[49m\u001b[43m_constructor_expanddim\u001b[49m\u001b[43m,\u001b[49m\u001b[43m \u001b[49m\u001b[43msort\u001b[49m\u001b[43m=\u001b[49m\u001b[43msort\u001b[49m\n\u001b[32m    519\u001b[39m \u001b[43m\u001b[49m\u001b[43m)\u001b[49m\n\u001b[32m    520\u001b[39m \u001b[38;5;28;01mreturn\u001b[39;00m unstacker.get_result(\n\u001b[32m    521\u001b[39m     obj._values, value_columns=\u001b[38;5;28;01mNone\u001b[39;00m, fill_value=fill_value\n\u001b[32m    522\u001b[39m )\n",
      "\u001b[36mFile \u001b[39m\u001b[32m~/anaconda3/envs/ProgrammingLab2/lib/python3.12/site-packages/pandas/core/reshape/reshape.py:154\u001b[39m, in \u001b[36m_Unstacker.__init__\u001b[39m\u001b[34m(self, index, level, constructor, sort)\u001b[39m\n\u001b[32m    146\u001b[39m \u001b[38;5;28;01mif\u001b[39;00m num_cells > np.iinfo(np.int32).max:\n\u001b[32m    147\u001b[39m     warnings.warn(\n\u001b[32m    148\u001b[39m         \u001b[33mf\u001b[39m\u001b[33m\"\u001b[39m\u001b[33mThe following operation may generate \u001b[39m\u001b[38;5;132;01m{\u001b[39;00mnum_cells\u001b[38;5;132;01m}\u001b[39;00m\u001b[33m cells \u001b[39m\u001b[33m\"\u001b[39m\n\u001b[32m    149\u001b[39m         \u001b[33mf\u001b[39m\u001b[33m\"\u001b[39m\u001b[33min the resulting pandas object.\u001b[39m\u001b[33m\"\u001b[39m,\n\u001b[32m    150\u001b[39m         PerformanceWarning,\n\u001b[32m    151\u001b[39m         stacklevel=find_stack_level(),\n\u001b[32m    152\u001b[39m     )\n\u001b[32m--> \u001b[39m\u001b[32m154\u001b[39m \u001b[38;5;28;43mself\u001b[39;49m\u001b[43m.\u001b[49m\u001b[43m_make_selectors\u001b[49m\u001b[43m(\u001b[49m\u001b[43m)\u001b[49m\n",
      "\u001b[36mFile \u001b[39m\u001b[32m~/anaconda3/envs/ProgrammingLab2/lib/python3.12/site-packages/pandas/core/reshape/reshape.py:210\u001b[39m, in \u001b[36m_Unstacker._make_selectors\u001b[39m\u001b[34m(self)\u001b[39m\n\u001b[32m    207\u001b[39m mask.put(selector, \u001b[38;5;28;01mTrue\u001b[39;00m)\n\u001b[32m    209\u001b[39m \u001b[38;5;28;01mif\u001b[39;00m mask.sum() < \u001b[38;5;28mlen\u001b[39m(\u001b[38;5;28mself\u001b[39m.index):\n\u001b[32m--> \u001b[39m\u001b[32m210\u001b[39m     \u001b[38;5;28;01mraise\u001b[39;00m \u001b[38;5;167;01mValueError\u001b[39;00m(\u001b[33m\"\u001b[39m\u001b[33mIndex contains duplicate entries, cannot reshape\u001b[39m\u001b[33m\"\u001b[39m)\n\u001b[32m    212\u001b[39m \u001b[38;5;28mself\u001b[39m.group_index = comp_index\n\u001b[32m    213\u001b[39m \u001b[38;5;28mself\u001b[39m.mask = mask\n",
      "\u001b[31mValueError\u001b[39m: Index contains duplicate entries, cannot reshape"
     ]
    }
   ],
   "source": [
    "df.pivot(index='Data', columns='Prodotto', values='Vendite')"
   ]
  },
  {
   "cell_type": "code",
   "execution_count": 21,
   "metadata": {},
   "outputs": [
    {
     "data": {
      "text/html": [
       "<div>\n",
       "<style scoped>\n",
       "    .dataframe tbody tr th:only-of-type {\n",
       "        vertical-align: middle;\n",
       "    }\n",
       "\n",
       "    .dataframe tbody tr th {\n",
       "        vertical-align: top;\n",
       "    }\n",
       "\n",
       "    .dataframe thead th {\n",
       "        text-align: right;\n",
       "    }\n",
       "</style>\n",
       "<table border=\"1\" class=\"dataframe\">\n",
       "  <thead>\n",
       "    <tr style=\"text-align: right;\">\n",
       "      <th>Prodotto</th>\n",
       "      <th>A</th>\n",
       "      <th>B</th>\n",
       "    </tr>\n",
       "    <tr>\n",
       "      <th>Data</th>\n",
       "      <th></th>\n",
       "      <th></th>\n",
       "    </tr>\n",
       "  </thead>\n",
       "  <tbody>\n",
       "    <tr>\n",
       "      <th>2024-01</th>\n",
       "      <td>220.0</td>\n",
       "      <td>150.0</td>\n",
       "    </tr>\n",
       "    <tr>\n",
       "      <th>2024-02</th>\n",
       "      <td>NaN</td>\n",
       "      <td>130.0</td>\n",
       "    </tr>\n",
       "  </tbody>\n",
       "</table>\n",
       "</div>"
      ],
      "text/plain": [
       "Prodotto      A      B\n",
       "Data                  \n",
       "2024-01   220.0  150.0\n",
       "2024-02     NaN  130.0"
      ]
     },
     "execution_count": 21,
     "metadata": {},
     "output_type": "execute_result"
    }
   ],
   "source": [
    "df.pivot_table(index='Data', columns='Prodotto', values='Vendite', aggfunc='sum')"
   ]
  },
  {
   "cell_type": "code",
   "execution_count": 22,
   "metadata": {},
   "outputs": [
    {
     "data": {
      "text/html": [
       "<div>\n",
       "<style scoped>\n",
       "    .dataframe tbody tr th:only-of-type {\n",
       "        vertical-align: middle;\n",
       "    }\n",
       "\n",
       "    .dataframe tbody tr th {\n",
       "        vertical-align: top;\n",
       "    }\n",
       "\n",
       "    .dataframe thead th {\n",
       "        text-align: right;\n",
       "    }\n",
       "</style>\n",
       "<table border=\"1\" class=\"dataframe\">\n",
       "  <thead>\n",
       "    <tr style=\"text-align: right;\">\n",
       "      <th></th>\n",
       "      <th>Vendite</th>\n",
       "    </tr>\n",
       "    <tr>\n",
       "      <th>Prodotto</th>\n",
       "      <th></th>\n",
       "    </tr>\n",
       "  </thead>\n",
       "  <tbody>\n",
       "    <tr>\n",
       "      <th>A</th>\n",
       "      <td>220</td>\n",
       "    </tr>\n",
       "    <tr>\n",
       "      <th>B</th>\n",
       "      <td>280</td>\n",
       "    </tr>\n",
       "  </tbody>\n",
       "</table>\n",
       "</div>"
      ],
      "text/plain": [
       "          Vendite\n",
       "Prodotto         \n",
       "A             220\n",
       "B             280"
      ]
     },
     "execution_count": 22,
     "metadata": {},
     "output_type": "execute_result"
    }
   ],
   "source": [
    "df.pivot_table(index='Prodotto', values='Vendite', aggfunc='sum')"
   ]
  },
  {
   "cell_type": "code",
   "execution_count": 23,
   "metadata": {},
   "outputs": [
    {
     "data": {
      "text/plain": [
       "Prodotto\n",
       "A    220\n",
       "B    280\n",
       "Name: Vendite, dtype: int64"
      ]
     },
     "execution_count": 23,
     "metadata": {},
     "output_type": "execute_result"
    }
   ],
   "source": [
    "df.groupby('Prodotto')['Vendite'].sum()\n"
   ]
  },
  {
   "cell_type": "markdown",
   "metadata": {},
   "source": [
    "## Esempio\n",
    "Contiamo quanti lavori per ogni tipo ci sono"
   ]
  },
  {
   "cell_type": "code",
   "execution_count": 26,
   "metadata": {},
   "outputs": [
    {
     "data": {
      "text/plain": [
       "Job_Title\n",
       "Software Engineer                                                     311\n",
       "Product Manager  Social app startup                                   282\n",
       "Associate Product Manager  Social app startup                         277\n",
       "2025 Virtual Summer Intern Program - Product Analyst Intern (Xome)    267\n",
       "Real-Time Software Engineer                                           266\n",
       "                                                                     ... \n",
       "Information Systems Security Engineer (ISSE) - GUAM                     1\n",
       "Information Systems Security Engineer (ISSE -Mid Level)                 1\n",
       "Information Systems Analyst (Onsite)                                    1\n",
       "Information System Security Engineers                                   1\n",
       "Information Systems Security Engineer III                               1\n",
       "Length: 4848, dtype: int64"
      ]
     },
     "execution_count": 26,
     "metadata": {},
     "output_type": "execute_result"
    }
   ],
   "source": [
    "df.pivot_table(index='Job_Title', aggfunc='size').sort_values(ascending=False)"
   ]
  },
  {
   "cell_type": "code",
   "execution_count": 27,
   "metadata": {},
   "outputs": [
    {
     "data": {
      "text/plain": [
       "Job_Title\n",
       "Software Engineer                                                     311\n",
       "Product Manager  Social app startup                                   282\n",
       "Associate Product Manager  Social app startup                         277\n",
       "2025 Virtual Summer Intern Program - Product Analyst Intern (Xome)    267\n",
       "Real-Time Software Engineer                                           266\n",
       "                                                                     ... \n",
       "Information Systems Security Engineer (ISSE) - GUAM                     1\n",
       "Information Systems Security Engineer (ISSE -Mid Level)                 1\n",
       "Information Systems Analyst (Onsite)                                    1\n",
       "Information System Security Engineers                                   1\n",
       "Information Systems Security Engineer III                               1\n",
       "Length: 4848, dtype: int64"
      ]
     },
     "execution_count": 27,
     "metadata": {},
     "output_type": "execute_result"
    }
   ],
   "source": [
    "df.groupby('Job_Title').size().sort_values(ascending=False)"
   ]
  }
 ],
 "metadata": {
  "colab": {
   "authorship_tag": "ABX9TyO7QGE4EmxtJp+NvT7AZdbk",
   "provenance": []
  },
  "kernelspec": {
   "display_name": "ProgrammingLab2",
   "language": "python",
   "name": "python3"
  },
  "language_info": {
   "codemirror_mode": {
    "name": "ipython",
    "version": 3
   },
   "file_extension": ".py",
   "mimetype": "text/x-python",
   "name": "python",
   "nbconvert_exporter": "python",
   "pygments_lexer": "ipython3",
   "version": "3.12.9"
  }
 },
 "nbformat": 4,
 "nbformat_minor": 0
}
