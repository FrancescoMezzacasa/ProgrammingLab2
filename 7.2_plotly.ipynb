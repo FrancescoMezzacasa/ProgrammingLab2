{
 "cells": [
  {
   "cell_type": "markdown",
   "metadata": {},
   "source": [
    "# Plotly\n",
    "\n",
    "**Plotly** è una libreria di visualizzazione dati interattiva, utilizzata in Python (e altri linguaggi) per creare grafici dinamici, eleganti e altamente personalizzabili. È molto utile in ambito di analisi dati, data science e applicazioni web.\n",
    "\n",
    "## Caratteristiche principali\n",
    "\n",
    "- **Grafici interattivi**: supporta zoom, pan, hover e selezioni.\n",
    "- **Supporto a grafici avanzati**: come grafici 3D, mappe geografiche, heatmap, subplots e molto altro.\n",
    "- **Facile integrazione**: compatibile con Jupyter Notebook, Dash,  Django.\n",
    "- **Esportazione**: esporta i grafici in HTML, PNG, JPEG, SVG, PDF.\n",
    "- **Compatibilità**: funziona con Pandas, NumPy e altre librerie scientifiche.\n",
    "\n",
    "Sito ufficiale: https://plotly.com/python/\n"
   ]
  },
  {
   "cell_type": "code",
   "execution_count": 1,
   "metadata": {},
   "outputs": [],
   "source": [
    "import pandas as pd\n",
    "import seaborn as sns\n",
    "\n",
    "from pandas.plotting import scatter_matrix\n",
    "from matplotlib import pyplot as plotly  # NB: attenzione: qui si sta rinominando pyplot come 'plotly'\n",
    "from matplotlib import font_manager as font_manager\n",
    "from datetime import datetime, timedelta\n",
    "import numpy as np\n",
    "\n",
    "\n",
    "import plotly.figure_factory as ff"
   ]
  },
  {
   "cell_type": "code",
   "execution_count": 2,
   "metadata": {},
   "outputs": [
    {
     "data": {
      "text/html": [
       "<div>\n",
       "<style scoped>\n",
       "    .dataframe tbody tr th:only-of-type {\n",
       "        vertical-align: middle;\n",
       "    }\n",
       "\n",
       "    .dataframe tbody tr th {\n",
       "        vertical-align: top;\n",
       "    }\n",
       "\n",
       "    .dataframe thead th {\n",
       "        text-align: right;\n",
       "    }\n",
       "</style>\n",
       "<table border=\"1\" class=\"dataframe\">\n",
       "  <thead>\n",
       "    <tr style=\"text-align: right;\">\n",
       "      <th></th>\n",
       "      <th>Date</th>\n",
       "      <th>Sales</th>\n",
       "      <th>MonthIndex</th>\n",
       "    </tr>\n",
       "  </thead>\n",
       "  <tbody>\n",
       "    <tr>\n",
       "      <th>0</th>\n",
       "      <td>01-01-2012</td>\n",
       "      <td>266.0</td>\n",
       "      <td>0</td>\n",
       "    </tr>\n",
       "    <tr>\n",
       "      <th>1</th>\n",
       "      <td>01-02-2012</td>\n",
       "      <td>145.9</td>\n",
       "      <td>1</td>\n",
       "    </tr>\n",
       "    <tr>\n",
       "      <th>2</th>\n",
       "      <td>01-03-2012</td>\n",
       "      <td>183.1</td>\n",
       "      <td>2</td>\n",
       "    </tr>\n",
       "    <tr>\n",
       "      <th>3</th>\n",
       "      <td>01-04-2012</td>\n",
       "      <td>119.3</td>\n",
       "      <td>3</td>\n",
       "    </tr>\n",
       "    <tr>\n",
       "      <th>4</th>\n",
       "      <td>01-05-2012</td>\n",
       "      <td>180.3</td>\n",
       "      <td>4</td>\n",
       "    </tr>\n",
       "  </tbody>\n",
       "</table>\n",
       "</div>"
      ],
      "text/plain": [
       "         Date  Sales  MonthIndex\n",
       "0  01-01-2012  266.0           0\n",
       "1  01-02-2012  145.9           1\n",
       "2  01-03-2012  183.1           2\n",
       "3  01-04-2012  119.3           3\n",
       "4  01-05-2012  180.3           4"
      ]
     },
     "execution_count": 2,
     "metadata": {},
     "output_type": "execute_result"
    }
   ],
   "source": [
    "import plotly.express as px\n",
    "\n",
    "df = pd.read_csv(\"shampoo_sales.csv\")\n",
    "df[\"MonthIndex\"] = range(len(df))\n",
    "df.head()"
   ]
  },
  {
   "cell_type": "markdown",
   "metadata": {},
   "source": [
    "### Grafico in linea"
   ]
  },
  {
   "cell_type": "code",
   "execution_count": 3,
   "metadata": {},
   "outputs": [
    {
     "data": {
      "application/vnd.plotly.v1+json": {
       "config": {
        "plotlyServerURL": "https://plot.ly"
       },
       "data": [
        {
         "hovertemplate": "MonthIndex=%{x}<br>Sales=%{y}<extra></extra>",
         "legendgroup": "",
         "line": {
          "color": "#636efa",
          "dash": "solid"
         },
         "marker": {
          "symbol": "circle"
         },
         "mode": "lines",
         "name": "",
         "orientation": "v",
         "showlegend": false,
         "type": "scatter",
         "x": {
          "bdata": "AAECAwQFBgcICQoLDA0ODxAREhMUFRYXGBkaGxwdHh8gISIj",
          "dtype": "i1"
         },
         "xaxis": "x",
         "y": {
          "bdata": "AAAAAACgcEDNzMzMzDxiQDMzMzMz42ZAMzMzMzPTXUCamZmZmYlmQAAAAAAAEGVAmpmZmZn5bEAAAAAAABBsQJqZmZmZGWhAmpmZmZm5XkAAAAAAAAh1QM3MzMzMPGdAmpmZmZlJaEAAAAAAALBiQDMzMzMzQ2pAzczMzMwUcUDNzMzMzOxnQAAAAAAA8HFAAAAAAABAbECamZmZmflyQGZmZmZmHnJAmpmZmZlZekAAAAAAAIhwQM3MzMzMZHVAMzMzMzM7dUBmZmZmZoZ7QGZmZmZmvnNAzczMzMx0e0DNzMzMzBR5QGZmZmZmVntAAAAAAAD8gUCamZmZmXl5QAAAAAAAUIVAzczMzMy0fUBmZmZmZiqCQDMzMzMzN4RA",
          "dtype": "f8"
         },
         "yaxis": "y"
        }
       ],
       "layout": {
        "legend": {
         "tracegroupgap": 0
        },
        "template": {
         "data": {
          "bar": [
           {
            "error_x": {
             "color": "#2a3f5f"
            },
            "error_y": {
             "color": "#2a3f5f"
            },
            "marker": {
             "line": {
              "color": "#E5ECF6",
              "width": 0.5
             },
             "pattern": {
              "fillmode": "overlay",
              "size": 10,
              "solidity": 0.2
             }
            },
            "type": "bar"
           }
          ],
          "barpolar": [
           {
            "marker": {
             "line": {
              "color": "#E5ECF6",
              "width": 0.5
             },
             "pattern": {
              "fillmode": "overlay",
              "size": 10,
              "solidity": 0.2
             }
            },
            "type": "barpolar"
           }
          ],
          "carpet": [
           {
            "aaxis": {
             "endlinecolor": "#2a3f5f",
             "gridcolor": "white",
             "linecolor": "white",
             "minorgridcolor": "white",
             "startlinecolor": "#2a3f5f"
            },
            "baxis": {
             "endlinecolor": "#2a3f5f",
             "gridcolor": "white",
             "linecolor": "white",
             "minorgridcolor": "white",
             "startlinecolor": "#2a3f5f"
            },
            "type": "carpet"
           }
          ],
          "choropleth": [
           {
            "colorbar": {
             "outlinewidth": 0,
             "ticks": ""
            },
            "type": "choropleth"
           }
          ],
          "contour": [
           {
            "colorbar": {
             "outlinewidth": 0,
             "ticks": ""
            },
            "colorscale": [
             [
              0,
              "#0d0887"
             ],
             [
              0.1111111111111111,
              "#46039f"
             ],
             [
              0.2222222222222222,
              "#7201a8"
             ],
             [
              0.3333333333333333,
              "#9c179e"
             ],
             [
              0.4444444444444444,
              "#bd3786"
             ],
             [
              0.5555555555555556,
              "#d8576b"
             ],
             [
              0.6666666666666666,
              "#ed7953"
             ],
             [
              0.7777777777777778,
              "#fb9f3a"
             ],
             [
              0.8888888888888888,
              "#fdca26"
             ],
             [
              1,
              "#f0f921"
             ]
            ],
            "type": "contour"
           }
          ],
          "contourcarpet": [
           {
            "colorbar": {
             "outlinewidth": 0,
             "ticks": ""
            },
            "type": "contourcarpet"
           }
          ],
          "heatmap": [
           {
            "colorbar": {
             "outlinewidth": 0,
             "ticks": ""
            },
            "colorscale": [
             [
              0,
              "#0d0887"
             ],
             [
              0.1111111111111111,
              "#46039f"
             ],
             [
              0.2222222222222222,
              "#7201a8"
             ],
             [
              0.3333333333333333,
              "#9c179e"
             ],
             [
              0.4444444444444444,
              "#bd3786"
             ],
             [
              0.5555555555555556,
              "#d8576b"
             ],
             [
              0.6666666666666666,
              "#ed7953"
             ],
             [
              0.7777777777777778,
              "#fb9f3a"
             ],
             [
              0.8888888888888888,
              "#fdca26"
             ],
             [
              1,
              "#f0f921"
             ]
            ],
            "type": "heatmap"
           }
          ],
          "histogram": [
           {
            "marker": {
             "pattern": {
              "fillmode": "overlay",
              "size": 10,
              "solidity": 0.2
             }
            },
            "type": "histogram"
           }
          ],
          "histogram2d": [
           {
            "colorbar": {
             "outlinewidth": 0,
             "ticks": ""
            },
            "colorscale": [
             [
              0,
              "#0d0887"
             ],
             [
              0.1111111111111111,
              "#46039f"
             ],
             [
              0.2222222222222222,
              "#7201a8"
             ],
             [
              0.3333333333333333,
              "#9c179e"
             ],
             [
              0.4444444444444444,
              "#bd3786"
             ],
             [
              0.5555555555555556,
              "#d8576b"
             ],
             [
              0.6666666666666666,
              "#ed7953"
             ],
             [
              0.7777777777777778,
              "#fb9f3a"
             ],
             [
              0.8888888888888888,
              "#fdca26"
             ],
             [
              1,
              "#f0f921"
             ]
            ],
            "type": "histogram2d"
           }
          ],
          "histogram2dcontour": [
           {
            "colorbar": {
             "outlinewidth": 0,
             "ticks": ""
            },
            "colorscale": [
             [
              0,
              "#0d0887"
             ],
             [
              0.1111111111111111,
              "#46039f"
             ],
             [
              0.2222222222222222,
              "#7201a8"
             ],
             [
              0.3333333333333333,
              "#9c179e"
             ],
             [
              0.4444444444444444,
              "#bd3786"
             ],
             [
              0.5555555555555556,
              "#d8576b"
             ],
             [
              0.6666666666666666,
              "#ed7953"
             ],
             [
              0.7777777777777778,
              "#fb9f3a"
             ],
             [
              0.8888888888888888,
              "#fdca26"
             ],
             [
              1,
              "#f0f921"
             ]
            ],
            "type": "histogram2dcontour"
           }
          ],
          "mesh3d": [
           {
            "colorbar": {
             "outlinewidth": 0,
             "ticks": ""
            },
            "type": "mesh3d"
           }
          ],
          "parcoords": [
           {
            "line": {
             "colorbar": {
              "outlinewidth": 0,
              "ticks": ""
             }
            },
            "type": "parcoords"
           }
          ],
          "pie": [
           {
            "automargin": true,
            "type": "pie"
           }
          ],
          "scatter": [
           {
            "fillpattern": {
             "fillmode": "overlay",
             "size": 10,
             "solidity": 0.2
            },
            "type": "scatter"
           }
          ],
          "scatter3d": [
           {
            "line": {
             "colorbar": {
              "outlinewidth": 0,
              "ticks": ""
             }
            },
            "marker": {
             "colorbar": {
              "outlinewidth": 0,
              "ticks": ""
             }
            },
            "type": "scatter3d"
           }
          ],
          "scattercarpet": [
           {
            "marker": {
             "colorbar": {
              "outlinewidth": 0,
              "ticks": ""
             }
            },
            "type": "scattercarpet"
           }
          ],
          "scattergeo": [
           {
            "marker": {
             "colorbar": {
              "outlinewidth": 0,
              "ticks": ""
             }
            },
            "type": "scattergeo"
           }
          ],
          "scattergl": [
           {
            "marker": {
             "colorbar": {
              "outlinewidth": 0,
              "ticks": ""
             }
            },
            "type": "scattergl"
           }
          ],
          "scattermap": [
           {
            "marker": {
             "colorbar": {
              "outlinewidth": 0,
              "ticks": ""
             }
            },
            "type": "scattermap"
           }
          ],
          "scattermapbox": [
           {
            "marker": {
             "colorbar": {
              "outlinewidth": 0,
              "ticks": ""
             }
            },
            "type": "scattermapbox"
           }
          ],
          "scatterpolar": [
           {
            "marker": {
             "colorbar": {
              "outlinewidth": 0,
              "ticks": ""
             }
            },
            "type": "scatterpolar"
           }
          ],
          "scatterpolargl": [
           {
            "marker": {
             "colorbar": {
              "outlinewidth": 0,
              "ticks": ""
             }
            },
            "type": "scatterpolargl"
           }
          ],
          "scatterternary": [
           {
            "marker": {
             "colorbar": {
              "outlinewidth": 0,
              "ticks": ""
             }
            },
            "type": "scatterternary"
           }
          ],
          "surface": [
           {
            "colorbar": {
             "outlinewidth": 0,
             "ticks": ""
            },
            "colorscale": [
             [
              0,
              "#0d0887"
             ],
             [
              0.1111111111111111,
              "#46039f"
             ],
             [
              0.2222222222222222,
              "#7201a8"
             ],
             [
              0.3333333333333333,
              "#9c179e"
             ],
             [
              0.4444444444444444,
              "#bd3786"
             ],
             [
              0.5555555555555556,
              "#d8576b"
             ],
             [
              0.6666666666666666,
              "#ed7953"
             ],
             [
              0.7777777777777778,
              "#fb9f3a"
             ],
             [
              0.8888888888888888,
              "#fdca26"
             ],
             [
              1,
              "#f0f921"
             ]
            ],
            "type": "surface"
           }
          ],
          "table": [
           {
            "cells": {
             "fill": {
              "color": "#EBF0F8"
             },
             "line": {
              "color": "white"
             }
            },
            "header": {
             "fill": {
              "color": "#C8D4E3"
             },
             "line": {
              "color": "white"
             }
            },
            "type": "table"
           }
          ]
         },
         "layout": {
          "annotationdefaults": {
           "arrowcolor": "#2a3f5f",
           "arrowhead": 0,
           "arrowwidth": 1
          },
          "autotypenumbers": "strict",
          "coloraxis": {
           "colorbar": {
            "outlinewidth": 0,
            "ticks": ""
           }
          },
          "colorscale": {
           "diverging": [
            [
             0,
             "#8e0152"
            ],
            [
             0.1,
             "#c51b7d"
            ],
            [
             0.2,
             "#de77ae"
            ],
            [
             0.3,
             "#f1b6da"
            ],
            [
             0.4,
             "#fde0ef"
            ],
            [
             0.5,
             "#f7f7f7"
            ],
            [
             0.6,
             "#e6f5d0"
            ],
            [
             0.7,
             "#b8e186"
            ],
            [
             0.8,
             "#7fbc41"
            ],
            [
             0.9,
             "#4d9221"
            ],
            [
             1,
             "#276419"
            ]
           ],
           "sequential": [
            [
             0,
             "#0d0887"
            ],
            [
             0.1111111111111111,
             "#46039f"
            ],
            [
             0.2222222222222222,
             "#7201a8"
            ],
            [
             0.3333333333333333,
             "#9c179e"
            ],
            [
             0.4444444444444444,
             "#bd3786"
            ],
            [
             0.5555555555555556,
             "#d8576b"
            ],
            [
             0.6666666666666666,
             "#ed7953"
            ],
            [
             0.7777777777777778,
             "#fb9f3a"
            ],
            [
             0.8888888888888888,
             "#fdca26"
            ],
            [
             1,
             "#f0f921"
            ]
           ],
           "sequentialminus": [
            [
             0,
             "#0d0887"
            ],
            [
             0.1111111111111111,
             "#46039f"
            ],
            [
             0.2222222222222222,
             "#7201a8"
            ],
            [
             0.3333333333333333,
             "#9c179e"
            ],
            [
             0.4444444444444444,
             "#bd3786"
            ],
            [
             0.5555555555555556,
             "#d8576b"
            ],
            [
             0.6666666666666666,
             "#ed7953"
            ],
            [
             0.7777777777777778,
             "#fb9f3a"
            ],
            [
             0.8888888888888888,
             "#fdca26"
            ],
            [
             1,
             "#f0f921"
            ]
           ]
          },
          "colorway": [
           "#636efa",
           "#EF553B",
           "#00cc96",
           "#ab63fa",
           "#FFA15A",
           "#19d3f3",
           "#FF6692",
           "#B6E880",
           "#FF97FF",
           "#FECB52"
          ],
          "font": {
           "color": "#2a3f5f"
          },
          "geo": {
           "bgcolor": "white",
           "lakecolor": "white",
           "landcolor": "#E5ECF6",
           "showlakes": true,
           "showland": true,
           "subunitcolor": "white"
          },
          "hoverlabel": {
           "align": "left"
          },
          "hovermode": "closest",
          "mapbox": {
           "style": "light"
          },
          "paper_bgcolor": "white",
          "plot_bgcolor": "#E5ECF6",
          "polar": {
           "angularaxis": {
            "gridcolor": "white",
            "linecolor": "white",
            "ticks": ""
           },
           "bgcolor": "#E5ECF6",
           "radialaxis": {
            "gridcolor": "white",
            "linecolor": "white",
            "ticks": ""
           }
          },
          "scene": {
           "xaxis": {
            "backgroundcolor": "#E5ECF6",
            "gridcolor": "white",
            "gridwidth": 2,
            "linecolor": "white",
            "showbackground": true,
            "ticks": "",
            "zerolinecolor": "white"
           },
           "yaxis": {
            "backgroundcolor": "#E5ECF6",
            "gridcolor": "white",
            "gridwidth": 2,
            "linecolor": "white",
            "showbackground": true,
            "ticks": "",
            "zerolinecolor": "white"
           },
           "zaxis": {
            "backgroundcolor": "#E5ECF6",
            "gridcolor": "white",
            "gridwidth": 2,
            "linecolor": "white",
            "showbackground": true,
            "ticks": "",
            "zerolinecolor": "white"
           }
          },
          "shapedefaults": {
           "line": {
            "color": "#2a3f5f"
           }
          },
          "ternary": {
           "aaxis": {
            "gridcolor": "white",
            "linecolor": "white",
            "ticks": ""
           },
           "baxis": {
            "gridcolor": "white",
            "linecolor": "white",
            "ticks": ""
           },
           "bgcolor": "#E5ECF6",
           "caxis": {
            "gridcolor": "white",
            "linecolor": "white",
            "ticks": ""
           }
          },
          "title": {
           "x": 0.05
          },
          "xaxis": {
           "automargin": true,
           "gridcolor": "white",
           "linecolor": "white",
           "ticks": "",
           "title": {
            "standoff": 15
           },
           "zerolinecolor": "white",
           "zerolinewidth": 2
          },
          "yaxis": {
           "automargin": true,
           "gridcolor": "white",
           "linecolor": "white",
           "ticks": "",
           "title": {
            "standoff": 15
           },
           "zerolinecolor": "white",
           "zerolinewidth": 2
          }
         }
        },
        "title": {
         "text": "Vendite Mensili di shampi"
        },
        "xaxis": {
         "anchor": "y",
         "domain": [
          0,
          1
         ],
         "title": {
          "text": "MonthIndex"
         }
        },
        "yaxis": {
         "anchor": "x",
         "domain": [
          0,
          1
         ],
         "title": {
          "text": "Sales"
         }
        }
       }
      }
     },
     "metadata": {},
     "output_type": "display_data"
    }
   ],
   "source": [
    "fig = px.line(df, x=\"MonthIndex\", y = \"Sales\", title = \"Vendite Mensili di shampi\" )\n",
    "\n",
    "fig.show()"
   ]
  },
  {
   "cell_type": "markdown",
   "metadata": {},
   "source": [
    "### Grafico multilinea con marcatori"
   ]
  },
  {
   "cell_type": "code",
   "execution_count": 4,
   "metadata": {},
   "outputs": [
    {
     "data": {
      "application/vnd.plotly.v1+json": {
       "config": {
        "plotlyServerURL": "https://plot.ly"
       },
       "data": [
        {
         "line": {
          "color": "blue",
          "width": 4
         },
         "mode": "lines+markers",
         "name": "Italiano",
         "type": "scatter",
         "x": [
          "Giulia",
          "Marco",
          "Elena",
          "Luca"
         ],
         "y": [
          28,
          25,
          30,
          27
         ]
        },
        {
         "line": {
          "color": "red",
          "width": 4
         },
         "mode": "lines+markers",
         "name": "Matematica",
         "type": "scatter",
         "x": [
          "Giulia",
          "Marco",
          "Elena",
          "Luca"
         ],
         "y": [
          26,
          29,
          24,
          30
         ]
        },
        {
         "line": {
          "color": "green",
          "dash": "dash",
          "width": 4
         },
         "mode": "lines+markers",
         "name": "Informatica",
         "type": "scatter",
         "x": [
          "Giulia",
          "Marco",
          "Elena",
          "Luca"
         ],
         "y": [
          30,
          28,
          29,
          27
         ]
        },
        {
         "line": {
          "color": "firebrick",
          "dash": "dot",
          "width": 4
         },
         "mode": "lines+markers",
         "name": "Storia",
         "type": "scatter",
         "x": [
          "Giulia",
          "Marco",
          "Elena",
          "Luca"
         ],
         "y": [
          27,
          26,
          28,
          30
         ]
        }
       ],
       "layout": {
        "template": {
         "data": {
          "bar": [
           {
            "error_x": {
             "color": "#2a3f5f"
            },
            "error_y": {
             "color": "#2a3f5f"
            },
            "marker": {
             "line": {
              "color": "#E5ECF6",
              "width": 0.5
             },
             "pattern": {
              "fillmode": "overlay",
              "size": 10,
              "solidity": 0.2
             }
            },
            "type": "bar"
           }
          ],
          "barpolar": [
           {
            "marker": {
             "line": {
              "color": "#E5ECF6",
              "width": 0.5
             },
             "pattern": {
              "fillmode": "overlay",
              "size": 10,
              "solidity": 0.2
             }
            },
            "type": "barpolar"
           }
          ],
          "carpet": [
           {
            "aaxis": {
             "endlinecolor": "#2a3f5f",
             "gridcolor": "white",
             "linecolor": "white",
             "minorgridcolor": "white",
             "startlinecolor": "#2a3f5f"
            },
            "baxis": {
             "endlinecolor": "#2a3f5f",
             "gridcolor": "white",
             "linecolor": "white",
             "minorgridcolor": "white",
             "startlinecolor": "#2a3f5f"
            },
            "type": "carpet"
           }
          ],
          "choropleth": [
           {
            "colorbar": {
             "outlinewidth": 0,
             "ticks": ""
            },
            "type": "choropleth"
           }
          ],
          "contour": [
           {
            "colorbar": {
             "outlinewidth": 0,
             "ticks": ""
            },
            "colorscale": [
             [
              0,
              "#0d0887"
             ],
             [
              0.1111111111111111,
              "#46039f"
             ],
             [
              0.2222222222222222,
              "#7201a8"
             ],
             [
              0.3333333333333333,
              "#9c179e"
             ],
             [
              0.4444444444444444,
              "#bd3786"
             ],
             [
              0.5555555555555556,
              "#d8576b"
             ],
             [
              0.6666666666666666,
              "#ed7953"
             ],
             [
              0.7777777777777778,
              "#fb9f3a"
             ],
             [
              0.8888888888888888,
              "#fdca26"
             ],
             [
              1,
              "#f0f921"
             ]
            ],
            "type": "contour"
           }
          ],
          "contourcarpet": [
           {
            "colorbar": {
             "outlinewidth": 0,
             "ticks": ""
            },
            "type": "contourcarpet"
           }
          ],
          "heatmap": [
           {
            "colorbar": {
             "outlinewidth": 0,
             "ticks": ""
            },
            "colorscale": [
             [
              0,
              "#0d0887"
             ],
             [
              0.1111111111111111,
              "#46039f"
             ],
             [
              0.2222222222222222,
              "#7201a8"
             ],
             [
              0.3333333333333333,
              "#9c179e"
             ],
             [
              0.4444444444444444,
              "#bd3786"
             ],
             [
              0.5555555555555556,
              "#d8576b"
             ],
             [
              0.6666666666666666,
              "#ed7953"
             ],
             [
              0.7777777777777778,
              "#fb9f3a"
             ],
             [
              0.8888888888888888,
              "#fdca26"
             ],
             [
              1,
              "#f0f921"
             ]
            ],
            "type": "heatmap"
           }
          ],
          "histogram": [
           {
            "marker": {
             "pattern": {
              "fillmode": "overlay",
              "size": 10,
              "solidity": 0.2
             }
            },
            "type": "histogram"
           }
          ],
          "histogram2d": [
           {
            "colorbar": {
             "outlinewidth": 0,
             "ticks": ""
            },
            "colorscale": [
             [
              0,
              "#0d0887"
             ],
             [
              0.1111111111111111,
              "#46039f"
             ],
             [
              0.2222222222222222,
              "#7201a8"
             ],
             [
              0.3333333333333333,
              "#9c179e"
             ],
             [
              0.4444444444444444,
              "#bd3786"
             ],
             [
              0.5555555555555556,
              "#d8576b"
             ],
             [
              0.6666666666666666,
              "#ed7953"
             ],
             [
              0.7777777777777778,
              "#fb9f3a"
             ],
             [
              0.8888888888888888,
              "#fdca26"
             ],
             [
              1,
              "#f0f921"
             ]
            ],
            "type": "histogram2d"
           }
          ],
          "histogram2dcontour": [
           {
            "colorbar": {
             "outlinewidth": 0,
             "ticks": ""
            },
            "colorscale": [
             [
              0,
              "#0d0887"
             ],
             [
              0.1111111111111111,
              "#46039f"
             ],
             [
              0.2222222222222222,
              "#7201a8"
             ],
             [
              0.3333333333333333,
              "#9c179e"
             ],
             [
              0.4444444444444444,
              "#bd3786"
             ],
             [
              0.5555555555555556,
              "#d8576b"
             ],
             [
              0.6666666666666666,
              "#ed7953"
             ],
             [
              0.7777777777777778,
              "#fb9f3a"
             ],
             [
              0.8888888888888888,
              "#fdca26"
             ],
             [
              1,
              "#f0f921"
             ]
            ],
            "type": "histogram2dcontour"
           }
          ],
          "mesh3d": [
           {
            "colorbar": {
             "outlinewidth": 0,
             "ticks": ""
            },
            "type": "mesh3d"
           }
          ],
          "parcoords": [
           {
            "line": {
             "colorbar": {
              "outlinewidth": 0,
              "ticks": ""
             }
            },
            "type": "parcoords"
           }
          ],
          "pie": [
           {
            "automargin": true,
            "type": "pie"
           }
          ],
          "scatter": [
           {
            "fillpattern": {
             "fillmode": "overlay",
             "size": 10,
             "solidity": 0.2
            },
            "type": "scatter"
           }
          ],
          "scatter3d": [
           {
            "line": {
             "colorbar": {
              "outlinewidth": 0,
              "ticks": ""
             }
            },
            "marker": {
             "colorbar": {
              "outlinewidth": 0,
              "ticks": ""
             }
            },
            "type": "scatter3d"
           }
          ],
          "scattercarpet": [
           {
            "marker": {
             "colorbar": {
              "outlinewidth": 0,
              "ticks": ""
             }
            },
            "type": "scattercarpet"
           }
          ],
          "scattergeo": [
           {
            "marker": {
             "colorbar": {
              "outlinewidth": 0,
              "ticks": ""
             }
            },
            "type": "scattergeo"
           }
          ],
          "scattergl": [
           {
            "marker": {
             "colorbar": {
              "outlinewidth": 0,
              "ticks": ""
             }
            },
            "type": "scattergl"
           }
          ],
          "scattermap": [
           {
            "marker": {
             "colorbar": {
              "outlinewidth": 0,
              "ticks": ""
             }
            },
            "type": "scattermap"
           }
          ],
          "scattermapbox": [
           {
            "marker": {
             "colorbar": {
              "outlinewidth": 0,
              "ticks": ""
             }
            },
            "type": "scattermapbox"
           }
          ],
          "scatterpolar": [
           {
            "marker": {
             "colorbar": {
              "outlinewidth": 0,
              "ticks": ""
             }
            },
            "type": "scatterpolar"
           }
          ],
          "scatterpolargl": [
           {
            "marker": {
             "colorbar": {
              "outlinewidth": 0,
              "ticks": ""
             }
            },
            "type": "scatterpolargl"
           }
          ],
          "scatterternary": [
           {
            "marker": {
             "colorbar": {
              "outlinewidth": 0,
              "ticks": ""
             }
            },
            "type": "scatterternary"
           }
          ],
          "surface": [
           {
            "colorbar": {
             "outlinewidth": 0,
             "ticks": ""
            },
            "colorscale": [
             [
              0,
              "#0d0887"
             ],
             [
              0.1111111111111111,
              "#46039f"
             ],
             [
              0.2222222222222222,
              "#7201a8"
             ],
             [
              0.3333333333333333,
              "#9c179e"
             ],
             [
              0.4444444444444444,
              "#bd3786"
             ],
             [
              0.5555555555555556,
              "#d8576b"
             ],
             [
              0.6666666666666666,
              "#ed7953"
             ],
             [
              0.7777777777777778,
              "#fb9f3a"
             ],
             [
              0.8888888888888888,
              "#fdca26"
             ],
             [
              1,
              "#f0f921"
             ]
            ],
            "type": "surface"
           }
          ],
          "table": [
           {
            "cells": {
             "fill": {
              "color": "#EBF0F8"
             },
             "line": {
              "color": "white"
             }
            },
            "header": {
             "fill": {
              "color": "#C8D4E3"
             },
             "line": {
              "color": "white"
             }
            },
            "type": "table"
           }
          ]
         },
         "layout": {
          "annotationdefaults": {
           "arrowcolor": "#2a3f5f",
           "arrowhead": 0,
           "arrowwidth": 1
          },
          "autotypenumbers": "strict",
          "coloraxis": {
           "colorbar": {
            "outlinewidth": 0,
            "ticks": ""
           }
          },
          "colorscale": {
           "diverging": [
            [
             0,
             "#8e0152"
            ],
            [
             0.1,
             "#c51b7d"
            ],
            [
             0.2,
             "#de77ae"
            ],
            [
             0.3,
             "#f1b6da"
            ],
            [
             0.4,
             "#fde0ef"
            ],
            [
             0.5,
             "#f7f7f7"
            ],
            [
             0.6,
             "#e6f5d0"
            ],
            [
             0.7,
             "#b8e186"
            ],
            [
             0.8,
             "#7fbc41"
            ],
            [
             0.9,
             "#4d9221"
            ],
            [
             1,
             "#276419"
            ]
           ],
           "sequential": [
            [
             0,
             "#0d0887"
            ],
            [
             0.1111111111111111,
             "#46039f"
            ],
            [
             0.2222222222222222,
             "#7201a8"
            ],
            [
             0.3333333333333333,
             "#9c179e"
            ],
            [
             0.4444444444444444,
             "#bd3786"
            ],
            [
             0.5555555555555556,
             "#d8576b"
            ],
            [
             0.6666666666666666,
             "#ed7953"
            ],
            [
             0.7777777777777778,
             "#fb9f3a"
            ],
            [
             0.8888888888888888,
             "#fdca26"
            ],
            [
             1,
             "#f0f921"
            ]
           ],
           "sequentialminus": [
            [
             0,
             "#0d0887"
            ],
            [
             0.1111111111111111,
             "#46039f"
            ],
            [
             0.2222222222222222,
             "#7201a8"
            ],
            [
             0.3333333333333333,
             "#9c179e"
            ],
            [
             0.4444444444444444,
             "#bd3786"
            ],
            [
             0.5555555555555556,
             "#d8576b"
            ],
            [
             0.6666666666666666,
             "#ed7953"
            ],
            [
             0.7777777777777778,
             "#fb9f3a"
            ],
            [
             0.8888888888888888,
             "#fdca26"
            ],
            [
             1,
             "#f0f921"
            ]
           ]
          },
          "colorway": [
           "#636efa",
           "#EF553B",
           "#00cc96",
           "#ab63fa",
           "#FFA15A",
           "#19d3f3",
           "#FF6692",
           "#B6E880",
           "#FF97FF",
           "#FECB52"
          ],
          "font": {
           "color": "#2a3f5f"
          },
          "geo": {
           "bgcolor": "white",
           "lakecolor": "white",
           "landcolor": "#E5ECF6",
           "showlakes": true,
           "showland": true,
           "subunitcolor": "white"
          },
          "hoverlabel": {
           "align": "left"
          },
          "hovermode": "closest",
          "mapbox": {
           "style": "light"
          },
          "paper_bgcolor": "white",
          "plot_bgcolor": "#E5ECF6",
          "polar": {
           "angularaxis": {
            "gridcolor": "white",
            "linecolor": "white",
            "ticks": ""
           },
           "bgcolor": "#E5ECF6",
           "radialaxis": {
            "gridcolor": "white",
            "linecolor": "white",
            "ticks": ""
           }
          },
          "scene": {
           "xaxis": {
            "backgroundcolor": "#E5ECF6",
            "gridcolor": "white",
            "gridwidth": 2,
            "linecolor": "white",
            "showbackground": true,
            "ticks": "",
            "zerolinecolor": "white"
           },
           "yaxis": {
            "backgroundcolor": "#E5ECF6",
            "gridcolor": "white",
            "gridwidth": 2,
            "linecolor": "white",
            "showbackground": true,
            "ticks": "",
            "zerolinecolor": "white"
           },
           "zaxis": {
            "backgroundcolor": "#E5ECF6",
            "gridcolor": "white",
            "gridwidth": 2,
            "linecolor": "white",
            "showbackground": true,
            "ticks": "",
            "zerolinecolor": "white"
           }
          },
          "shapedefaults": {
           "line": {
            "color": "#2a3f5f"
           }
          },
          "ternary": {
           "aaxis": {
            "gridcolor": "white",
            "linecolor": "white",
            "ticks": ""
           },
           "baxis": {
            "gridcolor": "white",
            "linecolor": "white",
            "ticks": ""
           },
           "bgcolor": "#E5ECF6",
           "caxis": {
            "gridcolor": "white",
            "linecolor": "white",
            "ticks": ""
           }
          },
          "title": {
           "x": 0.05
          },
          "xaxis": {
           "automargin": true,
           "gridcolor": "white",
           "linecolor": "white",
           "ticks": "",
           "title": {
            "standoff": 15
           },
           "zerolinecolor": "white",
           "zerolinewidth": 2
          },
          "yaxis": {
           "automargin": true,
           "gridcolor": "white",
           "linecolor": "white",
           "ticks": "",
           "title": {
            "standoff": 15
           },
           "zerolinecolor": "white",
           "zerolinewidth": 2
          }
         }
        },
        "title": {
         "text": "Voti degli studenti"
        },
        "xaxis": {
         "title": {
          "text": "Studente"
         }
        },
        "yaxis": {
         "range": [
          20,
          31
         ],
         "title": {
          "text": "Voto"
         }
        }
       }
      }
     },
     "metadata": {},
     "output_type": "display_data"
    }
   ],
   "source": [
    "import plotly.graph_objects as go\n",
    "\n",
    "# Nomi di studenti\n",
    "studenti = ['Giulia', 'Marco', 'Elena', 'Luca']\n",
    "\n",
    "# Voti in diverse materie (in trentesimi)\n",
    "italiano = [28, 25, 30, 27]\n",
    "matematica = [26, 29, 24, 30]\n",
    "informatica = [30, 28, 29, 27]\n",
    "storia = [27, 26, 28, 30]\n",
    "\n",
    "fig = go.Figure()\n",
    "\n",
    "fig.add_trace(go.Scatter(x=studenti, y=italiano, name=\"Italiano\",\n",
    "                         mode='lines+markers',\n",
    "                         line=dict(color=\"blue\", width=4)))\n",
    "\n",
    "fig.add_trace(go.Scatter(x=studenti, y=matematica, name=\"Matematica\",\n",
    "                         mode='lines+markers',\n",
    "                         line=dict(color=\"red\", width=4)))\n",
    "\n",
    "fig.add_trace(go.Scatter(x=studenti, y=informatica, name=\"Informatica\",\n",
    "                         mode='lines+markers',\n",
    "                         line=dict(color=\"green\", width=4, dash='dash')))\n",
    "\n",
    "fig.add_trace(go.Scatter(x=studenti, y=storia, name=\"Storia\",\n",
    "                         mode='lines+markers',\n",
    "                         line=dict(color=\"firebrick\", width=4, dash='dot')))\n",
    "\n",
    "fig.update_layout(\n",
    "    title=\"Voti degli studenti\",\n",
    "    xaxis_title=\"Studente\",\n",
    "    yaxis_title=\"Voto\",\n",
    "    yaxis=dict(range=[20, 31])\n",
    ")\n",
    "\n",
    "fig.show()\n"
   ]
  },
  {
   "cell_type": "markdown",
   "metadata": {},
   "source": [
    "Utile quando:\n",
    "- Hai più variabili da confrontare su un insieme comune (es. studenti, anni, prodotti...).\n",
    "- Vuoi una visualizzazione compatta, leggibile, e con dettagli sui punti."
   ]
  },
  {
   "cell_type": "code",
   "execution_count": 5,
   "metadata": {},
   "outputs": [
    {
     "data": {
      "application/vnd.plotly.v1+json": {
       "config": {
        "plotlyServerURL": "https://plot.ly"
       },
       "data": [
        {
         "colorbar": {
          "title": {
           "text": "Voto"
          }
         },
         "colorscale": [
          [
           0,
           "rgb(255,255,217)"
          ],
          [
           0.125,
           "rgb(237,248,177)"
          ],
          [
           0.25,
           "rgb(199,233,180)"
          ],
          [
           0.375,
           "rgb(127,205,187)"
          ],
          [
           0.5,
           "rgb(65,182,196)"
          ],
          [
           0.625,
           "rgb(29,145,192)"
          ],
          [
           0.75,
           "rgb(34,94,168)"
          ],
          [
           0.875,
           "rgb(37,52,148)"
          ],
          [
           1,
           "rgb(8,29,88)"
          ]
         ],
         "type": "heatmap",
         "x": [
          "Italiano",
          "Matematica",
          "Storia",
          "Inglese",
          "Fisica",
          "Informatica"
         ],
         "y": [
          "Studente 1",
          "Studente 2",
          "Studente 3",
          "Studente 4",
          "Studente 5",
          "Studente 6",
          "Studente 7",
          "Studente 8",
          "Studente 9",
          "Studente 10",
          "Studente 11",
          "Studente 12",
          "Studente 13",
          "Studente 14",
          "Studente 15",
          "Studente 16",
          "Studente 17",
          "Studente 18",
          "Studente 19",
          "Studente 20"
         ],
         "z": {
          "bdata": "HhcSFR0VGRsVFxQWGRgaGh4cExgZGRoTFxsaGxYVEhUXEhQVGhMVFRUZEhMbGxIcFhkVHRQZHhQSEhYXFxgaFhMWGxwcGhMTGRsbFRgZHRQdEhUXHhscFh0WGBYWFR4WFhoWFRwZFxcSExcbFRIXEhMUFhQSFRQc",
          "dtype": "i1",
          "shape": "20, 6"
         },
         "zmax": 30,
         "zmin": 18
        }
       ],
       "layout": {
        "template": {
         "data": {
          "bar": [
           {
            "error_x": {
             "color": "#2a3f5f"
            },
            "error_y": {
             "color": "#2a3f5f"
            },
            "marker": {
             "line": {
              "color": "#E5ECF6",
              "width": 0.5
             },
             "pattern": {
              "fillmode": "overlay",
              "size": 10,
              "solidity": 0.2
             }
            },
            "type": "bar"
           }
          ],
          "barpolar": [
           {
            "marker": {
             "line": {
              "color": "#E5ECF6",
              "width": 0.5
             },
             "pattern": {
              "fillmode": "overlay",
              "size": 10,
              "solidity": 0.2
             }
            },
            "type": "barpolar"
           }
          ],
          "carpet": [
           {
            "aaxis": {
             "endlinecolor": "#2a3f5f",
             "gridcolor": "white",
             "linecolor": "white",
             "minorgridcolor": "white",
             "startlinecolor": "#2a3f5f"
            },
            "baxis": {
             "endlinecolor": "#2a3f5f",
             "gridcolor": "white",
             "linecolor": "white",
             "minorgridcolor": "white",
             "startlinecolor": "#2a3f5f"
            },
            "type": "carpet"
           }
          ],
          "choropleth": [
           {
            "colorbar": {
             "outlinewidth": 0,
             "ticks": ""
            },
            "type": "choropleth"
           }
          ],
          "contour": [
           {
            "colorbar": {
             "outlinewidth": 0,
             "ticks": ""
            },
            "colorscale": [
             [
              0,
              "#0d0887"
             ],
             [
              0.1111111111111111,
              "#46039f"
             ],
             [
              0.2222222222222222,
              "#7201a8"
             ],
             [
              0.3333333333333333,
              "#9c179e"
             ],
             [
              0.4444444444444444,
              "#bd3786"
             ],
             [
              0.5555555555555556,
              "#d8576b"
             ],
             [
              0.6666666666666666,
              "#ed7953"
             ],
             [
              0.7777777777777778,
              "#fb9f3a"
             ],
             [
              0.8888888888888888,
              "#fdca26"
             ],
             [
              1,
              "#f0f921"
             ]
            ],
            "type": "contour"
           }
          ],
          "contourcarpet": [
           {
            "colorbar": {
             "outlinewidth": 0,
             "ticks": ""
            },
            "type": "contourcarpet"
           }
          ],
          "heatmap": [
           {
            "colorbar": {
             "outlinewidth": 0,
             "ticks": ""
            },
            "colorscale": [
             [
              0,
              "#0d0887"
             ],
             [
              0.1111111111111111,
              "#46039f"
             ],
             [
              0.2222222222222222,
              "#7201a8"
             ],
             [
              0.3333333333333333,
              "#9c179e"
             ],
             [
              0.4444444444444444,
              "#bd3786"
             ],
             [
              0.5555555555555556,
              "#d8576b"
             ],
             [
              0.6666666666666666,
              "#ed7953"
             ],
             [
              0.7777777777777778,
              "#fb9f3a"
             ],
             [
              0.8888888888888888,
              "#fdca26"
             ],
             [
              1,
              "#f0f921"
             ]
            ],
            "type": "heatmap"
           }
          ],
          "histogram": [
           {
            "marker": {
             "pattern": {
              "fillmode": "overlay",
              "size": 10,
              "solidity": 0.2
             }
            },
            "type": "histogram"
           }
          ],
          "histogram2d": [
           {
            "colorbar": {
             "outlinewidth": 0,
             "ticks": ""
            },
            "colorscale": [
             [
              0,
              "#0d0887"
             ],
             [
              0.1111111111111111,
              "#46039f"
             ],
             [
              0.2222222222222222,
              "#7201a8"
             ],
             [
              0.3333333333333333,
              "#9c179e"
             ],
             [
              0.4444444444444444,
              "#bd3786"
             ],
             [
              0.5555555555555556,
              "#d8576b"
             ],
             [
              0.6666666666666666,
              "#ed7953"
             ],
             [
              0.7777777777777778,
              "#fb9f3a"
             ],
             [
              0.8888888888888888,
              "#fdca26"
             ],
             [
              1,
              "#f0f921"
             ]
            ],
            "type": "histogram2d"
           }
          ],
          "histogram2dcontour": [
           {
            "colorbar": {
             "outlinewidth": 0,
             "ticks": ""
            },
            "colorscale": [
             [
              0,
              "#0d0887"
             ],
             [
              0.1111111111111111,
              "#46039f"
             ],
             [
              0.2222222222222222,
              "#7201a8"
             ],
             [
              0.3333333333333333,
              "#9c179e"
             ],
             [
              0.4444444444444444,
              "#bd3786"
             ],
             [
              0.5555555555555556,
              "#d8576b"
             ],
             [
              0.6666666666666666,
              "#ed7953"
             ],
             [
              0.7777777777777778,
              "#fb9f3a"
             ],
             [
              0.8888888888888888,
              "#fdca26"
             ],
             [
              1,
              "#f0f921"
             ]
            ],
            "type": "histogram2dcontour"
           }
          ],
          "mesh3d": [
           {
            "colorbar": {
             "outlinewidth": 0,
             "ticks": ""
            },
            "type": "mesh3d"
           }
          ],
          "parcoords": [
           {
            "line": {
             "colorbar": {
              "outlinewidth": 0,
              "ticks": ""
             }
            },
            "type": "parcoords"
           }
          ],
          "pie": [
           {
            "automargin": true,
            "type": "pie"
           }
          ],
          "scatter": [
           {
            "fillpattern": {
             "fillmode": "overlay",
             "size": 10,
             "solidity": 0.2
            },
            "type": "scatter"
           }
          ],
          "scatter3d": [
           {
            "line": {
             "colorbar": {
              "outlinewidth": 0,
              "ticks": ""
             }
            },
            "marker": {
             "colorbar": {
              "outlinewidth": 0,
              "ticks": ""
             }
            },
            "type": "scatter3d"
           }
          ],
          "scattercarpet": [
           {
            "marker": {
             "colorbar": {
              "outlinewidth": 0,
              "ticks": ""
             }
            },
            "type": "scattercarpet"
           }
          ],
          "scattergeo": [
           {
            "marker": {
             "colorbar": {
              "outlinewidth": 0,
              "ticks": ""
             }
            },
            "type": "scattergeo"
           }
          ],
          "scattergl": [
           {
            "marker": {
             "colorbar": {
              "outlinewidth": 0,
              "ticks": ""
             }
            },
            "type": "scattergl"
           }
          ],
          "scattermap": [
           {
            "marker": {
             "colorbar": {
              "outlinewidth": 0,
              "ticks": ""
             }
            },
            "type": "scattermap"
           }
          ],
          "scattermapbox": [
           {
            "marker": {
             "colorbar": {
              "outlinewidth": 0,
              "ticks": ""
             }
            },
            "type": "scattermapbox"
           }
          ],
          "scatterpolar": [
           {
            "marker": {
             "colorbar": {
              "outlinewidth": 0,
              "ticks": ""
             }
            },
            "type": "scatterpolar"
           }
          ],
          "scatterpolargl": [
           {
            "marker": {
             "colorbar": {
              "outlinewidth": 0,
              "ticks": ""
             }
            },
            "type": "scatterpolargl"
           }
          ],
          "scatterternary": [
           {
            "marker": {
             "colorbar": {
              "outlinewidth": 0,
              "ticks": ""
             }
            },
            "type": "scatterternary"
           }
          ],
          "surface": [
           {
            "colorbar": {
             "outlinewidth": 0,
             "ticks": ""
            },
            "colorscale": [
             [
              0,
              "#0d0887"
             ],
             [
              0.1111111111111111,
              "#46039f"
             ],
             [
              0.2222222222222222,
              "#7201a8"
             ],
             [
              0.3333333333333333,
              "#9c179e"
             ],
             [
              0.4444444444444444,
              "#bd3786"
             ],
             [
              0.5555555555555556,
              "#d8576b"
             ],
             [
              0.6666666666666666,
              "#ed7953"
             ],
             [
              0.7777777777777778,
              "#fb9f3a"
             ],
             [
              0.8888888888888888,
              "#fdca26"
             ],
             [
              1,
              "#f0f921"
             ]
            ],
            "type": "surface"
           }
          ],
          "table": [
           {
            "cells": {
             "fill": {
              "color": "#EBF0F8"
             },
             "line": {
              "color": "white"
             }
            },
            "header": {
             "fill": {
              "color": "#C8D4E3"
             },
             "line": {
              "color": "white"
             }
            },
            "type": "table"
           }
          ]
         },
         "layout": {
          "annotationdefaults": {
           "arrowcolor": "#2a3f5f",
           "arrowhead": 0,
           "arrowwidth": 1
          },
          "autotypenumbers": "strict",
          "coloraxis": {
           "colorbar": {
            "outlinewidth": 0,
            "ticks": ""
           }
          },
          "colorscale": {
           "diverging": [
            [
             0,
             "#8e0152"
            ],
            [
             0.1,
             "#c51b7d"
            ],
            [
             0.2,
             "#de77ae"
            ],
            [
             0.3,
             "#f1b6da"
            ],
            [
             0.4,
             "#fde0ef"
            ],
            [
             0.5,
             "#f7f7f7"
            ],
            [
             0.6,
             "#e6f5d0"
            ],
            [
             0.7,
             "#b8e186"
            ],
            [
             0.8,
             "#7fbc41"
            ],
            [
             0.9,
             "#4d9221"
            ],
            [
             1,
             "#276419"
            ]
           ],
           "sequential": [
            [
             0,
             "#0d0887"
            ],
            [
             0.1111111111111111,
             "#46039f"
            ],
            [
             0.2222222222222222,
             "#7201a8"
            ],
            [
             0.3333333333333333,
             "#9c179e"
            ],
            [
             0.4444444444444444,
             "#bd3786"
            ],
            [
             0.5555555555555556,
             "#d8576b"
            ],
            [
             0.6666666666666666,
             "#ed7953"
            ],
            [
             0.7777777777777778,
             "#fb9f3a"
            ],
            [
             0.8888888888888888,
             "#fdca26"
            ],
            [
             1,
             "#f0f921"
            ]
           ],
           "sequentialminus": [
            [
             0,
             "#0d0887"
            ],
            [
             0.1111111111111111,
             "#46039f"
            ],
            [
             0.2222222222222222,
             "#7201a8"
            ],
            [
             0.3333333333333333,
             "#9c179e"
            ],
            [
             0.4444444444444444,
             "#bd3786"
            ],
            [
             0.5555555555555556,
             "#d8576b"
            ],
            [
             0.6666666666666666,
             "#ed7953"
            ],
            [
             0.7777777777777778,
             "#fb9f3a"
            ],
            [
             0.8888888888888888,
             "#fdca26"
            ],
            [
             1,
             "#f0f921"
            ]
           ]
          },
          "colorway": [
           "#636efa",
           "#EF553B",
           "#00cc96",
           "#ab63fa",
           "#FFA15A",
           "#19d3f3",
           "#FF6692",
           "#B6E880",
           "#FF97FF",
           "#FECB52"
          ],
          "font": {
           "color": "#2a3f5f"
          },
          "geo": {
           "bgcolor": "white",
           "lakecolor": "white",
           "landcolor": "#E5ECF6",
           "showlakes": true,
           "showland": true,
           "subunitcolor": "white"
          },
          "hoverlabel": {
           "align": "left"
          },
          "hovermode": "closest",
          "mapbox": {
           "style": "light"
          },
          "paper_bgcolor": "white",
          "plot_bgcolor": "#E5ECF6",
          "polar": {
           "angularaxis": {
            "gridcolor": "white",
            "linecolor": "white",
            "ticks": ""
           },
           "bgcolor": "#E5ECF6",
           "radialaxis": {
            "gridcolor": "white",
            "linecolor": "white",
            "ticks": ""
           }
          },
          "scene": {
           "xaxis": {
            "backgroundcolor": "#E5ECF6",
            "gridcolor": "white",
            "gridwidth": 2,
            "linecolor": "white",
            "showbackground": true,
            "ticks": "",
            "zerolinecolor": "white"
           },
           "yaxis": {
            "backgroundcolor": "#E5ECF6",
            "gridcolor": "white",
            "gridwidth": 2,
            "linecolor": "white",
            "showbackground": true,
            "ticks": "",
            "zerolinecolor": "white"
           },
           "zaxis": {
            "backgroundcolor": "#E5ECF6",
            "gridcolor": "white",
            "gridwidth": 2,
            "linecolor": "white",
            "showbackground": true,
            "ticks": "",
            "zerolinecolor": "white"
           }
          },
          "shapedefaults": {
           "line": {
            "color": "#2a3f5f"
           }
          },
          "ternary": {
           "aaxis": {
            "gridcolor": "white",
            "linecolor": "white",
            "ticks": ""
           },
           "baxis": {
            "gridcolor": "white",
            "linecolor": "white",
            "ticks": ""
           },
           "bgcolor": "#E5ECF6",
           "caxis": {
            "gridcolor": "white",
            "linecolor": "white",
            "ticks": ""
           }
          },
          "title": {
           "x": 0.05
          },
          "xaxis": {
           "automargin": true,
           "gridcolor": "white",
           "linecolor": "white",
           "ticks": "",
           "title": {
            "standoff": 15
           },
           "zerolinecolor": "white",
           "zerolinewidth": 2
          },
          "yaxis": {
           "automargin": true,
           "gridcolor": "white",
           "linecolor": "white",
           "ticks": "",
           "title": {
            "standoff": 15
           },
           "zerolinecolor": "white",
           "zerolinewidth": 2
          }
         }
        },
        "title": {
         "text": "Voti degli studenti per materia"
        },
        "xaxis": {
         "title": {
          "text": "Materia"
         }
        },
        "yaxis": {
         "title": {
          "text": "Studente"
         }
        }
       }
      }
     },
     "metadata": {},
     "output_type": "display_data"
    }
   ],
   "source": [
    "# Simula voti casuali (18–30) per 20 studenti e 6 materie\n",
    "np.random.seed(0)\n",
    "studenti = [f'Studente {i}' for i in range(1, 21)]\n",
    "materie = ['Italiano', 'Matematica', 'Storia', 'Inglese', 'Fisica', 'Informatica']\n",
    "voti = np.random.randint(18, 31, size=(20, len(materie)))\n",
    "\n",
    "# Crea la heatmap\n",
    "fig = go.Figure(data=go.Heatmap(\n",
    "    z=voti,\n",
    "    x=materie,\n",
    "    y=studenti,\n",
    "    colorscale='YlGnBu',\n",
    "    zmin=18,\n",
    "    zmax=30,\n",
    "    colorbar=dict(title='Voto')\n",
    "))\n",
    "\n",
    "fig.update_layout(\n",
    "    title='Voti degli studenti per materia',\n",
    "    xaxis_title='Materia',\n",
    "    yaxis_title='Studente'\n",
    ")\n",
    "\n",
    "fig.show()\n"
   ]
  },
  {
   "cell_type": "code",
   "execution_count": 10,
   "metadata": {},
   "outputs": [
    {
     "data": {
      "text/html": [
       "<div>\n",
       "<style scoped>\n",
       "    .dataframe tbody tr th:only-of-type {\n",
       "        vertical-align: middle;\n",
       "    }\n",
       "\n",
       "    .dataframe tbody tr th {\n",
       "        vertical-align: top;\n",
       "    }\n",
       "\n",
       "    .dataframe thead th {\n",
       "        text-align: right;\n",
       "    }\n",
       "</style>\n",
       "<table border=\"1\" class=\"dataframe\">\n",
       "  <thead>\n",
       "    <tr style=\"text-align: right;\">\n",
       "      <th></th>\n",
       "      <th>survived</th>\n",
       "      <th>pclass</th>\n",
       "      <th>sex</th>\n",
       "      <th>age</th>\n",
       "      <th>sibsp</th>\n",
       "      <th>parch</th>\n",
       "      <th>fare</th>\n",
       "      <th>embarked</th>\n",
       "      <th>class</th>\n",
       "      <th>who</th>\n",
       "      <th>adult_male</th>\n",
       "      <th>deck</th>\n",
       "      <th>embark_town</th>\n",
       "      <th>alive</th>\n",
       "      <th>alone</th>\n",
       "    </tr>\n",
       "  </thead>\n",
       "  <tbody>\n",
       "    <tr>\n",
       "      <th>0</th>\n",
       "      <td>0</td>\n",
       "      <td>3</td>\n",
       "      <td>male</td>\n",
       "      <td>22.0</td>\n",
       "      <td>1</td>\n",
       "      <td>0</td>\n",
       "      <td>7.2500</td>\n",
       "      <td>S</td>\n",
       "      <td>Third</td>\n",
       "      <td>man</td>\n",
       "      <td>True</td>\n",
       "      <td>NaN</td>\n",
       "      <td>Southampton</td>\n",
       "      <td>no</td>\n",
       "      <td>False</td>\n",
       "    </tr>\n",
       "    <tr>\n",
       "      <th>1</th>\n",
       "      <td>1</td>\n",
       "      <td>1</td>\n",
       "      <td>female</td>\n",
       "      <td>38.0</td>\n",
       "      <td>1</td>\n",
       "      <td>0</td>\n",
       "      <td>71.2833</td>\n",
       "      <td>C</td>\n",
       "      <td>First</td>\n",
       "      <td>woman</td>\n",
       "      <td>False</td>\n",
       "      <td>C</td>\n",
       "      <td>Cherbourg</td>\n",
       "      <td>yes</td>\n",
       "      <td>False</td>\n",
       "    </tr>\n",
       "    <tr>\n",
       "      <th>2</th>\n",
       "      <td>1</td>\n",
       "      <td>3</td>\n",
       "      <td>female</td>\n",
       "      <td>26.0</td>\n",
       "      <td>0</td>\n",
       "      <td>0</td>\n",
       "      <td>7.9250</td>\n",
       "      <td>S</td>\n",
       "      <td>Third</td>\n",
       "      <td>woman</td>\n",
       "      <td>False</td>\n",
       "      <td>NaN</td>\n",
       "      <td>Southampton</td>\n",
       "      <td>yes</td>\n",
       "      <td>True</td>\n",
       "    </tr>\n",
       "    <tr>\n",
       "      <th>3</th>\n",
       "      <td>1</td>\n",
       "      <td>1</td>\n",
       "      <td>female</td>\n",
       "      <td>35.0</td>\n",
       "      <td>1</td>\n",
       "      <td>0</td>\n",
       "      <td>53.1000</td>\n",
       "      <td>S</td>\n",
       "      <td>First</td>\n",
       "      <td>woman</td>\n",
       "      <td>False</td>\n",
       "      <td>C</td>\n",
       "      <td>Southampton</td>\n",
       "      <td>yes</td>\n",
       "      <td>False</td>\n",
       "    </tr>\n",
       "    <tr>\n",
       "      <th>4</th>\n",
       "      <td>0</td>\n",
       "      <td>3</td>\n",
       "      <td>male</td>\n",
       "      <td>35.0</td>\n",
       "      <td>0</td>\n",
       "      <td>0</td>\n",
       "      <td>8.0500</td>\n",
       "      <td>S</td>\n",
       "      <td>Third</td>\n",
       "      <td>man</td>\n",
       "      <td>True</td>\n",
       "      <td>NaN</td>\n",
       "      <td>Southampton</td>\n",
       "      <td>no</td>\n",
       "      <td>True</td>\n",
       "    </tr>\n",
       "    <tr>\n",
       "      <th>5</th>\n",
       "      <td>0</td>\n",
       "      <td>3</td>\n",
       "      <td>male</td>\n",
       "      <td>NaN</td>\n",
       "      <td>0</td>\n",
       "      <td>0</td>\n",
       "      <td>8.4583</td>\n",
       "      <td>Q</td>\n",
       "      <td>Third</td>\n",
       "      <td>man</td>\n",
       "      <td>True</td>\n",
       "      <td>NaN</td>\n",
       "      <td>Queenstown</td>\n",
       "      <td>no</td>\n",
       "      <td>True</td>\n",
       "    </tr>\n",
       "    <tr>\n",
       "      <th>6</th>\n",
       "      <td>0</td>\n",
       "      <td>1</td>\n",
       "      <td>male</td>\n",
       "      <td>54.0</td>\n",
       "      <td>0</td>\n",
       "      <td>0</td>\n",
       "      <td>51.8625</td>\n",
       "      <td>S</td>\n",
       "      <td>First</td>\n",
       "      <td>man</td>\n",
       "      <td>True</td>\n",
       "      <td>E</td>\n",
       "      <td>Southampton</td>\n",
       "      <td>no</td>\n",
       "      <td>True</td>\n",
       "    </tr>\n",
       "    <tr>\n",
       "      <th>7</th>\n",
       "      <td>0</td>\n",
       "      <td>3</td>\n",
       "      <td>male</td>\n",
       "      <td>2.0</td>\n",
       "      <td>3</td>\n",
       "      <td>1</td>\n",
       "      <td>21.0750</td>\n",
       "      <td>S</td>\n",
       "      <td>Third</td>\n",
       "      <td>child</td>\n",
       "      <td>False</td>\n",
       "      <td>NaN</td>\n",
       "      <td>Southampton</td>\n",
       "      <td>no</td>\n",
       "      <td>False</td>\n",
       "    </tr>\n",
       "    <tr>\n",
       "      <th>8</th>\n",
       "      <td>1</td>\n",
       "      <td>3</td>\n",
       "      <td>female</td>\n",
       "      <td>27.0</td>\n",
       "      <td>0</td>\n",
       "      <td>2</td>\n",
       "      <td>11.1333</td>\n",
       "      <td>S</td>\n",
       "      <td>Third</td>\n",
       "      <td>woman</td>\n",
       "      <td>False</td>\n",
       "      <td>NaN</td>\n",
       "      <td>Southampton</td>\n",
       "      <td>yes</td>\n",
       "      <td>False</td>\n",
       "    </tr>\n",
       "    <tr>\n",
       "      <th>9</th>\n",
       "      <td>1</td>\n",
       "      <td>2</td>\n",
       "      <td>female</td>\n",
       "      <td>14.0</td>\n",
       "      <td>1</td>\n",
       "      <td>0</td>\n",
       "      <td>30.0708</td>\n",
       "      <td>C</td>\n",
       "      <td>Second</td>\n",
       "      <td>child</td>\n",
       "      <td>False</td>\n",
       "      <td>NaN</td>\n",
       "      <td>Cherbourg</td>\n",
       "      <td>yes</td>\n",
       "      <td>False</td>\n",
       "    </tr>\n",
       "    <tr>\n",
       "      <th>10</th>\n",
       "      <td>1</td>\n",
       "      <td>3</td>\n",
       "      <td>female</td>\n",
       "      <td>4.0</td>\n",
       "      <td>1</td>\n",
       "      <td>1</td>\n",
       "      <td>16.7000</td>\n",
       "      <td>S</td>\n",
       "      <td>Third</td>\n",
       "      <td>child</td>\n",
       "      <td>False</td>\n",
       "      <td>G</td>\n",
       "      <td>Southampton</td>\n",
       "      <td>yes</td>\n",
       "      <td>False</td>\n",
       "    </tr>\n",
       "    <tr>\n",
       "      <th>11</th>\n",
       "      <td>1</td>\n",
       "      <td>1</td>\n",
       "      <td>female</td>\n",
       "      <td>58.0</td>\n",
       "      <td>0</td>\n",
       "      <td>0</td>\n",
       "      <td>26.5500</td>\n",
       "      <td>S</td>\n",
       "      <td>First</td>\n",
       "      <td>woman</td>\n",
       "      <td>False</td>\n",
       "      <td>C</td>\n",
       "      <td>Southampton</td>\n",
       "      <td>yes</td>\n",
       "      <td>True</td>\n",
       "    </tr>\n",
       "    <tr>\n",
       "      <th>12</th>\n",
       "      <td>0</td>\n",
       "      <td>3</td>\n",
       "      <td>male</td>\n",
       "      <td>20.0</td>\n",
       "      <td>0</td>\n",
       "      <td>0</td>\n",
       "      <td>8.0500</td>\n",
       "      <td>S</td>\n",
       "      <td>Third</td>\n",
       "      <td>man</td>\n",
       "      <td>True</td>\n",
       "      <td>NaN</td>\n",
       "      <td>Southampton</td>\n",
       "      <td>no</td>\n",
       "      <td>True</td>\n",
       "    </tr>\n",
       "    <tr>\n",
       "      <th>13</th>\n",
       "      <td>0</td>\n",
       "      <td>3</td>\n",
       "      <td>male</td>\n",
       "      <td>39.0</td>\n",
       "      <td>1</td>\n",
       "      <td>5</td>\n",
       "      <td>31.2750</td>\n",
       "      <td>S</td>\n",
       "      <td>Third</td>\n",
       "      <td>man</td>\n",
       "      <td>True</td>\n",
       "      <td>NaN</td>\n",
       "      <td>Southampton</td>\n",
       "      <td>no</td>\n",
       "      <td>False</td>\n",
       "    </tr>\n",
       "    <tr>\n",
       "      <th>14</th>\n",
       "      <td>0</td>\n",
       "      <td>3</td>\n",
       "      <td>female</td>\n",
       "      <td>14.0</td>\n",
       "      <td>0</td>\n",
       "      <td>0</td>\n",
       "      <td>7.8542</td>\n",
       "      <td>S</td>\n",
       "      <td>Third</td>\n",
       "      <td>child</td>\n",
       "      <td>False</td>\n",
       "      <td>NaN</td>\n",
       "      <td>Southampton</td>\n",
       "      <td>no</td>\n",
       "      <td>True</td>\n",
       "    </tr>\n",
       "    <tr>\n",
       "      <th>15</th>\n",
       "      <td>1</td>\n",
       "      <td>2</td>\n",
       "      <td>female</td>\n",
       "      <td>55.0</td>\n",
       "      <td>0</td>\n",
       "      <td>0</td>\n",
       "      <td>16.0000</td>\n",
       "      <td>S</td>\n",
       "      <td>Second</td>\n",
       "      <td>woman</td>\n",
       "      <td>False</td>\n",
       "      <td>NaN</td>\n",
       "      <td>Southampton</td>\n",
       "      <td>yes</td>\n",
       "      <td>True</td>\n",
       "    </tr>\n",
       "    <tr>\n",
       "      <th>16</th>\n",
       "      <td>0</td>\n",
       "      <td>3</td>\n",
       "      <td>male</td>\n",
       "      <td>2.0</td>\n",
       "      <td>4</td>\n",
       "      <td>1</td>\n",
       "      <td>29.1250</td>\n",
       "      <td>Q</td>\n",
       "      <td>Third</td>\n",
       "      <td>child</td>\n",
       "      <td>False</td>\n",
       "      <td>NaN</td>\n",
       "      <td>Queenstown</td>\n",
       "      <td>no</td>\n",
       "      <td>False</td>\n",
       "    </tr>\n",
       "    <tr>\n",
       "      <th>17</th>\n",
       "      <td>1</td>\n",
       "      <td>2</td>\n",
       "      <td>male</td>\n",
       "      <td>NaN</td>\n",
       "      <td>0</td>\n",
       "      <td>0</td>\n",
       "      <td>13.0000</td>\n",
       "      <td>S</td>\n",
       "      <td>Second</td>\n",
       "      <td>man</td>\n",
       "      <td>True</td>\n",
       "      <td>NaN</td>\n",
       "      <td>Southampton</td>\n",
       "      <td>yes</td>\n",
       "      <td>True</td>\n",
       "    </tr>\n",
       "    <tr>\n",
       "      <th>18</th>\n",
       "      <td>0</td>\n",
       "      <td>3</td>\n",
       "      <td>female</td>\n",
       "      <td>31.0</td>\n",
       "      <td>1</td>\n",
       "      <td>0</td>\n",
       "      <td>18.0000</td>\n",
       "      <td>S</td>\n",
       "      <td>Third</td>\n",
       "      <td>woman</td>\n",
       "      <td>False</td>\n",
       "      <td>NaN</td>\n",
       "      <td>Southampton</td>\n",
       "      <td>no</td>\n",
       "      <td>False</td>\n",
       "    </tr>\n",
       "    <tr>\n",
       "      <th>19</th>\n",
       "      <td>1</td>\n",
       "      <td>3</td>\n",
       "      <td>female</td>\n",
       "      <td>NaN</td>\n",
       "      <td>0</td>\n",
       "      <td>0</td>\n",
       "      <td>7.2250</td>\n",
       "      <td>C</td>\n",
       "      <td>Third</td>\n",
       "      <td>woman</td>\n",
       "      <td>False</td>\n",
       "      <td>NaN</td>\n",
       "      <td>Cherbourg</td>\n",
       "      <td>yes</td>\n",
       "      <td>True</td>\n",
       "    </tr>\n",
       "  </tbody>\n",
       "</table>\n",
       "</div>"
      ],
      "text/plain": [
       "    survived  pclass     sex   age  sibsp  parch     fare embarked   class  \\\n",
       "0          0       3    male  22.0      1      0   7.2500        S   Third   \n",
       "1          1       1  female  38.0      1      0  71.2833        C   First   \n",
       "2          1       3  female  26.0      0      0   7.9250        S   Third   \n",
       "3          1       1  female  35.0      1      0  53.1000        S   First   \n",
       "4          0       3    male  35.0      0      0   8.0500        S   Third   \n",
       "5          0       3    male   NaN      0      0   8.4583        Q   Third   \n",
       "6          0       1    male  54.0      0      0  51.8625        S   First   \n",
       "7          0       3    male   2.0      3      1  21.0750        S   Third   \n",
       "8          1       3  female  27.0      0      2  11.1333        S   Third   \n",
       "9          1       2  female  14.0      1      0  30.0708        C  Second   \n",
       "10         1       3  female   4.0      1      1  16.7000        S   Third   \n",
       "11         1       1  female  58.0      0      0  26.5500        S   First   \n",
       "12         0       3    male  20.0      0      0   8.0500        S   Third   \n",
       "13         0       3    male  39.0      1      5  31.2750        S   Third   \n",
       "14         0       3  female  14.0      0      0   7.8542        S   Third   \n",
       "15         1       2  female  55.0      0      0  16.0000        S  Second   \n",
       "16         0       3    male   2.0      4      1  29.1250        Q   Third   \n",
       "17         1       2    male   NaN      0      0  13.0000        S  Second   \n",
       "18         0       3  female  31.0      1      0  18.0000        S   Third   \n",
       "19         1       3  female   NaN      0      0   7.2250        C   Third   \n",
       "\n",
       "      who  adult_male deck  embark_town alive  alone  \n",
       "0     man        True  NaN  Southampton    no  False  \n",
       "1   woman       False    C    Cherbourg   yes  False  \n",
       "2   woman       False  NaN  Southampton   yes   True  \n",
       "3   woman       False    C  Southampton   yes  False  \n",
       "4     man        True  NaN  Southampton    no   True  \n",
       "5     man        True  NaN   Queenstown    no   True  \n",
       "6     man        True    E  Southampton    no   True  \n",
       "7   child       False  NaN  Southampton    no  False  \n",
       "8   woman       False  NaN  Southampton   yes  False  \n",
       "9   child       False  NaN    Cherbourg   yes  False  \n",
       "10  child       False    G  Southampton   yes  False  \n",
       "11  woman       False    C  Southampton   yes   True  \n",
       "12    man        True  NaN  Southampton    no   True  \n",
       "13    man        True  NaN  Southampton    no  False  \n",
       "14  child       False  NaN  Southampton    no   True  \n",
       "15  woman       False  NaN  Southampton   yes   True  \n",
       "16  child       False  NaN   Queenstown    no  False  \n",
       "17    man        True  NaN  Southampton   yes   True  \n",
       "18  woman       False  NaN  Southampton    no  False  \n",
       "19  woman       False  NaN    Cherbourg   yes   True  "
      ]
     },
     "execution_count": 10,
     "metadata": {},
     "output_type": "execute_result"
    }
   ],
   "source": [
    "import urllib.request\n",
    "df = sns.load_dataset('titanic')\n",
    "df.head(20)"
   ]
  },
  {
   "cell_type": "code",
   "execution_count": 11,
   "metadata": {},
   "outputs": [
    {
     "data": {
      "application/vnd.plotly.v1+json": {
       "config": {
        "plotlyServerURL": "https://plot.ly"
       },
       "data": [
        {
         "alignmentgroup": "True",
         "bingroup": "x",
         "hovertemplate": "sex=male<br>pclass=%{x}<br>count=%{y}<extra></extra>",
         "legendgroup": "male",
         "marker": {
          "color": "#636efa",
          "pattern": {
           "shape": ""
          }
         },
         "name": "male",
         "offsetgroup": "male",
         "orientation": "v",
         "showlegend": true,
         "type": "histogram",
         "x": {
          "bdata": "AwMDAQMDAwMCAgIBAwEDAQIBAQMDAwMDAwMDAQEDAwMBAwEDAwMCAgMDAwMDAgMDAQMDAwMDAQMDAwEBAgMBAwMDAwMBAwMDAgECAwIBAwMDAwMDAgIBAwEDAgIDAgICAwMDAQMDAwMDAwMDAQMBAwMBAwMCAwIDAgEBAwMCAgMDAwMDAwMDAwEDAwIDAgIDAgMDAQMCAwIDAgICAgICAwMBAQIDAQMDAwEBAgMDAQMBAgMDAwMDAQMDAwICAwEDAQMDAwECAwICAwMDAwEBAwMBAwECAgICAwMDAQMDAwMDAgMDAwEDAwEBAwMDAwIDAwEDAwMCAgMDAwIDAgMDAwIDAgMDAwMDAwMBAwEBAgMDAwEBAQIDAQEDAwEDAQMBAgMDAgEDAwMBAgMDAwIDAQEDAwMDAQEDAwMDAwEBAwMDAwEDAQMDAwMDAwEDAgMDAQMCAQECAwIBAgMDAQEDAwIDAwMDAwIBAwMDAgEDAgEDAwMDAgMDAwEDAQMBAwMBAwMDAwIDAQMDAwECAwMBAwEBAwIDAwMBAwEDAwMCAwIBAQMBAwMCAgMDAQICAgMDAQEDAwICAwMDAQMDAQIDAQMBAwMCAQMBAQMCAwMDAwICAQMCAwICAgMBAwMBAQMDAQMBAwMDAwIDAgMDAwMDAQMDAwMDAwMDAQMDAwMDAQMCAQMCAwIBAwMDAQIDAwIDAQIDAwMBAwMDAgMCAwMDAwMDAQMCAwMDAwMCAwMBAwMCAgEDAwMBAwMDAwMCAwIBAw==",
          "dtype": "i1"
         },
         "xaxis": "x",
         "yaxis": "y"
        },
        {
         "alignmentgroup": "True",
         "bingroup": "x",
         "hovertemplate": "sex=female<br>pclass=%{x}<br>count=%{y}<extra></extra>",
         "legendgroup": "female",
         "marker": {
          "color": "#EF553B",
          "pattern": {
           "shape": ""
          }
         },
         "name": "female",
         "offsetgroup": "female",
         "orientation": "v",
         "showlegend": true,
         "type": "histogram",
         "x": {
          "bdata": "AQMBAwIDAQMCAwMDAwMDAQMDAwMCAgMDAwECAgIBAgMDAwMCAwECAwMDAwMDAwIDAwIBAwMDAwEDAgEDAwEDAwMCAwEBAwIDAwIBAwEDAQMDAgMDAwIDAwMBAQECAwEBAgMBAwMDAQEDAQEDAgEBAQEBAgMCAQECAgECAwEDAQEBAgIDAQIDAwMBAwMBAwEDAQMBAgIBAwMCAwMDAQMCAgMDAgIDAgEDAgICAgMBAgMCAgMDAwMBAQEDAwMBAgECAgEBAgIDAwIBAQEDAwIDAQEDAwMBAwIBAwIBAQEDAgICAQMDAgMCAQMCAwEDAwMCAwMDAQIDAwMBAwMBAwIBAQECAgIDAwEDAQICAgEBAQMCAgMBAwEDAwEDAwIDAQMDAQMBAwEBAQMBAgMBAwEDAgIBAgMBAgMDAQM=",
          "dtype": "i1"
         },
         "xaxis": "x",
         "yaxis": "y"
        }
       ],
       "layout": {
        "barmode": "group",
        "legend": {
         "title": {
          "text": "sex"
         },
         "tracegroupgap": 0
        },
        "template": {
         "data": {
          "bar": [
           {
            "error_x": {
             "color": "#2a3f5f"
            },
            "error_y": {
             "color": "#2a3f5f"
            },
            "marker": {
             "line": {
              "color": "#E5ECF6",
              "width": 0.5
             },
             "pattern": {
              "fillmode": "overlay",
              "size": 10,
              "solidity": 0.2
             }
            },
            "type": "bar"
           }
          ],
          "barpolar": [
           {
            "marker": {
             "line": {
              "color": "#E5ECF6",
              "width": 0.5
             },
             "pattern": {
              "fillmode": "overlay",
              "size": 10,
              "solidity": 0.2
             }
            },
            "type": "barpolar"
           }
          ],
          "carpet": [
           {
            "aaxis": {
             "endlinecolor": "#2a3f5f",
             "gridcolor": "white",
             "linecolor": "white",
             "minorgridcolor": "white",
             "startlinecolor": "#2a3f5f"
            },
            "baxis": {
             "endlinecolor": "#2a3f5f",
             "gridcolor": "white",
             "linecolor": "white",
             "minorgridcolor": "white",
             "startlinecolor": "#2a3f5f"
            },
            "type": "carpet"
           }
          ],
          "choropleth": [
           {
            "colorbar": {
             "outlinewidth": 0,
             "ticks": ""
            },
            "type": "choropleth"
           }
          ],
          "contour": [
           {
            "colorbar": {
             "outlinewidth": 0,
             "ticks": ""
            },
            "colorscale": [
             [
              0,
              "#0d0887"
             ],
             [
              0.1111111111111111,
              "#46039f"
             ],
             [
              0.2222222222222222,
              "#7201a8"
             ],
             [
              0.3333333333333333,
              "#9c179e"
             ],
             [
              0.4444444444444444,
              "#bd3786"
             ],
             [
              0.5555555555555556,
              "#d8576b"
             ],
             [
              0.6666666666666666,
              "#ed7953"
             ],
             [
              0.7777777777777778,
              "#fb9f3a"
             ],
             [
              0.8888888888888888,
              "#fdca26"
             ],
             [
              1,
              "#f0f921"
             ]
            ],
            "type": "contour"
           }
          ],
          "contourcarpet": [
           {
            "colorbar": {
             "outlinewidth": 0,
             "ticks": ""
            },
            "type": "contourcarpet"
           }
          ],
          "heatmap": [
           {
            "colorbar": {
             "outlinewidth": 0,
             "ticks": ""
            },
            "colorscale": [
             [
              0,
              "#0d0887"
             ],
             [
              0.1111111111111111,
              "#46039f"
             ],
             [
              0.2222222222222222,
              "#7201a8"
             ],
             [
              0.3333333333333333,
              "#9c179e"
             ],
             [
              0.4444444444444444,
              "#bd3786"
             ],
             [
              0.5555555555555556,
              "#d8576b"
             ],
             [
              0.6666666666666666,
              "#ed7953"
             ],
             [
              0.7777777777777778,
              "#fb9f3a"
             ],
             [
              0.8888888888888888,
              "#fdca26"
             ],
             [
              1,
              "#f0f921"
             ]
            ],
            "type": "heatmap"
           }
          ],
          "histogram": [
           {
            "marker": {
             "pattern": {
              "fillmode": "overlay",
              "size": 10,
              "solidity": 0.2
             }
            },
            "type": "histogram"
           }
          ],
          "histogram2d": [
           {
            "colorbar": {
             "outlinewidth": 0,
             "ticks": ""
            },
            "colorscale": [
             [
              0,
              "#0d0887"
             ],
             [
              0.1111111111111111,
              "#46039f"
             ],
             [
              0.2222222222222222,
              "#7201a8"
             ],
             [
              0.3333333333333333,
              "#9c179e"
             ],
             [
              0.4444444444444444,
              "#bd3786"
             ],
             [
              0.5555555555555556,
              "#d8576b"
             ],
             [
              0.6666666666666666,
              "#ed7953"
             ],
             [
              0.7777777777777778,
              "#fb9f3a"
             ],
             [
              0.8888888888888888,
              "#fdca26"
             ],
             [
              1,
              "#f0f921"
             ]
            ],
            "type": "histogram2d"
           }
          ],
          "histogram2dcontour": [
           {
            "colorbar": {
             "outlinewidth": 0,
             "ticks": ""
            },
            "colorscale": [
             [
              0,
              "#0d0887"
             ],
             [
              0.1111111111111111,
              "#46039f"
             ],
             [
              0.2222222222222222,
              "#7201a8"
             ],
             [
              0.3333333333333333,
              "#9c179e"
             ],
             [
              0.4444444444444444,
              "#bd3786"
             ],
             [
              0.5555555555555556,
              "#d8576b"
             ],
             [
              0.6666666666666666,
              "#ed7953"
             ],
             [
              0.7777777777777778,
              "#fb9f3a"
             ],
             [
              0.8888888888888888,
              "#fdca26"
             ],
             [
              1,
              "#f0f921"
             ]
            ],
            "type": "histogram2dcontour"
           }
          ],
          "mesh3d": [
           {
            "colorbar": {
             "outlinewidth": 0,
             "ticks": ""
            },
            "type": "mesh3d"
           }
          ],
          "parcoords": [
           {
            "line": {
             "colorbar": {
              "outlinewidth": 0,
              "ticks": ""
             }
            },
            "type": "parcoords"
           }
          ],
          "pie": [
           {
            "automargin": true,
            "type": "pie"
           }
          ],
          "scatter": [
           {
            "fillpattern": {
             "fillmode": "overlay",
             "size": 10,
             "solidity": 0.2
            },
            "type": "scatter"
           }
          ],
          "scatter3d": [
           {
            "line": {
             "colorbar": {
              "outlinewidth": 0,
              "ticks": ""
             }
            },
            "marker": {
             "colorbar": {
              "outlinewidth": 0,
              "ticks": ""
             }
            },
            "type": "scatter3d"
           }
          ],
          "scattercarpet": [
           {
            "marker": {
             "colorbar": {
              "outlinewidth": 0,
              "ticks": ""
             }
            },
            "type": "scattercarpet"
           }
          ],
          "scattergeo": [
           {
            "marker": {
             "colorbar": {
              "outlinewidth": 0,
              "ticks": ""
             }
            },
            "type": "scattergeo"
           }
          ],
          "scattergl": [
           {
            "marker": {
             "colorbar": {
              "outlinewidth": 0,
              "ticks": ""
             }
            },
            "type": "scattergl"
           }
          ],
          "scattermap": [
           {
            "marker": {
             "colorbar": {
              "outlinewidth": 0,
              "ticks": ""
             }
            },
            "type": "scattermap"
           }
          ],
          "scattermapbox": [
           {
            "marker": {
             "colorbar": {
              "outlinewidth": 0,
              "ticks": ""
             }
            },
            "type": "scattermapbox"
           }
          ],
          "scatterpolar": [
           {
            "marker": {
             "colorbar": {
              "outlinewidth": 0,
              "ticks": ""
             }
            },
            "type": "scatterpolar"
           }
          ],
          "scatterpolargl": [
           {
            "marker": {
             "colorbar": {
              "outlinewidth": 0,
              "ticks": ""
             }
            },
            "type": "scatterpolargl"
           }
          ],
          "scatterternary": [
           {
            "marker": {
             "colorbar": {
              "outlinewidth": 0,
              "ticks": ""
             }
            },
            "type": "scatterternary"
           }
          ],
          "surface": [
           {
            "colorbar": {
             "outlinewidth": 0,
             "ticks": ""
            },
            "colorscale": [
             [
              0,
              "#0d0887"
             ],
             [
              0.1111111111111111,
              "#46039f"
             ],
             [
              0.2222222222222222,
              "#7201a8"
             ],
             [
              0.3333333333333333,
              "#9c179e"
             ],
             [
              0.4444444444444444,
              "#bd3786"
             ],
             [
              0.5555555555555556,
              "#d8576b"
             ],
             [
              0.6666666666666666,
              "#ed7953"
             ],
             [
              0.7777777777777778,
              "#fb9f3a"
             ],
             [
              0.8888888888888888,
              "#fdca26"
             ],
             [
              1,
              "#f0f921"
             ]
            ],
            "type": "surface"
           }
          ],
          "table": [
           {
            "cells": {
             "fill": {
              "color": "#EBF0F8"
             },
             "line": {
              "color": "white"
             }
            },
            "header": {
             "fill": {
              "color": "#C8D4E3"
             },
             "line": {
              "color": "white"
             }
            },
            "type": "table"
           }
          ]
         },
         "layout": {
          "annotationdefaults": {
           "arrowcolor": "#2a3f5f",
           "arrowhead": 0,
           "arrowwidth": 1
          },
          "autotypenumbers": "strict",
          "coloraxis": {
           "colorbar": {
            "outlinewidth": 0,
            "ticks": ""
           }
          },
          "colorscale": {
           "diverging": [
            [
             0,
             "#8e0152"
            ],
            [
             0.1,
             "#c51b7d"
            ],
            [
             0.2,
             "#de77ae"
            ],
            [
             0.3,
             "#f1b6da"
            ],
            [
             0.4,
             "#fde0ef"
            ],
            [
             0.5,
             "#f7f7f7"
            ],
            [
             0.6,
             "#e6f5d0"
            ],
            [
             0.7,
             "#b8e186"
            ],
            [
             0.8,
             "#7fbc41"
            ],
            [
             0.9,
             "#4d9221"
            ],
            [
             1,
             "#276419"
            ]
           ],
           "sequential": [
            [
             0,
             "#0d0887"
            ],
            [
             0.1111111111111111,
             "#46039f"
            ],
            [
             0.2222222222222222,
             "#7201a8"
            ],
            [
             0.3333333333333333,
             "#9c179e"
            ],
            [
             0.4444444444444444,
             "#bd3786"
            ],
            [
             0.5555555555555556,
             "#d8576b"
            ],
            [
             0.6666666666666666,
             "#ed7953"
            ],
            [
             0.7777777777777778,
             "#fb9f3a"
            ],
            [
             0.8888888888888888,
             "#fdca26"
            ],
            [
             1,
             "#f0f921"
            ]
           ],
           "sequentialminus": [
            [
             0,
             "#0d0887"
            ],
            [
             0.1111111111111111,
             "#46039f"
            ],
            [
             0.2222222222222222,
             "#7201a8"
            ],
            [
             0.3333333333333333,
             "#9c179e"
            ],
            [
             0.4444444444444444,
             "#bd3786"
            ],
            [
             0.5555555555555556,
             "#d8576b"
            ],
            [
             0.6666666666666666,
             "#ed7953"
            ],
            [
             0.7777777777777778,
             "#fb9f3a"
            ],
            [
             0.8888888888888888,
             "#fdca26"
            ],
            [
             1,
             "#f0f921"
            ]
           ]
          },
          "colorway": [
           "#636efa",
           "#EF553B",
           "#00cc96",
           "#ab63fa",
           "#FFA15A",
           "#19d3f3",
           "#FF6692",
           "#B6E880",
           "#FF97FF",
           "#FECB52"
          ],
          "font": {
           "color": "#2a3f5f"
          },
          "geo": {
           "bgcolor": "white",
           "lakecolor": "white",
           "landcolor": "#E5ECF6",
           "showlakes": true,
           "showland": true,
           "subunitcolor": "white"
          },
          "hoverlabel": {
           "align": "left"
          },
          "hovermode": "closest",
          "mapbox": {
           "style": "light"
          },
          "paper_bgcolor": "white",
          "plot_bgcolor": "#E5ECF6",
          "polar": {
           "angularaxis": {
            "gridcolor": "white",
            "linecolor": "white",
            "ticks": ""
           },
           "bgcolor": "#E5ECF6",
           "radialaxis": {
            "gridcolor": "white",
            "linecolor": "white",
            "ticks": ""
           }
          },
          "scene": {
           "xaxis": {
            "backgroundcolor": "#E5ECF6",
            "gridcolor": "white",
            "gridwidth": 2,
            "linecolor": "white",
            "showbackground": true,
            "ticks": "",
            "zerolinecolor": "white"
           },
           "yaxis": {
            "backgroundcolor": "#E5ECF6",
            "gridcolor": "white",
            "gridwidth": 2,
            "linecolor": "white",
            "showbackground": true,
            "ticks": "",
            "zerolinecolor": "white"
           },
           "zaxis": {
            "backgroundcolor": "#E5ECF6",
            "gridcolor": "white",
            "gridwidth": 2,
            "linecolor": "white",
            "showbackground": true,
            "ticks": "",
            "zerolinecolor": "white"
           }
          },
          "shapedefaults": {
           "line": {
            "color": "#2a3f5f"
           }
          },
          "ternary": {
           "aaxis": {
            "gridcolor": "white",
            "linecolor": "white",
            "ticks": ""
           },
           "baxis": {
            "gridcolor": "white",
            "linecolor": "white",
            "ticks": ""
           },
           "bgcolor": "#E5ECF6",
           "caxis": {
            "gridcolor": "white",
            "linecolor": "white",
            "ticks": ""
           }
          },
          "title": {
           "x": 0.05
          },
          "xaxis": {
           "automargin": true,
           "gridcolor": "white",
           "linecolor": "white",
           "ticks": "",
           "title": {
            "standoff": 15
           },
           "zerolinecolor": "white",
           "zerolinewidth": 2
          },
          "yaxis": {
           "automargin": true,
           "gridcolor": "white",
           "linecolor": "white",
           "ticks": "",
           "title": {
            "standoff": 15
           },
           "zerolinecolor": "white",
           "zerolinewidth": 2
          }
         }
        },
        "title": {
         "text": "Numero di passeggeri per classe e sesso"
        },
        "xaxis": {
         "anchor": "y",
         "domain": [
          0,
          1
         ],
         "title": {
          "text": "pclass"
         }
        },
        "yaxis": {
         "anchor": "x",
         "domain": [
          0,
          1
         ],
         "title": {
          "text": "count"
         }
        }
       }
      }
     },
     "metadata": {},
     "output_type": "display_data"
    }
   ],
   "source": [
    "fig = px.histogram(df, x='pclass', color='sex', barmode='group',\n",
    "                   title='Numero di passeggeri per classe e sesso')\n",
    "fig.show()"
   ]
  },
  {
   "cell_type": "code",
   "execution_count": 12,
   "metadata": {},
   "outputs": [
    {
     "data": {
      "application/vnd.plotly.v1+json": {
       "config": {
        "plotlyServerURL": "https://plot.ly"
       },
       "data": [
        {
         "fillpattern": {
          "shape": ""
         },
         "hovertemplate": "survived=0<br>sex=%{x}<br>age=%{y}<extra></extra>",
         "legendgroup": "0",
         "line": {
          "color": "#636efa"
         },
         "marker": {
          "symbol": "circle"
         },
         "mode": "lines",
         "name": "0",
         "orientation": "v",
         "showlegend": true,
         "stackgroup": "1",
         "type": "scatter",
         "x": [
          "male",
          "male",
          "male",
          "male",
          "male",
          "male",
          "male",
          "female",
          "male",
          "female",
          "male",
          "female",
          "male",
          "male",
          "male",
          "male",
          "male",
          "male",
          "male",
          "male",
          "female",
          "female",
          "female",
          "male",
          "male",
          "male",
          "male",
          "female",
          "male",
          "male",
          "male",
          "male",
          "male",
          "male",
          "male",
          "male",
          "male",
          "male",
          "male",
          "male",
          "female",
          "male",
          "male",
          "male",
          "male",
          "male",
          "male",
          "male",
          "male",
          "male",
          "male",
          "male",
          "male",
          "male",
          "male",
          "male",
          "male",
          "male",
          "male",
          "female",
          "male",
          "male",
          "male",
          "male",
          "male",
          "male",
          "male",
          "female",
          "male",
          "female",
          "female",
          "male",
          "male",
          "male",
          "male",
          "female",
          "male",
          "male",
          "male",
          "male",
          "male",
          "male",
          "male",
          "male",
          "female",
          "male",
          "male",
          "male",
          "male",
          "male",
          "female",
          "male",
          "male",
          "male",
          "female",
          "male",
          "male",
          "male",
          "male",
          "male",
          "male",
          "male",
          "male",
          "male",
          "male",
          "male",
          "male",
          "male",
          "male",
          "female",
          "male",
          "male",
          "male",
          "male",
          "male",
          "male",
          "male",
          "male",
          "female",
          "male",
          "male",
          "female",
          "male",
          "male",
          "male",
          "male",
          "male",
          "male",
          "male",
          "male",
          "female",
          "male",
          "male",
          "male",
          "male",
          "female",
          "male",
          "male",
          "male",
          "male",
          "male",
          "male",
          "male",
          "male",
          "male",
          "male",
          "male",
          "male",
          "male",
          "female",
          "male",
          "male",
          "male",
          "female",
          "male",
          "male",
          "male",
          "female",
          "male",
          "male",
          "male",
          "male",
          "female",
          "male",
          "male",
          "female",
          "male",
          "male",
          "female",
          "male",
          "male",
          "male",
          "female",
          "male",
          "male",
          "male",
          "male",
          "female",
          "male",
          "male",
          "male",
          "male",
          "male",
          "male",
          "male",
          "male",
          "male",
          "female",
          "male",
          "male",
          "male",
          "female",
          "male",
          "male",
          "male",
          "female",
          "male",
          "male",
          "male",
          "male",
          "male",
          "male",
          "male",
          "male",
          "male",
          "male",
          "male",
          "male",
          "male",
          "male",
          "male",
          "male",
          "male",
          "male",
          "male",
          "male",
          "male",
          "male",
          "male",
          "female",
          "male",
          "male",
          "female",
          "male",
          "male",
          "male",
          "male",
          "male",
          "male",
          "female",
          "male",
          "male",
          "male",
          "male",
          "male",
          "male",
          "male",
          "male",
          "male",
          "male",
          "female",
          "male",
          "male",
          "male",
          "female",
          "male",
          "female",
          "male",
          "male",
          "male",
          "female",
          "male",
          "male",
          "male",
          "female",
          "male",
          "female",
          "male",
          "male",
          "male",
          "female",
          "male",
          "male",
          "male",
          "male",
          "male",
          "female",
          "male",
          "male",
          "male",
          "male",
          "male",
          "male",
          "male",
          "male",
          "male",
          "male",
          "male",
          "male",
          "male",
          "male",
          "male",
          "male",
          "male",
          "male",
          "male",
          "male",
          "female",
          "male",
          "male",
          "male",
          "male",
          "male",
          "male",
          "male",
          "female",
          "male",
          "male",
          "male",
          "male",
          "male",
          "male",
          "male",
          "male",
          "male",
          "female",
          "male",
          "male",
          "female",
          "female",
          "female",
          "male",
          "male",
          "male",
          "male",
          "male",
          "male",
          "male",
          "male",
          "male",
          "male",
          "male",
          "male",
          "male",
          "male",
          "male",
          "male",
          "female",
          "male",
          "male",
          "female",
          "female",
          "male",
          "male",
          "male",
          "male",
          "male",
          "male",
          "male",
          "male",
          "male",
          "male",
          "male",
          "female",
          "male",
          "male",
          "female",
          "male",
          "male",
          "male",
          "female",
          "male",
          "male",
          "male",
          "male",
          "male",
          "male",
          "male",
          "male",
          "female",
          "male",
          "male",
          "male",
          "male",
          "male",
          "male",
          "male",
          "male",
          "male",
          "female",
          "male",
          "male",
          "male",
          "male",
          "female",
          "male",
          "male",
          "male",
          "male",
          "male",
          "male",
          "male",
          "male",
          "male",
          "male",
          "female",
          "male",
          "male",
          "female",
          "male",
          "male",
          "female",
          "male",
          "male",
          "male",
          "male",
          "female",
          "male",
          "male",
          "female",
          "male",
          "male",
          "male",
          "male",
          "male",
          "male",
          "male",
          "male",
          "male",
          "male",
          "male",
          "male",
          "male",
          "male",
          "female",
          "female",
          "male",
          "male",
          "male",
          "male",
          "male",
          "male",
          "male",
          "male",
          "male",
          "male",
          "male",
          "male",
          "male",
          "female",
          "male",
          "male",
          "male",
          "male",
          "male",
          "male",
          "male",
          "male",
          "male",
          "male",
          "male",
          "male",
          "male",
          "male",
          "female",
          "male",
          "male",
          "male",
          "male",
          "male",
          "female",
          "male",
          "male",
          "male",
          "male",
          "male",
          "male",
          "male",
          "male",
          "male",
          "male",
          "male",
          "male",
          "male",
          "male",
          "male",
          "male",
          "male",
          "female",
          "male",
          "male",
          "male",
          "male",
          "female",
          "male",
          "male",
          "male",
          "male",
          "male",
          "male",
          "male",
          "male",
          "male",
          "male",
          "male",
          "male",
          "female",
          "male",
          "male",
          "male",
          "male",
          "female",
          "male",
          "male",
          "male",
          "female",
          "male",
          "male",
          "male",
          "male",
          "female",
          "male",
          "male",
          "female",
          "male",
          "male",
          "male",
          "male",
          "male",
          "male",
          "male",
          "male",
          "male",
          "male",
          "male",
          "male",
          "male",
          "male",
          "male",
          "male",
          "male",
          "male",
          "male",
          "male",
          "male",
          "male",
          "female",
          "female",
          "male",
          "male",
          "male",
          "female",
          "male",
          "male",
          "male",
          "male",
          "male",
          "male",
          "male",
          "male",
          "male",
          "male",
          "female",
          "male",
          "male",
          "female",
          "male",
          "female",
          "male"
         ],
         "xaxis": "x",
         "y": {
          "bdata": "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",
          "dtype": "f8"
         },
         "yaxis": "y"
        },
        {
         "fillpattern": {
          "shape": ""
         },
         "hovertemplate": "survived=1<br>sex=%{x}<br>age=%{y}<extra></extra>",
         "legendgroup": "1",
         "line": {
          "color": "#EF553B"
         },
         "marker": {
          "symbol": "circle"
         },
         "mode": "lines",
         "name": "1",
         "orientation": "v",
         "showlegend": true,
         "stackgroup": "1",
         "type": "scatter",
         "x": [
          "female",
          "female",
          "female",
          "female",
          "female",
          "female",
          "female",
          "female",
          "male",
          "female",
          "male",
          "female",
          "male",
          "female",
          "female",
          "female",
          "female",
          "male",
          "female",
          "female",
          "female",
          "female",
          "female",
          "female",
          "male",
          "female",
          "female",
          "female",
          "male",
          "female",
          "female",
          "male",
          "male",
          "female",
          "male",
          "female",
          "female",
          "female",
          "female",
          "male",
          "female",
          "female",
          "male",
          "female",
          "female",
          "male",
          "male",
          "female",
          "female",
          "female",
          "female",
          "female",
          "male",
          "female",
          "female",
          "female",
          "male",
          "female",
          "female",
          "male",
          "female",
          "female",
          "male",
          "female",
          "female",
          "male",
          "female",
          "female",
          "female",
          "male",
          "male",
          "female",
          "male",
          "female",
          "female",
          "female",
          "female",
          "male",
          "male",
          "male",
          "female",
          "female",
          "female",
          "female",
          "female",
          "male",
          "female",
          "female",
          "female",
          "female",
          "female",
          "male",
          "male",
          "female",
          "female",
          "male",
          "female",
          "female",
          "female",
          "female",
          "male",
          "male",
          "male",
          "female",
          "female",
          "female",
          "male",
          "female",
          "female",
          "male",
          "female",
          "male",
          "female",
          "female",
          "female",
          "female",
          "female",
          "female",
          "female",
          "female",
          "female",
          "female",
          "female",
          "female",
          "female",
          "female",
          "female",
          "female",
          "female",
          "female",
          "male",
          "male",
          "female",
          "female",
          "female",
          "female",
          "male",
          "female",
          "female",
          "female",
          "female",
          "female",
          "female",
          "female",
          "male",
          "female",
          "female",
          "female",
          "female",
          "female",
          "female",
          "female",
          "male",
          "male",
          "female",
          "female",
          "female",
          "male",
          "male",
          "female",
          "male",
          "female",
          "female",
          "female",
          "female",
          "male",
          "male",
          "female",
          "female",
          "female",
          "female",
          "female",
          "female",
          "male",
          "male",
          "female",
          "male",
          "female",
          "male",
          "male",
          "male",
          "female",
          "female",
          "male",
          "female",
          "female",
          "female",
          "female",
          "female",
          "male",
          "female",
          "male",
          "female",
          "female",
          "female",
          "male",
          "male",
          "male",
          "male",
          "female",
          "female",
          "female",
          "female",
          "female",
          "female",
          "female",
          "female",
          "female",
          "female",
          "female",
          "female",
          "male",
          "female",
          "male",
          "male",
          "male",
          "male",
          "female",
          "female",
          "female",
          "female",
          "male",
          "male",
          "female",
          "male",
          "female",
          "female",
          "female",
          "male",
          "female",
          "female",
          "female",
          "male",
          "female",
          "female",
          "male",
          "female",
          "male",
          "male",
          "female",
          "female",
          "female",
          "female",
          "female",
          "male",
          "male",
          "female",
          "male",
          "male",
          "female",
          "female",
          "male",
          "female",
          "male",
          "male",
          "female",
          "female",
          "female",
          "male",
          "male",
          "female",
          "female",
          "male",
          "female",
          "male",
          "male",
          "female",
          "male",
          "female",
          "male",
          "female",
          "female",
          "male",
          "female",
          "male",
          "female",
          "male",
          "female",
          "male",
          "female",
          "female",
          "female",
          "male",
          "female",
          "female",
          "female",
          "male",
          "male",
          "female",
          "male",
          "female",
          "female",
          "male",
          "female",
          "male",
          "female",
          "male",
          "female",
          "female",
          "female",
          "female",
          "female",
          "female",
          "female",
          "female",
          "male",
          "female",
          "female",
          "female",
          "male",
          "male",
          "male",
          "female",
          "female",
          "male",
          "female",
          "male",
          "male",
          "female",
          "female",
          "male",
          "female",
          "male",
          "male",
          "female",
          "female",
          "female",
          "female",
          "female",
          "male",
          "female",
          "female",
          "female",
          "female",
          "male",
          "female",
          "female",
          "female",
          "female",
          "female",
          "female",
          "male"
         ],
         "xaxis": "x",
         "y": {
          "bdata": "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",
          "dtype": "f8"
         },
         "yaxis": "y"
        }
       ],
       "layout": {
        "legend": {
         "title": {
          "text": "survived"
         },
         "tracegroupgap": 0
        },
        "template": {
         "data": {
          "bar": [
           {
            "error_x": {
             "color": "#2a3f5f"
            },
            "error_y": {
             "color": "#2a3f5f"
            },
            "marker": {
             "line": {
              "color": "#E5ECF6",
              "width": 0.5
             },
             "pattern": {
              "fillmode": "overlay",
              "size": 10,
              "solidity": 0.2
             }
            },
            "type": "bar"
           }
          ],
          "barpolar": [
           {
            "marker": {
             "line": {
              "color": "#E5ECF6",
              "width": 0.5
             },
             "pattern": {
              "fillmode": "overlay",
              "size": 10,
              "solidity": 0.2
             }
            },
            "type": "barpolar"
           }
          ],
          "carpet": [
           {
            "aaxis": {
             "endlinecolor": "#2a3f5f",
             "gridcolor": "white",
             "linecolor": "white",
             "minorgridcolor": "white",
             "startlinecolor": "#2a3f5f"
            },
            "baxis": {
             "endlinecolor": "#2a3f5f",
             "gridcolor": "white",
             "linecolor": "white",
             "minorgridcolor": "white",
             "startlinecolor": "#2a3f5f"
            },
            "type": "carpet"
           }
          ],
          "choropleth": [
           {
            "colorbar": {
             "outlinewidth": 0,
             "ticks": ""
            },
            "type": "choropleth"
           }
          ],
          "contour": [
           {
            "colorbar": {
             "outlinewidth": 0,
             "ticks": ""
            },
            "colorscale": [
             [
              0,
              "#0d0887"
             ],
             [
              0.1111111111111111,
              "#46039f"
             ],
             [
              0.2222222222222222,
              "#7201a8"
             ],
             [
              0.3333333333333333,
              "#9c179e"
             ],
             [
              0.4444444444444444,
              "#bd3786"
             ],
             [
              0.5555555555555556,
              "#d8576b"
             ],
             [
              0.6666666666666666,
              "#ed7953"
             ],
             [
              0.7777777777777778,
              "#fb9f3a"
             ],
             [
              0.8888888888888888,
              "#fdca26"
             ],
             [
              1,
              "#f0f921"
             ]
            ],
            "type": "contour"
           }
          ],
          "contourcarpet": [
           {
            "colorbar": {
             "outlinewidth": 0,
             "ticks": ""
            },
            "type": "contourcarpet"
           }
          ],
          "heatmap": [
           {
            "colorbar": {
             "outlinewidth": 0,
             "ticks": ""
            },
            "colorscale": [
             [
              0,
              "#0d0887"
             ],
             [
              0.1111111111111111,
              "#46039f"
             ],
             [
              0.2222222222222222,
              "#7201a8"
             ],
             [
              0.3333333333333333,
              "#9c179e"
             ],
             [
              0.4444444444444444,
              "#bd3786"
             ],
             [
              0.5555555555555556,
              "#d8576b"
             ],
             [
              0.6666666666666666,
              "#ed7953"
             ],
             [
              0.7777777777777778,
              "#fb9f3a"
             ],
             [
              0.8888888888888888,
              "#fdca26"
             ],
             [
              1,
              "#f0f921"
             ]
            ],
            "type": "heatmap"
           }
          ],
          "histogram": [
           {
            "marker": {
             "pattern": {
              "fillmode": "overlay",
              "size": 10,
              "solidity": 0.2
             }
            },
            "type": "histogram"
           }
          ],
          "histogram2d": [
           {
            "colorbar": {
             "outlinewidth": 0,
             "ticks": ""
            },
            "colorscale": [
             [
              0,
              "#0d0887"
             ],
             [
              0.1111111111111111,
              "#46039f"
             ],
             [
              0.2222222222222222,
              "#7201a8"
             ],
             [
              0.3333333333333333,
              "#9c179e"
             ],
             [
              0.4444444444444444,
              "#bd3786"
             ],
             [
              0.5555555555555556,
              "#d8576b"
             ],
             [
              0.6666666666666666,
              "#ed7953"
             ],
             [
              0.7777777777777778,
              "#fb9f3a"
             ],
             [
              0.8888888888888888,
              "#fdca26"
             ],
             [
              1,
              "#f0f921"
             ]
            ],
            "type": "histogram2d"
           }
          ],
          "histogram2dcontour": [
           {
            "colorbar": {
             "outlinewidth": 0,
             "ticks": ""
            },
            "colorscale": [
             [
              0,
              "#0d0887"
             ],
             [
              0.1111111111111111,
              "#46039f"
             ],
             [
              0.2222222222222222,
              "#7201a8"
             ],
             [
              0.3333333333333333,
              "#9c179e"
             ],
             [
              0.4444444444444444,
              "#bd3786"
             ],
             [
              0.5555555555555556,
              "#d8576b"
             ],
             [
              0.6666666666666666,
              "#ed7953"
             ],
             [
              0.7777777777777778,
              "#fb9f3a"
             ],
             [
              0.8888888888888888,
              "#fdca26"
             ],
             [
              1,
              "#f0f921"
             ]
            ],
            "type": "histogram2dcontour"
           }
          ],
          "mesh3d": [
           {
            "colorbar": {
             "outlinewidth": 0,
             "ticks": ""
            },
            "type": "mesh3d"
           }
          ],
          "parcoords": [
           {
            "line": {
             "colorbar": {
              "outlinewidth": 0,
              "ticks": ""
             }
            },
            "type": "parcoords"
           }
          ],
          "pie": [
           {
            "automargin": true,
            "type": "pie"
           }
          ],
          "scatter": [
           {
            "fillpattern": {
             "fillmode": "overlay",
             "size": 10,
             "solidity": 0.2
            },
            "type": "scatter"
           }
          ],
          "scatter3d": [
           {
            "line": {
             "colorbar": {
              "outlinewidth": 0,
              "ticks": ""
             }
            },
            "marker": {
             "colorbar": {
              "outlinewidth": 0,
              "ticks": ""
             }
            },
            "type": "scatter3d"
           }
          ],
          "scattercarpet": [
           {
            "marker": {
             "colorbar": {
              "outlinewidth": 0,
              "ticks": ""
             }
            },
            "type": "scattercarpet"
           }
          ],
          "scattergeo": [
           {
            "marker": {
             "colorbar": {
              "outlinewidth": 0,
              "ticks": ""
             }
            },
            "type": "scattergeo"
           }
          ],
          "scattergl": [
           {
            "marker": {
             "colorbar": {
              "outlinewidth": 0,
              "ticks": ""
             }
            },
            "type": "scattergl"
           }
          ],
          "scattermap": [
           {
            "marker": {
             "colorbar": {
              "outlinewidth": 0,
              "ticks": ""
             }
            },
            "type": "scattermap"
           }
          ],
          "scattermapbox": [
           {
            "marker": {
             "colorbar": {
              "outlinewidth": 0,
              "ticks": ""
             }
            },
            "type": "scattermapbox"
           }
          ],
          "scatterpolar": [
           {
            "marker": {
             "colorbar": {
              "outlinewidth": 0,
              "ticks": ""
             }
            },
            "type": "scatterpolar"
           }
          ],
          "scatterpolargl": [
           {
            "marker": {
             "colorbar": {
              "outlinewidth": 0,
              "ticks": ""
             }
            },
            "type": "scatterpolargl"
           }
          ],
          "scatterternary": [
           {
            "marker": {
             "colorbar": {
              "outlinewidth": 0,
              "ticks": ""
             }
            },
            "type": "scatterternary"
           }
          ],
          "surface": [
           {
            "colorbar": {
             "outlinewidth": 0,
             "ticks": ""
            },
            "colorscale": [
             [
              0,
              "#0d0887"
             ],
             [
              0.1111111111111111,
              "#46039f"
             ],
             [
              0.2222222222222222,
              "#7201a8"
             ],
             [
              0.3333333333333333,
              "#9c179e"
             ],
             [
              0.4444444444444444,
              "#bd3786"
             ],
             [
              0.5555555555555556,
              "#d8576b"
             ],
             [
              0.6666666666666666,
              "#ed7953"
             ],
             [
              0.7777777777777778,
              "#fb9f3a"
             ],
             [
              0.8888888888888888,
              "#fdca26"
             ],
             [
              1,
              "#f0f921"
             ]
            ],
            "type": "surface"
           }
          ],
          "table": [
           {
            "cells": {
             "fill": {
              "color": "#EBF0F8"
             },
             "line": {
              "color": "white"
             }
            },
            "header": {
             "fill": {
              "color": "#C8D4E3"
             },
             "line": {
              "color": "white"
             }
            },
            "type": "table"
           }
          ]
         },
         "layout": {
          "annotationdefaults": {
           "arrowcolor": "#2a3f5f",
           "arrowhead": 0,
           "arrowwidth": 1
          },
          "autotypenumbers": "strict",
          "coloraxis": {
           "colorbar": {
            "outlinewidth": 0,
            "ticks": ""
           }
          },
          "colorscale": {
           "diverging": [
            [
             0,
             "#8e0152"
            ],
            [
             0.1,
             "#c51b7d"
            ],
            [
             0.2,
             "#de77ae"
            ],
            [
             0.3,
             "#f1b6da"
            ],
            [
             0.4,
             "#fde0ef"
            ],
            [
             0.5,
             "#f7f7f7"
            ],
            [
             0.6,
             "#e6f5d0"
            ],
            [
             0.7,
             "#b8e186"
            ],
            [
             0.8,
             "#7fbc41"
            ],
            [
             0.9,
             "#4d9221"
            ],
            [
             1,
             "#276419"
            ]
           ],
           "sequential": [
            [
             0,
             "#0d0887"
            ],
            [
             0.1111111111111111,
             "#46039f"
            ],
            [
             0.2222222222222222,
             "#7201a8"
            ],
            [
             0.3333333333333333,
             "#9c179e"
            ],
            [
             0.4444444444444444,
             "#bd3786"
            ],
            [
             0.5555555555555556,
             "#d8576b"
            ],
            [
             0.6666666666666666,
             "#ed7953"
            ],
            [
             0.7777777777777778,
             "#fb9f3a"
            ],
            [
             0.8888888888888888,
             "#fdca26"
            ],
            [
             1,
             "#f0f921"
            ]
           ],
           "sequentialminus": [
            [
             0,
             "#0d0887"
            ],
            [
             0.1111111111111111,
             "#46039f"
            ],
            [
             0.2222222222222222,
             "#7201a8"
            ],
            [
             0.3333333333333333,
             "#9c179e"
            ],
            [
             0.4444444444444444,
             "#bd3786"
            ],
            [
             0.5555555555555556,
             "#d8576b"
            ],
            [
             0.6666666666666666,
             "#ed7953"
            ],
            [
             0.7777777777777778,
             "#fb9f3a"
            ],
            [
             0.8888888888888888,
             "#fdca26"
            ],
            [
             1,
             "#f0f921"
            ]
           ]
          },
          "colorway": [
           "#636efa",
           "#EF553B",
           "#00cc96",
           "#ab63fa",
           "#FFA15A",
           "#19d3f3",
           "#FF6692",
           "#B6E880",
           "#FF97FF",
           "#FECB52"
          ],
          "font": {
           "color": "#2a3f5f"
          },
          "geo": {
           "bgcolor": "white",
           "lakecolor": "white",
           "landcolor": "#E5ECF6",
           "showlakes": true,
           "showland": true,
           "subunitcolor": "white"
          },
          "hoverlabel": {
           "align": "left"
          },
          "hovermode": "closest",
          "mapbox": {
           "style": "light"
          },
          "paper_bgcolor": "white",
          "plot_bgcolor": "#E5ECF6",
          "polar": {
           "angularaxis": {
            "gridcolor": "white",
            "linecolor": "white",
            "ticks": ""
           },
           "bgcolor": "#E5ECF6",
           "radialaxis": {
            "gridcolor": "white",
            "linecolor": "white",
            "ticks": ""
           }
          },
          "scene": {
           "xaxis": {
            "backgroundcolor": "#E5ECF6",
            "gridcolor": "white",
            "gridwidth": 2,
            "linecolor": "white",
            "showbackground": true,
            "ticks": "",
            "zerolinecolor": "white"
           },
           "yaxis": {
            "backgroundcolor": "#E5ECF6",
            "gridcolor": "white",
            "gridwidth": 2,
            "linecolor": "white",
            "showbackground": true,
            "ticks": "",
            "zerolinecolor": "white"
           },
           "zaxis": {
            "backgroundcolor": "#E5ECF6",
            "gridcolor": "white",
            "gridwidth": 2,
            "linecolor": "white",
            "showbackground": true,
            "ticks": "",
            "zerolinecolor": "white"
           }
          },
          "shapedefaults": {
           "line": {
            "color": "#2a3f5f"
           }
          },
          "ternary": {
           "aaxis": {
            "gridcolor": "white",
            "linecolor": "white",
            "ticks": ""
           },
           "baxis": {
            "gridcolor": "white",
            "linecolor": "white",
            "ticks": ""
           },
           "bgcolor": "#E5ECF6",
           "caxis": {
            "gridcolor": "white",
            "linecolor": "white",
            "ticks": ""
           }
          },
          "title": {
           "x": 0.05
          },
          "xaxis": {
           "automargin": true,
           "gridcolor": "white",
           "linecolor": "white",
           "ticks": "",
           "title": {
            "standoff": 15
           },
           "zerolinecolor": "white",
           "zerolinewidth": 2
          },
          "yaxis": {
           "automargin": true,
           "gridcolor": "white",
           "linecolor": "white",
           "ticks": "",
           "title": {
            "standoff": 15
           },
           "zerolinecolor": "white",
           "zerolinewidth": 2
          }
         }
        },
        "title": {
         "text": "Area plot for Passenger status by gender and age"
        },
        "xaxis": {
         "anchor": "y",
         "domain": [
          0,
          1
         ],
         "title": {
          "text": "sex"
         }
        },
        "yaxis": {
         "anchor": "x",
         "domain": [
          0,
          1
         ],
         "title": {
          "text": "age"
         }
        }
       }
      }
     },
     "metadata": {},
     "output_type": "display_data"
    }
   ],
   "source": [
    "# Area Chart\n",
    "fig = px.area(df, x='sex', y='age', color='survived',\n",
    "              title=\"Area plot for Passenger status by gender and age\")\n",
    "\n",
    "fig.show()"
   ]
  },
  {
   "cell_type": "code",
   "execution_count": 13,
   "metadata": {},
   "outputs": [
    {
     "data": {
      "application/vnd.plotly.v1+json": {
       "config": {
        "plotlyServerURL": "https://plot.ly"
       },
       "data": [
        {
         "hoverinfo": "x+y",
         "line": {
          "color": "rgb(172,89,200)",
          "width": 0.6
         },
         "mode": "lines",
         "stackgroup": "one",
         "type": "scatter",
         "x": [
          "Rave",
          "Leo",
          "Steve"
         ],
         "y": [
          40,
          10,
          20
         ]
        },
        {
         "hoverinfo": "x+y",
         "line": {
          "color": "rgb(100,51,190)",
          "width": 0.6
         },
         "mode": "lines",
         "stackgroup": "one",
         "type": "scatter",
         "x": [
          "Rave",
          "Leo",
          "Steve"
         ],
         "y": [
          50,
          5,
          2
         ]
        }
       ],
       "layout": {
        "template": {
         "data": {
          "bar": [
           {
            "error_x": {
             "color": "#2a3f5f"
            },
            "error_y": {
             "color": "#2a3f5f"
            },
            "marker": {
             "line": {
              "color": "#E5ECF6",
              "width": 0.5
             },
             "pattern": {
              "fillmode": "overlay",
              "size": 10,
              "solidity": 0.2
             }
            },
            "type": "bar"
           }
          ],
          "barpolar": [
           {
            "marker": {
             "line": {
              "color": "#E5ECF6",
              "width": 0.5
             },
             "pattern": {
              "fillmode": "overlay",
              "size": 10,
              "solidity": 0.2
             }
            },
            "type": "barpolar"
           }
          ],
          "carpet": [
           {
            "aaxis": {
             "endlinecolor": "#2a3f5f",
             "gridcolor": "white",
             "linecolor": "white",
             "minorgridcolor": "white",
             "startlinecolor": "#2a3f5f"
            },
            "baxis": {
             "endlinecolor": "#2a3f5f",
             "gridcolor": "white",
             "linecolor": "white",
             "minorgridcolor": "white",
             "startlinecolor": "#2a3f5f"
            },
            "type": "carpet"
           }
          ],
          "choropleth": [
           {
            "colorbar": {
             "outlinewidth": 0,
             "ticks": ""
            },
            "type": "choropleth"
           }
          ],
          "contour": [
           {
            "colorbar": {
             "outlinewidth": 0,
             "ticks": ""
            },
            "colorscale": [
             [
              0,
              "#0d0887"
             ],
             [
              0.1111111111111111,
              "#46039f"
             ],
             [
              0.2222222222222222,
              "#7201a8"
             ],
             [
              0.3333333333333333,
              "#9c179e"
             ],
             [
              0.4444444444444444,
              "#bd3786"
             ],
             [
              0.5555555555555556,
              "#d8576b"
             ],
             [
              0.6666666666666666,
              "#ed7953"
             ],
             [
              0.7777777777777778,
              "#fb9f3a"
             ],
             [
              0.8888888888888888,
              "#fdca26"
             ],
             [
              1,
              "#f0f921"
             ]
            ],
            "type": "contour"
           }
          ],
          "contourcarpet": [
           {
            "colorbar": {
             "outlinewidth": 0,
             "ticks": ""
            },
            "type": "contourcarpet"
           }
          ],
          "heatmap": [
           {
            "colorbar": {
             "outlinewidth": 0,
             "ticks": ""
            },
            "colorscale": [
             [
              0,
              "#0d0887"
             ],
             [
              0.1111111111111111,
              "#46039f"
             ],
             [
              0.2222222222222222,
              "#7201a8"
             ],
             [
              0.3333333333333333,
              "#9c179e"
             ],
             [
              0.4444444444444444,
              "#bd3786"
             ],
             [
              0.5555555555555556,
              "#d8576b"
             ],
             [
              0.6666666666666666,
              "#ed7953"
             ],
             [
              0.7777777777777778,
              "#fb9f3a"
             ],
             [
              0.8888888888888888,
              "#fdca26"
             ],
             [
              1,
              "#f0f921"
             ]
            ],
            "type": "heatmap"
           }
          ],
          "histogram": [
           {
            "marker": {
             "pattern": {
              "fillmode": "overlay",
              "size": 10,
              "solidity": 0.2
             }
            },
            "type": "histogram"
           }
          ],
          "histogram2d": [
           {
            "colorbar": {
             "outlinewidth": 0,
             "ticks": ""
            },
            "colorscale": [
             [
              0,
              "#0d0887"
             ],
             [
              0.1111111111111111,
              "#46039f"
             ],
             [
              0.2222222222222222,
              "#7201a8"
             ],
             [
              0.3333333333333333,
              "#9c179e"
             ],
             [
              0.4444444444444444,
              "#bd3786"
             ],
             [
              0.5555555555555556,
              "#d8576b"
             ],
             [
              0.6666666666666666,
              "#ed7953"
             ],
             [
              0.7777777777777778,
              "#fb9f3a"
             ],
             [
              0.8888888888888888,
              "#fdca26"
             ],
             [
              1,
              "#f0f921"
             ]
            ],
            "type": "histogram2d"
           }
          ],
          "histogram2dcontour": [
           {
            "colorbar": {
             "outlinewidth": 0,
             "ticks": ""
            },
            "colorscale": [
             [
              0,
              "#0d0887"
             ],
             [
              0.1111111111111111,
              "#46039f"
             ],
             [
              0.2222222222222222,
              "#7201a8"
             ],
             [
              0.3333333333333333,
              "#9c179e"
             ],
             [
              0.4444444444444444,
              "#bd3786"
             ],
             [
              0.5555555555555556,
              "#d8576b"
             ],
             [
              0.6666666666666666,
              "#ed7953"
             ],
             [
              0.7777777777777778,
              "#fb9f3a"
             ],
             [
              0.8888888888888888,
              "#fdca26"
             ],
             [
              1,
              "#f0f921"
             ]
            ],
            "type": "histogram2dcontour"
           }
          ],
          "mesh3d": [
           {
            "colorbar": {
             "outlinewidth": 0,
             "ticks": ""
            },
            "type": "mesh3d"
           }
          ],
          "parcoords": [
           {
            "line": {
             "colorbar": {
              "outlinewidth": 0,
              "ticks": ""
             }
            },
            "type": "parcoords"
           }
          ],
          "pie": [
           {
            "automargin": true,
            "type": "pie"
           }
          ],
          "scatter": [
           {
            "fillpattern": {
             "fillmode": "overlay",
             "size": 10,
             "solidity": 0.2
            },
            "type": "scatter"
           }
          ],
          "scatter3d": [
           {
            "line": {
             "colorbar": {
              "outlinewidth": 0,
              "ticks": ""
             }
            },
            "marker": {
             "colorbar": {
              "outlinewidth": 0,
              "ticks": ""
             }
            },
            "type": "scatter3d"
           }
          ],
          "scattercarpet": [
           {
            "marker": {
             "colorbar": {
              "outlinewidth": 0,
              "ticks": ""
             }
            },
            "type": "scattercarpet"
           }
          ],
          "scattergeo": [
           {
            "marker": {
             "colorbar": {
              "outlinewidth": 0,
              "ticks": ""
             }
            },
            "type": "scattergeo"
           }
          ],
          "scattergl": [
           {
            "marker": {
             "colorbar": {
              "outlinewidth": 0,
              "ticks": ""
             }
            },
            "type": "scattergl"
           }
          ],
          "scattermap": [
           {
            "marker": {
             "colorbar": {
              "outlinewidth": 0,
              "ticks": ""
             }
            },
            "type": "scattermap"
           }
          ],
          "scattermapbox": [
           {
            "marker": {
             "colorbar": {
              "outlinewidth": 0,
              "ticks": ""
             }
            },
            "type": "scattermapbox"
           }
          ],
          "scatterpolar": [
           {
            "marker": {
             "colorbar": {
              "outlinewidth": 0,
              "ticks": ""
             }
            },
            "type": "scatterpolar"
           }
          ],
          "scatterpolargl": [
           {
            "marker": {
             "colorbar": {
              "outlinewidth": 0,
              "ticks": ""
             }
            },
            "type": "scatterpolargl"
           }
          ],
          "scatterternary": [
           {
            "marker": {
             "colorbar": {
              "outlinewidth": 0,
              "ticks": ""
             }
            },
            "type": "scatterternary"
           }
          ],
          "surface": [
           {
            "colorbar": {
             "outlinewidth": 0,
             "ticks": ""
            },
            "colorscale": [
             [
              0,
              "#0d0887"
             ],
             [
              0.1111111111111111,
              "#46039f"
             ],
             [
              0.2222222222222222,
              "#7201a8"
             ],
             [
              0.3333333333333333,
              "#9c179e"
             ],
             [
              0.4444444444444444,
              "#bd3786"
             ],
             [
              0.5555555555555556,
              "#d8576b"
             ],
             [
              0.6666666666666666,
              "#ed7953"
             ],
             [
              0.7777777777777778,
              "#fb9f3a"
             ],
             [
              0.8888888888888888,
              "#fdca26"
             ],
             [
              1,
              "#f0f921"
             ]
            ],
            "type": "surface"
           }
          ],
          "table": [
           {
            "cells": {
             "fill": {
              "color": "#EBF0F8"
             },
             "line": {
              "color": "white"
             }
            },
            "header": {
             "fill": {
              "color": "#C8D4E3"
             },
             "line": {
              "color": "white"
             }
            },
            "type": "table"
           }
          ]
         },
         "layout": {
          "annotationdefaults": {
           "arrowcolor": "#2a3f5f",
           "arrowhead": 0,
           "arrowwidth": 1
          },
          "autotypenumbers": "strict",
          "coloraxis": {
           "colorbar": {
            "outlinewidth": 0,
            "ticks": ""
           }
          },
          "colorscale": {
           "diverging": [
            [
             0,
             "#8e0152"
            ],
            [
             0.1,
             "#c51b7d"
            ],
            [
             0.2,
             "#de77ae"
            ],
            [
             0.3,
             "#f1b6da"
            ],
            [
             0.4,
             "#fde0ef"
            ],
            [
             0.5,
             "#f7f7f7"
            ],
            [
             0.6,
             "#e6f5d0"
            ],
            [
             0.7,
             "#b8e186"
            ],
            [
             0.8,
             "#7fbc41"
            ],
            [
             0.9,
             "#4d9221"
            ],
            [
             1,
             "#276419"
            ]
           ],
           "sequential": [
            [
             0,
             "#0d0887"
            ],
            [
             0.1111111111111111,
             "#46039f"
            ],
            [
             0.2222222222222222,
             "#7201a8"
            ],
            [
             0.3333333333333333,
             "#9c179e"
            ],
            [
             0.4444444444444444,
             "#bd3786"
            ],
            [
             0.5555555555555556,
             "#d8576b"
            ],
            [
             0.6666666666666666,
             "#ed7953"
            ],
            [
             0.7777777777777778,
             "#fb9f3a"
            ],
            [
             0.8888888888888888,
             "#fdca26"
            ],
            [
             1,
             "#f0f921"
            ]
           ],
           "sequentialminus": [
            [
             0,
             "#0d0887"
            ],
            [
             0.1111111111111111,
             "#46039f"
            ],
            [
             0.2222222222222222,
             "#7201a8"
            ],
            [
             0.3333333333333333,
             "#9c179e"
            ],
            [
             0.4444444444444444,
             "#bd3786"
            ],
            [
             0.5555555555555556,
             "#d8576b"
            ],
            [
             0.6666666666666666,
             "#ed7953"
            ],
            [
             0.7777777777777778,
             "#fb9f3a"
            ],
            [
             0.8888888888888888,
             "#fdca26"
            ],
            [
             1,
             "#f0f921"
            ]
           ]
          },
          "colorway": [
           "#636efa",
           "#EF553B",
           "#00cc96",
           "#ab63fa",
           "#FFA15A",
           "#19d3f3",
           "#FF6692",
           "#B6E880",
           "#FF97FF",
           "#FECB52"
          ],
          "font": {
           "color": "#2a3f5f"
          },
          "geo": {
           "bgcolor": "white",
           "lakecolor": "white",
           "landcolor": "#E5ECF6",
           "showlakes": true,
           "showland": true,
           "subunitcolor": "white"
          },
          "hoverlabel": {
           "align": "left"
          },
          "hovermode": "closest",
          "mapbox": {
           "style": "light"
          },
          "paper_bgcolor": "white",
          "plot_bgcolor": "#E5ECF6",
          "polar": {
           "angularaxis": {
            "gridcolor": "white",
            "linecolor": "white",
            "ticks": ""
           },
           "bgcolor": "#E5ECF6",
           "radialaxis": {
            "gridcolor": "white",
            "linecolor": "white",
            "ticks": ""
           }
          },
          "scene": {
           "xaxis": {
            "backgroundcolor": "#E5ECF6",
            "gridcolor": "white",
            "gridwidth": 2,
            "linecolor": "white",
            "showbackground": true,
            "ticks": "",
            "zerolinecolor": "white"
           },
           "yaxis": {
            "backgroundcolor": "#E5ECF6",
            "gridcolor": "white",
            "gridwidth": 2,
            "linecolor": "white",
            "showbackground": true,
            "ticks": "",
            "zerolinecolor": "white"
           },
           "zaxis": {
            "backgroundcolor": "#E5ECF6",
            "gridcolor": "white",
            "gridwidth": 2,
            "linecolor": "white",
            "showbackground": true,
            "ticks": "",
            "zerolinecolor": "white"
           }
          },
          "shapedefaults": {
           "line": {
            "color": "#2a3f5f"
           }
          },
          "ternary": {
           "aaxis": {
            "gridcolor": "white",
            "linecolor": "white",
            "ticks": ""
           },
           "baxis": {
            "gridcolor": "white",
            "linecolor": "white",
            "ticks": ""
           },
           "bgcolor": "#E5ECF6",
           "caxis": {
            "gridcolor": "white",
            "linecolor": "white",
            "ticks": ""
           }
          },
          "title": {
           "x": 0.05
          },
          "xaxis": {
           "automargin": true,
           "gridcolor": "white",
           "linecolor": "white",
           "ticks": "",
           "title": {
            "standoff": 15
           },
           "zerolinecolor": "white",
           "zerolinewidth": 2
          },
          "yaxis": {
           "automargin": true,
           "gridcolor": "white",
           "linecolor": "white",
           "ticks": "",
           "title": {
            "standoff": 15
           },
           "zerolinecolor": "white",
           "zerolinewidth": 2
          }
         }
        }
       }
      }
     },
     "metadata": {},
     "output_type": "display_data"
    }
   ],
   "source": [
    "\n",
    "# Stacked area chart\n",
    "stud = ['Rave', 'Leo', 'Steve']\n",
    "\n",
    "fig = go.Figure()\n",
    "\n",
    "fig.add_trace(go.Scatter(\n",
    "    x=stud, y=[40, 10, 20],\n",
    "    hoverinfo='x+y',\n",
    "    mode='lines',\n",
    "    line=dict(width=0.6, color='rgb(172,89,200)'),\n",
    "    stackgroup='one'\n",
    "))\n",
    "\n",
    "fig.add_trace(go.Scatter(\n",
    "    x=stud, y=[50, 5, 2],\n",
    "    hoverinfo='x+y',\n",
    "    mode='lines',\n",
    "    line=dict(width=0.6, color='rgb(100,51,190)'),\n",
    "    stackgroup='one'\n",
    "))\n",
    "\n",
    "fig.show()"
   ]
  },
  {
   "cell_type": "code",
   "execution_count": 19,
   "metadata": {},
   "outputs": [
    {
     "data": {
      "application/vnd.plotly.v1+json": {
       "config": {
        "plotlyServerURL": "https://plot.ly"
       },
       "data": [
        {
         "labels": [
          "Leo",
          "Steve",
          "Claire",
          "Caprio",
          "Sharman",
          "Kiya"
         ],
         "pull": [
          0,
          0,
          0,
          0.2,
          0,
          0
         ],
         "textinfo": "percent+label",
         "textposition": "inside",
         "type": "pie",
         "values": [
          34,
          56,
          76,
          87,
          45,
          90,
          91
         ]
        }
       ],
       "layout": {
        "template": {
         "data": {
          "bar": [
           {
            "error_x": {
             "color": "#2a3f5f"
            },
            "error_y": {
             "color": "#2a3f5f"
            },
            "marker": {
             "line": {
              "color": "#E5ECF6",
              "width": 0.5
             },
             "pattern": {
              "fillmode": "overlay",
              "size": 10,
              "solidity": 0.2
             }
            },
            "type": "bar"
           }
          ],
          "barpolar": [
           {
            "marker": {
             "line": {
              "color": "#E5ECF6",
              "width": 0.5
             },
             "pattern": {
              "fillmode": "overlay",
              "size": 10,
              "solidity": 0.2
             }
            },
            "type": "barpolar"
           }
          ],
          "carpet": [
           {
            "aaxis": {
             "endlinecolor": "#2a3f5f",
             "gridcolor": "white",
             "linecolor": "white",
             "minorgridcolor": "white",
             "startlinecolor": "#2a3f5f"
            },
            "baxis": {
             "endlinecolor": "#2a3f5f",
             "gridcolor": "white",
             "linecolor": "white",
             "minorgridcolor": "white",
             "startlinecolor": "#2a3f5f"
            },
            "type": "carpet"
           }
          ],
          "choropleth": [
           {
            "colorbar": {
             "outlinewidth": 0,
             "ticks": ""
            },
            "type": "choropleth"
           }
          ],
          "contour": [
           {
            "colorbar": {
             "outlinewidth": 0,
             "ticks": ""
            },
            "colorscale": [
             [
              0,
              "#0d0887"
             ],
             [
              0.1111111111111111,
              "#46039f"
             ],
             [
              0.2222222222222222,
              "#7201a8"
             ],
             [
              0.3333333333333333,
              "#9c179e"
             ],
             [
              0.4444444444444444,
              "#bd3786"
             ],
             [
              0.5555555555555556,
              "#d8576b"
             ],
             [
              0.6666666666666666,
              "#ed7953"
             ],
             [
              0.7777777777777778,
              "#fb9f3a"
             ],
             [
              0.8888888888888888,
              "#fdca26"
             ],
             [
              1,
              "#f0f921"
             ]
            ],
            "type": "contour"
           }
          ],
          "contourcarpet": [
           {
            "colorbar": {
             "outlinewidth": 0,
             "ticks": ""
            },
            "type": "contourcarpet"
           }
          ],
          "heatmap": [
           {
            "colorbar": {
             "outlinewidth": 0,
             "ticks": ""
            },
            "colorscale": [
             [
              0,
              "#0d0887"
             ],
             [
              0.1111111111111111,
              "#46039f"
             ],
             [
              0.2222222222222222,
              "#7201a8"
             ],
             [
              0.3333333333333333,
              "#9c179e"
             ],
             [
              0.4444444444444444,
              "#bd3786"
             ],
             [
              0.5555555555555556,
              "#d8576b"
             ],
             [
              0.6666666666666666,
              "#ed7953"
             ],
             [
              0.7777777777777778,
              "#fb9f3a"
             ],
             [
              0.8888888888888888,
              "#fdca26"
             ],
             [
              1,
              "#f0f921"
             ]
            ],
            "type": "heatmap"
           }
          ],
          "histogram": [
           {
            "marker": {
             "pattern": {
              "fillmode": "overlay",
              "size": 10,
              "solidity": 0.2
             }
            },
            "type": "histogram"
           }
          ],
          "histogram2d": [
           {
            "colorbar": {
             "outlinewidth": 0,
             "ticks": ""
            },
            "colorscale": [
             [
              0,
              "#0d0887"
             ],
             [
              0.1111111111111111,
              "#46039f"
             ],
             [
              0.2222222222222222,
              "#7201a8"
             ],
             [
              0.3333333333333333,
              "#9c179e"
             ],
             [
              0.4444444444444444,
              "#bd3786"
             ],
             [
              0.5555555555555556,
              "#d8576b"
             ],
             [
              0.6666666666666666,
              "#ed7953"
             ],
             [
              0.7777777777777778,
              "#fb9f3a"
             ],
             [
              0.8888888888888888,
              "#fdca26"
             ],
             [
              1,
              "#f0f921"
             ]
            ],
            "type": "histogram2d"
           }
          ],
          "histogram2dcontour": [
           {
            "colorbar": {
             "outlinewidth": 0,
             "ticks": ""
            },
            "colorscale": [
             [
              0,
              "#0d0887"
             ],
             [
              0.1111111111111111,
              "#46039f"
             ],
             [
              0.2222222222222222,
              "#7201a8"
             ],
             [
              0.3333333333333333,
              "#9c179e"
             ],
             [
              0.4444444444444444,
              "#bd3786"
             ],
             [
              0.5555555555555556,
              "#d8576b"
             ],
             [
              0.6666666666666666,
              "#ed7953"
             ],
             [
              0.7777777777777778,
              "#fb9f3a"
             ],
             [
              0.8888888888888888,
              "#fdca26"
             ],
             [
              1,
              "#f0f921"
             ]
            ],
            "type": "histogram2dcontour"
           }
          ],
          "mesh3d": [
           {
            "colorbar": {
             "outlinewidth": 0,
             "ticks": ""
            },
            "type": "mesh3d"
           }
          ],
          "parcoords": [
           {
            "line": {
             "colorbar": {
              "outlinewidth": 0,
              "ticks": ""
             }
            },
            "type": "parcoords"
           }
          ],
          "pie": [
           {
            "automargin": true,
            "type": "pie"
           }
          ],
          "scatter": [
           {
            "fillpattern": {
             "fillmode": "overlay",
             "size": 10,
             "solidity": 0.2
            },
            "type": "scatter"
           }
          ],
          "scatter3d": [
           {
            "line": {
             "colorbar": {
              "outlinewidth": 0,
              "ticks": ""
             }
            },
            "marker": {
             "colorbar": {
              "outlinewidth": 0,
              "ticks": ""
             }
            },
            "type": "scatter3d"
           }
          ],
          "scattercarpet": [
           {
            "marker": {
             "colorbar": {
              "outlinewidth": 0,
              "ticks": ""
             }
            },
            "type": "scattercarpet"
           }
          ],
          "scattergeo": [
           {
            "marker": {
             "colorbar": {
              "outlinewidth": 0,
              "ticks": ""
             }
            },
            "type": "scattergeo"
           }
          ],
          "scattergl": [
           {
            "marker": {
             "colorbar": {
              "outlinewidth": 0,
              "ticks": ""
             }
            },
            "type": "scattergl"
           }
          ],
          "scattermap": [
           {
            "marker": {
             "colorbar": {
              "outlinewidth": 0,
              "ticks": ""
             }
            },
            "type": "scattermap"
           }
          ],
          "scattermapbox": [
           {
            "marker": {
             "colorbar": {
              "outlinewidth": 0,
              "ticks": ""
             }
            },
            "type": "scattermapbox"
           }
          ],
          "scatterpolar": [
           {
            "marker": {
             "colorbar": {
              "outlinewidth": 0,
              "ticks": ""
             }
            },
            "type": "scatterpolar"
           }
          ],
          "scatterpolargl": [
           {
            "marker": {
             "colorbar": {
              "outlinewidth": 0,
              "ticks": ""
             }
            },
            "type": "scatterpolargl"
           }
          ],
          "scatterternary": [
           {
            "marker": {
             "colorbar": {
              "outlinewidth": 0,
              "ticks": ""
             }
            },
            "type": "scatterternary"
           }
          ],
          "surface": [
           {
            "colorbar": {
             "outlinewidth": 0,
             "ticks": ""
            },
            "colorscale": [
             [
              0,
              "#0d0887"
             ],
             [
              0.1111111111111111,
              "#46039f"
             ],
             [
              0.2222222222222222,
              "#7201a8"
             ],
             [
              0.3333333333333333,
              "#9c179e"
             ],
             [
              0.4444444444444444,
              "#bd3786"
             ],
             [
              0.5555555555555556,
              "#d8576b"
             ],
             [
              0.6666666666666666,
              "#ed7953"
             ],
             [
              0.7777777777777778,
              "#fb9f3a"
             ],
             [
              0.8888888888888888,
              "#fdca26"
             ],
             [
              1,
              "#f0f921"
             ]
            ],
            "type": "surface"
           }
          ],
          "table": [
           {
            "cells": {
             "fill": {
              "color": "#EBF0F8"
             },
             "line": {
              "color": "white"
             }
            },
            "header": {
             "fill": {
              "color": "#C8D4E3"
             },
             "line": {
              "color": "white"
             }
            },
            "type": "table"
           }
          ]
         },
         "layout": {
          "annotationdefaults": {
           "arrowcolor": "#2a3f5f",
           "arrowhead": 0,
           "arrowwidth": 1
          },
          "autotypenumbers": "strict",
          "coloraxis": {
           "colorbar": {
            "outlinewidth": 0,
            "ticks": ""
           }
          },
          "colorscale": {
           "diverging": [
            [
             0,
             "#8e0152"
            ],
            [
             0.1,
             "#c51b7d"
            ],
            [
             0.2,
             "#de77ae"
            ],
            [
             0.3,
             "#f1b6da"
            ],
            [
             0.4,
             "#fde0ef"
            ],
            [
             0.5,
             "#f7f7f7"
            ],
            [
             0.6,
             "#e6f5d0"
            ],
            [
             0.7,
             "#b8e186"
            ],
            [
             0.8,
             "#7fbc41"
            ],
            [
             0.9,
             "#4d9221"
            ],
            [
             1,
             "#276419"
            ]
           ],
           "sequential": [
            [
             0,
             "#0d0887"
            ],
            [
             0.1111111111111111,
             "#46039f"
            ],
            [
             0.2222222222222222,
             "#7201a8"
            ],
            [
             0.3333333333333333,
             "#9c179e"
            ],
            [
             0.4444444444444444,
             "#bd3786"
            ],
            [
             0.5555555555555556,
             "#d8576b"
            ],
            [
             0.6666666666666666,
             "#ed7953"
            ],
            [
             0.7777777777777778,
             "#fb9f3a"
            ],
            [
             0.8888888888888888,
             "#fdca26"
            ],
            [
             1,
             "#f0f921"
            ]
           ],
           "sequentialminus": [
            [
             0,
             "#0d0887"
            ],
            [
             0.1111111111111111,
             "#46039f"
            ],
            [
             0.2222222222222222,
             "#7201a8"
            ],
            [
             0.3333333333333333,
             "#9c179e"
            ],
            [
             0.4444444444444444,
             "#bd3786"
            ],
            [
             0.5555555555555556,
             "#d8576b"
            ],
            [
             0.6666666666666666,
             "#ed7953"
            ],
            [
             0.7777777777777778,
             "#fb9f3a"
            ],
            [
             0.8888888888888888,
             "#fdca26"
            ],
            [
             1,
             "#f0f921"
            ]
           ]
          },
          "colorway": [
           "#636efa",
           "#EF553B",
           "#00cc96",
           "#ab63fa",
           "#FFA15A",
           "#19d3f3",
           "#FF6692",
           "#B6E880",
           "#FF97FF",
           "#FECB52"
          ],
          "font": {
           "color": "#2a3f5f"
          },
          "geo": {
           "bgcolor": "white",
           "lakecolor": "white",
           "landcolor": "#E5ECF6",
           "showlakes": true,
           "showland": true,
           "subunitcolor": "white"
          },
          "hoverlabel": {
           "align": "left"
          },
          "hovermode": "closest",
          "mapbox": {
           "style": "light"
          },
          "paper_bgcolor": "white",
          "plot_bgcolor": "#E5ECF6",
          "polar": {
           "angularaxis": {
            "gridcolor": "white",
            "linecolor": "white",
            "ticks": ""
           },
           "bgcolor": "#E5ECF6",
           "radialaxis": {
            "gridcolor": "white",
            "linecolor": "white",
            "ticks": ""
           }
          },
          "scene": {
           "xaxis": {
            "backgroundcolor": "#E5ECF6",
            "gridcolor": "white",
            "gridwidth": 2,
            "linecolor": "white",
            "showbackground": true,
            "ticks": "",
            "zerolinecolor": "white"
           },
           "yaxis": {
            "backgroundcolor": "#E5ECF6",
            "gridcolor": "white",
            "gridwidth": 2,
            "linecolor": "white",
            "showbackground": true,
            "ticks": "",
            "zerolinecolor": "white"
           },
           "zaxis": {
            "backgroundcolor": "#E5ECF6",
            "gridcolor": "white",
            "gridwidth": 2,
            "linecolor": "white",
            "showbackground": true,
            "ticks": "",
            "zerolinecolor": "white"
           }
          },
          "shapedefaults": {
           "line": {
            "color": "#2a3f5f"
           }
          },
          "ternary": {
           "aaxis": {
            "gridcolor": "white",
            "linecolor": "white",
            "ticks": ""
           },
           "baxis": {
            "gridcolor": "white",
            "linecolor": "white",
            "ticks": ""
           },
           "bgcolor": "#E5ECF6",
           "caxis": {
            "gridcolor": "white",
            "linecolor": "white",
            "ticks": ""
           }
          },
          "title": {
           "x": 0.05
          },
          "xaxis": {
           "automargin": true,
           "gridcolor": "white",
           "linecolor": "white",
           "ticks": "",
           "title": {
            "standoff": 15
           },
           "zerolinecolor": "white",
           "zerolinewidth": 2
          },
          "yaxis": {
           "automargin": true,
           "gridcolor": "white",
           "linecolor": "white",
           "ticks": "",
           "title": {
            "standoff": 15
           },
           "zerolinecolor": "white",
           "zerolinewidth": 2
          }
         }
        },
        "title": {
         "text": "Students and their marks"
        }
       }
      }
     },
     "metadata": {},
     "output_type": "display_data"
    }
   ],
   "source": [
    "\n",
    "# Pie chart\n",
    "stud = ['Leo', 'Steve', 'Claire', 'Caprio', 'Sharman', 'Kiya']\n",
    "marks = [34, 56, 76, 87, 45, 90, 91]\n",
    "\n",
    "# Assicurati che la lunghezza di 'pull' corrisponda a quella di 'stud'\n",
    "fig = go.Figure(data=[\n",
    "    go.Pie(\n",
    "        labels=stud,\n",
    "        values=marks,\n",
    "        pull=[0, 0, 0, 0.2, 0, 0]  # Caprio evidenziato\n",
    "    )\n",
    "])\n",
    "\n",
    "fig.update_traces(textposition='inside', textinfo='percent+label')\n",
    "fig.update_layout(title=\"Students and their marks\")\n",
    "\n",
    "fig.show()\n"
   ]
  },
  {
   "cell_type": "code",
   "execution_count": 20,
   "metadata": {},
   "outputs": [
    {
     "data": {
      "application/vnd.plotly.v1+json": {
       "config": {
        "plotlyServerURL": "https://plot.ly"
       },
       "data": [
        {
         "labels": [
          "Leo",
          "Steve",
          "Claire",
          "Caprio",
          "Sharman",
          "Kiya"
         ],
         "parents": [
          "Steve",
          "",
          "Caprio",
          "Leo",
          "Steve",
          "Sharman"
         ],
         "type": "sunburst",
         "values": [
          34,
          56,
          76,
          87,
          45,
          90
         ]
        }
       ],
       "layout": {
        "margin": {
         "b": 1,
         "l": 1,
         "r": 1,
         "t": 1
        },
        "template": {
         "data": {
          "bar": [
           {
            "error_x": {
             "color": "#2a3f5f"
            },
            "error_y": {
             "color": "#2a3f5f"
            },
            "marker": {
             "line": {
              "color": "#E5ECF6",
              "width": 0.5
             },
             "pattern": {
              "fillmode": "overlay",
              "size": 10,
              "solidity": 0.2
             }
            },
            "type": "bar"
           }
          ],
          "barpolar": [
           {
            "marker": {
             "line": {
              "color": "#E5ECF6",
              "width": 0.5
             },
             "pattern": {
              "fillmode": "overlay",
              "size": 10,
              "solidity": 0.2
             }
            },
            "type": "barpolar"
           }
          ],
          "carpet": [
           {
            "aaxis": {
             "endlinecolor": "#2a3f5f",
             "gridcolor": "white",
             "linecolor": "white",
             "minorgridcolor": "white",
             "startlinecolor": "#2a3f5f"
            },
            "baxis": {
             "endlinecolor": "#2a3f5f",
             "gridcolor": "white",
             "linecolor": "white",
             "minorgridcolor": "white",
             "startlinecolor": "#2a3f5f"
            },
            "type": "carpet"
           }
          ],
          "choropleth": [
           {
            "colorbar": {
             "outlinewidth": 0,
             "ticks": ""
            },
            "type": "choropleth"
           }
          ],
          "contour": [
           {
            "colorbar": {
             "outlinewidth": 0,
             "ticks": ""
            },
            "colorscale": [
             [
              0,
              "#0d0887"
             ],
             [
              0.1111111111111111,
              "#46039f"
             ],
             [
              0.2222222222222222,
              "#7201a8"
             ],
             [
              0.3333333333333333,
              "#9c179e"
             ],
             [
              0.4444444444444444,
              "#bd3786"
             ],
             [
              0.5555555555555556,
              "#d8576b"
             ],
             [
              0.6666666666666666,
              "#ed7953"
             ],
             [
              0.7777777777777778,
              "#fb9f3a"
             ],
             [
              0.8888888888888888,
              "#fdca26"
             ],
             [
              1,
              "#f0f921"
             ]
            ],
            "type": "contour"
           }
          ],
          "contourcarpet": [
           {
            "colorbar": {
             "outlinewidth": 0,
             "ticks": ""
            },
            "type": "contourcarpet"
           }
          ],
          "heatmap": [
           {
            "colorbar": {
             "outlinewidth": 0,
             "ticks": ""
            },
            "colorscale": [
             [
              0,
              "#0d0887"
             ],
             [
              0.1111111111111111,
              "#46039f"
             ],
             [
              0.2222222222222222,
              "#7201a8"
             ],
             [
              0.3333333333333333,
              "#9c179e"
             ],
             [
              0.4444444444444444,
              "#bd3786"
             ],
             [
              0.5555555555555556,
              "#d8576b"
             ],
             [
              0.6666666666666666,
              "#ed7953"
             ],
             [
              0.7777777777777778,
              "#fb9f3a"
             ],
             [
              0.8888888888888888,
              "#fdca26"
             ],
             [
              1,
              "#f0f921"
             ]
            ],
            "type": "heatmap"
           }
          ],
          "histogram": [
           {
            "marker": {
             "pattern": {
              "fillmode": "overlay",
              "size": 10,
              "solidity": 0.2
             }
            },
            "type": "histogram"
           }
          ],
          "histogram2d": [
           {
            "colorbar": {
             "outlinewidth": 0,
             "ticks": ""
            },
            "colorscale": [
             [
              0,
              "#0d0887"
             ],
             [
              0.1111111111111111,
              "#46039f"
             ],
             [
              0.2222222222222222,
              "#7201a8"
             ],
             [
              0.3333333333333333,
              "#9c179e"
             ],
             [
              0.4444444444444444,
              "#bd3786"
             ],
             [
              0.5555555555555556,
              "#d8576b"
             ],
             [
              0.6666666666666666,
              "#ed7953"
             ],
             [
              0.7777777777777778,
              "#fb9f3a"
             ],
             [
              0.8888888888888888,
              "#fdca26"
             ],
             [
              1,
              "#f0f921"
             ]
            ],
            "type": "histogram2d"
           }
          ],
          "histogram2dcontour": [
           {
            "colorbar": {
             "outlinewidth": 0,
             "ticks": ""
            },
            "colorscale": [
             [
              0,
              "#0d0887"
             ],
             [
              0.1111111111111111,
              "#46039f"
             ],
             [
              0.2222222222222222,
              "#7201a8"
             ],
             [
              0.3333333333333333,
              "#9c179e"
             ],
             [
              0.4444444444444444,
              "#bd3786"
             ],
             [
              0.5555555555555556,
              "#d8576b"
             ],
             [
              0.6666666666666666,
              "#ed7953"
             ],
             [
              0.7777777777777778,
              "#fb9f3a"
             ],
             [
              0.8888888888888888,
              "#fdca26"
             ],
             [
              1,
              "#f0f921"
             ]
            ],
            "type": "histogram2dcontour"
           }
          ],
          "mesh3d": [
           {
            "colorbar": {
             "outlinewidth": 0,
             "ticks": ""
            },
            "type": "mesh3d"
           }
          ],
          "parcoords": [
           {
            "line": {
             "colorbar": {
              "outlinewidth": 0,
              "ticks": ""
             }
            },
            "type": "parcoords"
           }
          ],
          "pie": [
           {
            "automargin": true,
            "type": "pie"
           }
          ],
          "scatter": [
           {
            "fillpattern": {
             "fillmode": "overlay",
             "size": 10,
             "solidity": 0.2
            },
            "type": "scatter"
           }
          ],
          "scatter3d": [
           {
            "line": {
             "colorbar": {
              "outlinewidth": 0,
              "ticks": ""
             }
            },
            "marker": {
             "colorbar": {
              "outlinewidth": 0,
              "ticks": ""
             }
            },
            "type": "scatter3d"
           }
          ],
          "scattercarpet": [
           {
            "marker": {
             "colorbar": {
              "outlinewidth": 0,
              "ticks": ""
             }
            },
            "type": "scattercarpet"
           }
          ],
          "scattergeo": [
           {
            "marker": {
             "colorbar": {
              "outlinewidth": 0,
              "ticks": ""
             }
            },
            "type": "scattergeo"
           }
          ],
          "scattergl": [
           {
            "marker": {
             "colorbar": {
              "outlinewidth": 0,
              "ticks": ""
             }
            },
            "type": "scattergl"
           }
          ],
          "scattermap": [
           {
            "marker": {
             "colorbar": {
              "outlinewidth": 0,
              "ticks": ""
             }
            },
            "type": "scattermap"
           }
          ],
          "scattermapbox": [
           {
            "marker": {
             "colorbar": {
              "outlinewidth": 0,
              "ticks": ""
             }
            },
            "type": "scattermapbox"
           }
          ],
          "scatterpolar": [
           {
            "marker": {
             "colorbar": {
              "outlinewidth": 0,
              "ticks": ""
             }
            },
            "type": "scatterpolar"
           }
          ],
          "scatterpolargl": [
           {
            "marker": {
             "colorbar": {
              "outlinewidth": 0,
              "ticks": ""
             }
            },
            "type": "scatterpolargl"
           }
          ],
          "scatterternary": [
           {
            "marker": {
             "colorbar": {
              "outlinewidth": 0,
              "ticks": ""
             }
            },
            "type": "scatterternary"
           }
          ],
          "surface": [
           {
            "colorbar": {
             "outlinewidth": 0,
             "ticks": ""
            },
            "colorscale": [
             [
              0,
              "#0d0887"
             ],
             [
              0.1111111111111111,
              "#46039f"
             ],
             [
              0.2222222222222222,
              "#7201a8"
             ],
             [
              0.3333333333333333,
              "#9c179e"
             ],
             [
              0.4444444444444444,
              "#bd3786"
             ],
             [
              0.5555555555555556,
              "#d8576b"
             ],
             [
              0.6666666666666666,
              "#ed7953"
             ],
             [
              0.7777777777777778,
              "#fb9f3a"
             ],
             [
              0.8888888888888888,
              "#fdca26"
             ],
             [
              1,
              "#f0f921"
             ]
            ],
            "type": "surface"
           }
          ],
          "table": [
           {
            "cells": {
             "fill": {
              "color": "#EBF0F8"
             },
             "line": {
              "color": "white"
             }
            },
            "header": {
             "fill": {
              "color": "#C8D4E3"
             },
             "line": {
              "color": "white"
             }
            },
            "type": "table"
           }
          ]
         },
         "layout": {
          "annotationdefaults": {
           "arrowcolor": "#2a3f5f",
           "arrowhead": 0,
           "arrowwidth": 1
          },
          "autotypenumbers": "strict",
          "coloraxis": {
           "colorbar": {
            "outlinewidth": 0,
            "ticks": ""
           }
          },
          "colorscale": {
           "diverging": [
            [
             0,
             "#8e0152"
            ],
            [
             0.1,
             "#c51b7d"
            ],
            [
             0.2,
             "#de77ae"
            ],
            [
             0.3,
             "#f1b6da"
            ],
            [
             0.4,
             "#fde0ef"
            ],
            [
             0.5,
             "#f7f7f7"
            ],
            [
             0.6,
             "#e6f5d0"
            ],
            [
             0.7,
             "#b8e186"
            ],
            [
             0.8,
             "#7fbc41"
            ],
            [
             0.9,
             "#4d9221"
            ],
            [
             1,
             "#276419"
            ]
           ],
           "sequential": [
            [
             0,
             "#0d0887"
            ],
            [
             0.1111111111111111,
             "#46039f"
            ],
            [
             0.2222222222222222,
             "#7201a8"
            ],
            [
             0.3333333333333333,
             "#9c179e"
            ],
            [
             0.4444444444444444,
             "#bd3786"
            ],
            [
             0.5555555555555556,
             "#d8576b"
            ],
            [
             0.6666666666666666,
             "#ed7953"
            ],
            [
             0.7777777777777778,
             "#fb9f3a"
            ],
            [
             0.8888888888888888,
             "#fdca26"
            ],
            [
             1,
             "#f0f921"
            ]
           ],
           "sequentialminus": [
            [
             0,
             "#0d0887"
            ],
            [
             0.1111111111111111,
             "#46039f"
            ],
            [
             0.2222222222222222,
             "#7201a8"
            ],
            [
             0.3333333333333333,
             "#9c179e"
            ],
            [
             0.4444444444444444,
             "#bd3786"
            ],
            [
             0.5555555555555556,
             "#d8576b"
            ],
            [
             0.6666666666666666,
             "#ed7953"
            ],
            [
             0.7777777777777778,
             "#fb9f3a"
            ],
            [
             0.8888888888888888,
             "#fdca26"
            ],
            [
             1,
             "#f0f921"
            ]
           ]
          },
          "colorway": [
           "#636efa",
           "#EF553B",
           "#00cc96",
           "#ab63fa",
           "#FFA15A",
           "#19d3f3",
           "#FF6692",
           "#B6E880",
           "#FF97FF",
           "#FECB52"
          ],
          "font": {
           "color": "#2a3f5f"
          },
          "geo": {
           "bgcolor": "white",
           "lakecolor": "white",
           "landcolor": "#E5ECF6",
           "showlakes": true,
           "showland": true,
           "subunitcolor": "white"
          },
          "hoverlabel": {
           "align": "left"
          },
          "hovermode": "closest",
          "mapbox": {
           "style": "light"
          },
          "paper_bgcolor": "white",
          "plot_bgcolor": "#E5ECF6",
          "polar": {
           "angularaxis": {
            "gridcolor": "white",
            "linecolor": "white",
            "ticks": ""
           },
           "bgcolor": "#E5ECF6",
           "radialaxis": {
            "gridcolor": "white",
            "linecolor": "white",
            "ticks": ""
           }
          },
          "scene": {
           "xaxis": {
            "backgroundcolor": "#E5ECF6",
            "gridcolor": "white",
            "gridwidth": 2,
            "linecolor": "white",
            "showbackground": true,
            "ticks": "",
            "zerolinecolor": "white"
           },
           "yaxis": {
            "backgroundcolor": "#E5ECF6",
            "gridcolor": "white",
            "gridwidth": 2,
            "linecolor": "white",
            "showbackground": true,
            "ticks": "",
            "zerolinecolor": "white"
           },
           "zaxis": {
            "backgroundcolor": "#E5ECF6",
            "gridcolor": "white",
            "gridwidth": 2,
            "linecolor": "white",
            "showbackground": true,
            "ticks": "",
            "zerolinecolor": "white"
           }
          },
          "shapedefaults": {
           "line": {
            "color": "#2a3f5f"
           }
          },
          "ternary": {
           "aaxis": {
            "gridcolor": "white",
            "linecolor": "white",
            "ticks": ""
           },
           "baxis": {
            "gridcolor": "white",
            "linecolor": "white",
            "ticks": ""
           },
           "bgcolor": "#E5ECF6",
           "caxis": {
            "gridcolor": "white",
            "linecolor": "white",
            "ticks": ""
           }
          },
          "title": {
           "x": 0.05
          },
          "xaxis": {
           "automargin": true,
           "gridcolor": "white",
           "linecolor": "white",
           "ticks": "",
           "title": {
            "standoff": 15
           },
           "zerolinecolor": "white",
           "zerolinewidth": 2
          },
          "yaxis": {
           "automargin": true,
           "gridcolor": "white",
           "linecolor": "white",
           "ticks": "",
           "title": {
            "standoff": 15
           },
           "zerolinecolor": "white",
           "zerolinewidth": 2
          }
         }
        }
       }
      }
     },
     "metadata": {},
     "output_type": "display_data"
    }
   ],
   "source": [
    "# Dati\n",
    "stud = ['Leo', 'Steve', 'Claire', 'Caprio', 'Sharman', 'Kiya']\n",
    "teacher = ['Steve', \"\", 'Caprio', 'Leo', 'Steve', 'Sharman']\n",
    "marks = [34, 56, 76, 87, 45, 90]\n",
    "\n",
    "# Sunburst chart\n",
    "fig = go.Figure(go.Sunburst(\n",
    "    labels=stud,\n",
    "    parents=teacher,\n",
    "    values=marks\n",
    "))\n",
    "\n",
    "fig.update_layout(margin=dict(t=1, l=1, r=1, b=1))\n",
    "fig.show()"
   ]
  },
  {
   "cell_type": "code",
   "execution_count": 21,
   "metadata": {},
   "outputs": [
    {
     "data": {
      "application/vnd.plotly.v1+json": {
       "config": {
        "plotlyServerURL": "https://plot.ly"
       },
       "data": [
        {
         "branchvalues": "total",
         "labels": [
          "World",
          "Europe",
          "Italy",
          "Rome",
          "Milan"
         ],
         "parents": [
          "",
          "World",
          "Europe",
          "Italy",
          "Italy"
         ],
         "type": "sunburst",
         "values": [
          150,
          100,
          70,
          40,
          30
         ]
        }
       ],
       "layout": {
        "margin": {
         "b": 0,
         "l": 0,
         "r": 0,
         "t": 0
        },
        "template": {
         "data": {
          "bar": [
           {
            "error_x": {
             "color": "#2a3f5f"
            },
            "error_y": {
             "color": "#2a3f5f"
            },
            "marker": {
             "line": {
              "color": "#E5ECF6",
              "width": 0.5
             },
             "pattern": {
              "fillmode": "overlay",
              "size": 10,
              "solidity": 0.2
             }
            },
            "type": "bar"
           }
          ],
          "barpolar": [
           {
            "marker": {
             "line": {
              "color": "#E5ECF6",
              "width": 0.5
             },
             "pattern": {
              "fillmode": "overlay",
              "size": 10,
              "solidity": 0.2
             }
            },
            "type": "barpolar"
           }
          ],
          "carpet": [
           {
            "aaxis": {
             "endlinecolor": "#2a3f5f",
             "gridcolor": "white",
             "linecolor": "white",
             "minorgridcolor": "white",
             "startlinecolor": "#2a3f5f"
            },
            "baxis": {
             "endlinecolor": "#2a3f5f",
             "gridcolor": "white",
             "linecolor": "white",
             "minorgridcolor": "white",
             "startlinecolor": "#2a3f5f"
            },
            "type": "carpet"
           }
          ],
          "choropleth": [
           {
            "colorbar": {
             "outlinewidth": 0,
             "ticks": ""
            },
            "type": "choropleth"
           }
          ],
          "contour": [
           {
            "colorbar": {
             "outlinewidth": 0,
             "ticks": ""
            },
            "colorscale": [
             [
              0,
              "#0d0887"
             ],
             [
              0.1111111111111111,
              "#46039f"
             ],
             [
              0.2222222222222222,
              "#7201a8"
             ],
             [
              0.3333333333333333,
              "#9c179e"
             ],
             [
              0.4444444444444444,
              "#bd3786"
             ],
             [
              0.5555555555555556,
              "#d8576b"
             ],
             [
              0.6666666666666666,
              "#ed7953"
             ],
             [
              0.7777777777777778,
              "#fb9f3a"
             ],
             [
              0.8888888888888888,
              "#fdca26"
             ],
             [
              1,
              "#f0f921"
             ]
            ],
            "type": "contour"
           }
          ],
          "contourcarpet": [
           {
            "colorbar": {
             "outlinewidth": 0,
             "ticks": ""
            },
            "type": "contourcarpet"
           }
          ],
          "heatmap": [
           {
            "colorbar": {
             "outlinewidth": 0,
             "ticks": ""
            },
            "colorscale": [
             [
              0,
              "#0d0887"
             ],
             [
              0.1111111111111111,
              "#46039f"
             ],
             [
              0.2222222222222222,
              "#7201a8"
             ],
             [
              0.3333333333333333,
              "#9c179e"
             ],
             [
              0.4444444444444444,
              "#bd3786"
             ],
             [
              0.5555555555555556,
              "#d8576b"
             ],
             [
              0.6666666666666666,
              "#ed7953"
             ],
             [
              0.7777777777777778,
              "#fb9f3a"
             ],
             [
              0.8888888888888888,
              "#fdca26"
             ],
             [
              1,
              "#f0f921"
             ]
            ],
            "type": "heatmap"
           }
          ],
          "histogram": [
           {
            "marker": {
             "pattern": {
              "fillmode": "overlay",
              "size": 10,
              "solidity": 0.2
             }
            },
            "type": "histogram"
           }
          ],
          "histogram2d": [
           {
            "colorbar": {
             "outlinewidth": 0,
             "ticks": ""
            },
            "colorscale": [
             [
              0,
              "#0d0887"
             ],
             [
              0.1111111111111111,
              "#46039f"
             ],
             [
              0.2222222222222222,
              "#7201a8"
             ],
             [
              0.3333333333333333,
              "#9c179e"
             ],
             [
              0.4444444444444444,
              "#bd3786"
             ],
             [
              0.5555555555555556,
              "#d8576b"
             ],
             [
              0.6666666666666666,
              "#ed7953"
             ],
             [
              0.7777777777777778,
              "#fb9f3a"
             ],
             [
              0.8888888888888888,
              "#fdca26"
             ],
             [
              1,
              "#f0f921"
             ]
            ],
            "type": "histogram2d"
           }
          ],
          "histogram2dcontour": [
           {
            "colorbar": {
             "outlinewidth": 0,
             "ticks": ""
            },
            "colorscale": [
             [
              0,
              "#0d0887"
             ],
             [
              0.1111111111111111,
              "#46039f"
             ],
             [
              0.2222222222222222,
              "#7201a8"
             ],
             [
              0.3333333333333333,
              "#9c179e"
             ],
             [
              0.4444444444444444,
              "#bd3786"
             ],
             [
              0.5555555555555556,
              "#d8576b"
             ],
             [
              0.6666666666666666,
              "#ed7953"
             ],
             [
              0.7777777777777778,
              "#fb9f3a"
             ],
             [
              0.8888888888888888,
              "#fdca26"
             ],
             [
              1,
              "#f0f921"
             ]
            ],
            "type": "histogram2dcontour"
           }
          ],
          "mesh3d": [
           {
            "colorbar": {
             "outlinewidth": 0,
             "ticks": ""
            },
            "type": "mesh3d"
           }
          ],
          "parcoords": [
           {
            "line": {
             "colorbar": {
              "outlinewidth": 0,
              "ticks": ""
             }
            },
            "type": "parcoords"
           }
          ],
          "pie": [
           {
            "automargin": true,
            "type": "pie"
           }
          ],
          "scatter": [
           {
            "fillpattern": {
             "fillmode": "overlay",
             "size": 10,
             "solidity": 0.2
            },
            "type": "scatter"
           }
          ],
          "scatter3d": [
           {
            "line": {
             "colorbar": {
              "outlinewidth": 0,
              "ticks": ""
             }
            },
            "marker": {
             "colorbar": {
              "outlinewidth": 0,
              "ticks": ""
             }
            },
            "type": "scatter3d"
           }
          ],
          "scattercarpet": [
           {
            "marker": {
             "colorbar": {
              "outlinewidth": 0,
              "ticks": ""
             }
            },
            "type": "scattercarpet"
           }
          ],
          "scattergeo": [
           {
            "marker": {
             "colorbar": {
              "outlinewidth": 0,
              "ticks": ""
             }
            },
            "type": "scattergeo"
           }
          ],
          "scattergl": [
           {
            "marker": {
             "colorbar": {
              "outlinewidth": 0,
              "ticks": ""
             }
            },
            "type": "scattergl"
           }
          ],
          "scattermap": [
           {
            "marker": {
             "colorbar": {
              "outlinewidth": 0,
              "ticks": ""
             }
            },
            "type": "scattermap"
           }
          ],
          "scattermapbox": [
           {
            "marker": {
             "colorbar": {
              "outlinewidth": 0,
              "ticks": ""
             }
            },
            "type": "scattermapbox"
           }
          ],
          "scatterpolar": [
           {
            "marker": {
             "colorbar": {
              "outlinewidth": 0,
              "ticks": ""
             }
            },
            "type": "scatterpolar"
           }
          ],
          "scatterpolargl": [
           {
            "marker": {
             "colorbar": {
              "outlinewidth": 0,
              "ticks": ""
             }
            },
            "type": "scatterpolargl"
           }
          ],
          "scatterternary": [
           {
            "marker": {
             "colorbar": {
              "outlinewidth": 0,
              "ticks": ""
             }
            },
            "type": "scatterternary"
           }
          ],
          "surface": [
           {
            "colorbar": {
             "outlinewidth": 0,
             "ticks": ""
            },
            "colorscale": [
             [
              0,
              "#0d0887"
             ],
             [
              0.1111111111111111,
              "#46039f"
             ],
             [
              0.2222222222222222,
              "#7201a8"
             ],
             [
              0.3333333333333333,
              "#9c179e"
             ],
             [
              0.4444444444444444,
              "#bd3786"
             ],
             [
              0.5555555555555556,
              "#d8576b"
             ],
             [
              0.6666666666666666,
              "#ed7953"
             ],
             [
              0.7777777777777778,
              "#fb9f3a"
             ],
             [
              0.8888888888888888,
              "#fdca26"
             ],
             [
              1,
              "#f0f921"
             ]
            ],
            "type": "surface"
           }
          ],
          "table": [
           {
            "cells": {
             "fill": {
              "color": "#EBF0F8"
             },
             "line": {
              "color": "white"
             }
            },
            "header": {
             "fill": {
              "color": "#C8D4E3"
             },
             "line": {
              "color": "white"
             }
            },
            "type": "table"
           }
          ]
         },
         "layout": {
          "annotationdefaults": {
           "arrowcolor": "#2a3f5f",
           "arrowhead": 0,
           "arrowwidth": 1
          },
          "autotypenumbers": "strict",
          "coloraxis": {
           "colorbar": {
            "outlinewidth": 0,
            "ticks": ""
           }
          },
          "colorscale": {
           "diverging": [
            [
             0,
             "#8e0152"
            ],
            [
             0.1,
             "#c51b7d"
            ],
            [
             0.2,
             "#de77ae"
            ],
            [
             0.3,
             "#f1b6da"
            ],
            [
             0.4,
             "#fde0ef"
            ],
            [
             0.5,
             "#f7f7f7"
            ],
            [
             0.6,
             "#e6f5d0"
            ],
            [
             0.7,
             "#b8e186"
            ],
            [
             0.8,
             "#7fbc41"
            ],
            [
             0.9,
             "#4d9221"
            ],
            [
             1,
             "#276419"
            ]
           ],
           "sequential": [
            [
             0,
             "#0d0887"
            ],
            [
             0.1111111111111111,
             "#46039f"
            ],
            [
             0.2222222222222222,
             "#7201a8"
            ],
            [
             0.3333333333333333,
             "#9c179e"
            ],
            [
             0.4444444444444444,
             "#bd3786"
            ],
            [
             0.5555555555555556,
             "#d8576b"
            ],
            [
             0.6666666666666666,
             "#ed7953"
            ],
            [
             0.7777777777777778,
             "#fb9f3a"
            ],
            [
             0.8888888888888888,
             "#fdca26"
            ],
            [
             1,
             "#f0f921"
            ]
           ],
           "sequentialminus": [
            [
             0,
             "#0d0887"
            ],
            [
             0.1111111111111111,
             "#46039f"
            ],
            [
             0.2222222222222222,
             "#7201a8"
            ],
            [
             0.3333333333333333,
             "#9c179e"
            ],
            [
             0.4444444444444444,
             "#bd3786"
            ],
            [
             0.5555555555555556,
             "#d8576b"
            ],
            [
             0.6666666666666666,
             "#ed7953"
            ],
            [
             0.7777777777777778,
             "#fb9f3a"
            ],
            [
             0.8888888888888888,
             "#fdca26"
            ],
            [
             1,
             "#f0f921"
            ]
           ]
          },
          "colorway": [
           "#636efa",
           "#EF553B",
           "#00cc96",
           "#ab63fa",
           "#FFA15A",
           "#19d3f3",
           "#FF6692",
           "#B6E880",
           "#FF97FF",
           "#FECB52"
          ],
          "font": {
           "color": "#2a3f5f"
          },
          "geo": {
           "bgcolor": "white",
           "lakecolor": "white",
           "landcolor": "#E5ECF6",
           "showlakes": true,
           "showland": true,
           "subunitcolor": "white"
          },
          "hoverlabel": {
           "align": "left"
          },
          "hovermode": "closest",
          "mapbox": {
           "style": "light"
          },
          "paper_bgcolor": "white",
          "plot_bgcolor": "#E5ECF6",
          "polar": {
           "angularaxis": {
            "gridcolor": "white",
            "linecolor": "white",
            "ticks": ""
           },
           "bgcolor": "#E5ECF6",
           "radialaxis": {
            "gridcolor": "white",
            "linecolor": "white",
            "ticks": ""
           }
          },
          "scene": {
           "xaxis": {
            "backgroundcolor": "#E5ECF6",
            "gridcolor": "white",
            "gridwidth": 2,
            "linecolor": "white",
            "showbackground": true,
            "ticks": "",
            "zerolinecolor": "white"
           },
           "yaxis": {
            "backgroundcolor": "#E5ECF6",
            "gridcolor": "white",
            "gridwidth": 2,
            "linecolor": "white",
            "showbackground": true,
            "ticks": "",
            "zerolinecolor": "white"
           },
           "zaxis": {
            "backgroundcolor": "#E5ECF6",
            "gridcolor": "white",
            "gridwidth": 2,
            "linecolor": "white",
            "showbackground": true,
            "ticks": "",
            "zerolinecolor": "white"
           }
          },
          "shapedefaults": {
           "line": {
            "color": "#2a3f5f"
           }
          },
          "ternary": {
           "aaxis": {
            "gridcolor": "white",
            "linecolor": "white",
            "ticks": ""
           },
           "baxis": {
            "gridcolor": "white",
            "linecolor": "white",
            "ticks": ""
           },
           "bgcolor": "#E5ECF6",
           "caxis": {
            "gridcolor": "white",
            "linecolor": "white",
            "ticks": ""
           }
          },
          "title": {
           "x": 0.05
          },
          "xaxis": {
           "automargin": true,
           "gridcolor": "white",
           "linecolor": "white",
           "ticks": "",
           "title": {
            "standoff": 15
           },
           "zerolinecolor": "white",
           "zerolinewidth": 2
          },
          "yaxis": {
           "automargin": true,
           "gridcolor": "white",
           "linecolor": "white",
           "ticks": "",
           "title": {
            "standoff": 15
           },
           "zerolinecolor": "white",
           "zerolinewidth": 2
          }
         }
        }
       }
      }
     },
     "metadata": {},
     "output_type": "display_data"
    }
   ],
   "source": [
    "labels = [\"World\", \"Europe\", \"Italy\", \"Rome\", \"Milan\"]\n",
    "parents = [\"\", \"World\", \"Europe\", \"Italy\", \"Italy\"]\n",
    "values = [150, 100, 70, 40, 30]  # 40+30=70 (ok), 70+30=100 (ok), ecc.\n",
    "\n",
    "fig = go.Figure(go.Sunburst(\n",
    "    labels=labels,\n",
    "    parents=parents,\n",
    "    values=values,\n",
    "    branchvalues='total'  # tutti i genitori includono il valore dei figli\n",
    "))\n",
    "\n",
    "fig.update_layout(margin=dict(t=0, l=0, r=0, b=0))\n",
    "fig.show()"
   ]
  },
  {
   "cell_type": "code",
   "execution_count": 26,
   "metadata": {},
   "outputs": [
    {
     "data": {
      "text/html": [
       "<div>\n",
       "<style scoped>\n",
       "    .dataframe tbody tr th:only-of-type {\n",
       "        vertical-align: middle;\n",
       "    }\n",
       "\n",
       "    .dataframe tbody tr th {\n",
       "        vertical-align: top;\n",
       "    }\n",
       "\n",
       "    .dataframe thead th {\n",
       "        text-align: right;\n",
       "    }\n",
       "</style>\n",
       "<table border=\"1\" class=\"dataframe\">\n",
       "  <thead>\n",
       "    <tr style=\"text-align: right;\">\n",
       "      <th></th>\n",
       "      <th>sepal_length</th>\n",
       "      <th>sepal_width</th>\n",
       "      <th>petal_length</th>\n",
       "      <th>petal_width</th>\n",
       "      <th>species</th>\n",
       "    </tr>\n",
       "  </thead>\n",
       "  <tbody>\n",
       "    <tr>\n",
       "      <th>0</th>\n",
       "      <td>5.1</td>\n",
       "      <td>3.5</td>\n",
       "      <td>1.4</td>\n",
       "      <td>0.2</td>\n",
       "      <td>setosa</td>\n",
       "    </tr>\n",
       "    <tr>\n",
       "      <th>1</th>\n",
       "      <td>4.9</td>\n",
       "      <td>3.0</td>\n",
       "      <td>1.4</td>\n",
       "      <td>0.2</td>\n",
       "      <td>setosa</td>\n",
       "    </tr>\n",
       "    <tr>\n",
       "      <th>2</th>\n",
       "      <td>4.7</td>\n",
       "      <td>3.2</td>\n",
       "      <td>1.3</td>\n",
       "      <td>0.2</td>\n",
       "      <td>setosa</td>\n",
       "    </tr>\n",
       "    <tr>\n",
       "      <th>3</th>\n",
       "      <td>4.6</td>\n",
       "      <td>3.1</td>\n",
       "      <td>1.5</td>\n",
       "      <td>0.2</td>\n",
       "      <td>setosa</td>\n",
       "    </tr>\n",
       "    <tr>\n",
       "      <th>4</th>\n",
       "      <td>5.0</td>\n",
       "      <td>3.6</td>\n",
       "      <td>1.4</td>\n",
       "      <td>0.2</td>\n",
       "      <td>setosa</td>\n",
       "    </tr>\n",
       "  </tbody>\n",
       "</table>\n",
       "</div>"
      ],
      "text/plain": [
       "   sepal_length  sepal_width  petal_length  petal_width species\n",
       "0           5.1          3.5           1.4          0.2  setosa\n",
       "1           4.9          3.0           1.4          0.2  setosa\n",
       "2           4.7          3.2           1.3          0.2  setosa\n",
       "3           4.6          3.1           1.5          0.2  setosa\n",
       "4           5.0          3.6           1.4          0.2  setosa"
      ]
     },
     "execution_count": 26,
     "metadata": {},
     "output_type": "execute_result"
    }
   ],
   "source": [
    "#import urllib.request\n",
    "import plotly.express as px\n",
    "\n",
    "df = sns.load_dataset('iris')  \n",
    "# va bene anche  px.data.iris()\n",
    "df.head()"
   ]
  },
  {
   "cell_type": "code",
   "execution_count": 27,
   "metadata": {},
   "outputs": [
    {
     "data": {
      "application/vnd.plotly.v1+json": {
       "config": {
        "plotlyServerURL": "https://plot.ly"
       },
       "data": [
        {
         "hovertemplate": "species=setosa<br>sepal_width=%{x}<br>sepal_length=%{y}<extra></extra>",
         "legendgroup": "setosa",
         "marker": {
          "color": "#636efa",
          "symbol": "circle"
         },
         "mode": "markers",
         "name": "setosa",
         "orientation": "v",
         "showlegend": true,
         "type": "scatter",
         "x": {
          "bdata": "AAAAAAAADEAAAAAAAAAIQJqZmZmZmQlAzczMzMzMCEDNzMzMzMwMQDMzMzMzMw9AMzMzMzMzC0AzMzMzMzMLQDMzMzMzMwdAzczMzMzMCECamZmZmZkNQDMzMzMzMwtAAAAAAAAACEAAAAAAAAAIQAAAAAAAABBAmpmZmZmZEUAzMzMzMzMPQAAAAAAAAAxAZmZmZmZmDkBmZmZmZmYOQDMzMzMzMwtAmpmZmZmZDUDNzMzMzMwMQGZmZmZmZgpAMzMzMzMzC0AAAAAAAAAIQDMzMzMzMwtAAAAAAAAADEAzMzMzMzMLQJqZmZmZmQlAzczMzMzMCEAzMzMzMzMLQGZmZmZmZhBAzczMzMzMEEDNzMzMzMwIQJqZmZmZmQlAAAAAAAAADEDNzMzMzMwMQAAAAAAAAAhAMzMzMzMzC0AAAAAAAAAMQGZmZmZmZgJAmpmZmZmZCUAAAAAAAAAMQGZmZmZmZg5AAAAAAAAACEBmZmZmZmYOQJqZmZmZmQlAmpmZmZmZDUBmZmZmZmYKQA==",
          "dtype": "f8"
         },
         "xaxis": "x",
         "y": {
          "bdata": "ZmZmZmZmFECamZmZmZkTQM3MzMzMzBJAZmZmZmZmEkAAAAAAAAAUQJqZmZmZmRVAZmZmZmZmEkAAAAAAAAAUQJqZmZmZmRFAmpmZmZmZE0CamZmZmZkVQDMzMzMzMxNAMzMzMzMzE0AzMzMzMzMRQDMzMzMzMxdAzczMzMzMFkCamZmZmZkVQGZmZmZmZhRAzczMzMzMFkBmZmZmZmYUQJqZmZmZmRVAZmZmZmZmFEBmZmZmZmYSQGZmZmZmZhRAMzMzMzMzE0AAAAAAAAAUQAAAAAAAABRAzczMzMzMFEDNzMzMzMwUQM3MzMzMzBJAMzMzMzMzE0CamZmZmZkVQM3MzMzMzBRAAAAAAAAAFkCamZmZmZkTQAAAAAAAABRAAAAAAAAAFkCamZmZmZkTQJqZmZmZmRFAZmZmZmZmFEAAAAAAAAAUQAAAAAAAABJAmpmZmZmZEUAAAAAAAAAUQGZmZmZmZhRAMzMzMzMzE0BmZmZmZmYUQGZmZmZmZhJAMzMzMzMzFUAAAAAAAAAUQA==",
          "dtype": "f8"
         },
         "yaxis": "y"
        },
        {
         "hovertemplate": "species=versicolor<br>sepal_width=%{x}<br>sepal_length=%{y}<extra></extra>",
         "legendgroup": "versicolor",
         "marker": {
          "color": "#EF553B",
          "symbol": "circle"
         },
         "mode": "markers",
         "name": "versicolor",
         "orientation": "v",
         "showlegend": true,
         "type": "scatter",
         "x": {
          "bdata": "mpmZmZmZCUCamZmZmZkJQM3MzMzMzAhAZmZmZmZmAkBmZmZmZmYGQGZmZmZmZgZAZmZmZmZmCkAzMzMzMzMDQDMzMzMzMwdAmpmZmZmZBUAAAAAAAAAAQAAAAAAAAAhAmpmZmZmZAUAzMzMzMzMHQDMzMzMzMwdAzczMzMzMCEAAAAAAAAAIQJqZmZmZmQVAmpmZmZmZAUAAAAAAAAAEQJqZmZmZmQlAZmZmZmZmBkAAAAAAAAAEQGZmZmZmZgZAMzMzMzMzB0AAAAAAAAAIQGZmZmZmZgZAAAAAAAAACEAzMzMzMzMHQM3MzMzMzARAMzMzMzMzA0AzMzMzMzMDQJqZmZmZmQVAmpmZmZmZBUAAAAAAAAAIQDMzMzMzMwtAzczMzMzMCEBmZmZmZmYCQAAAAAAAAAhAAAAAAAAABEDNzMzMzMwEQAAAAAAAAAhAzczMzMzMBEBmZmZmZmYCQJqZmZmZmQVAAAAAAAAACEAzMzMzMzMHQDMzMzMzMwdAAAAAAAAABEBmZmZmZmYGQA==",
          "dtype": "f8"
         },
         "xaxis": "x",
         "y": {
          "bdata": "AAAAAAAAHECamZmZmZkZQJqZmZmZmRtAAAAAAAAAFkAAAAAAAAAaQM3MzMzMzBZAMzMzMzMzGUCamZmZmZkTQGZmZmZmZhpAzczMzMzMFEAAAAAAAAAUQJqZmZmZmRdAAAAAAAAAGEBmZmZmZmYYQGZmZmZmZhZAzczMzMzMGkBmZmZmZmYWQDMzMzMzMxdAzczMzMzMGEBmZmZmZmYWQJqZmZmZmRdAZmZmZmZmGEAzMzMzMzMZQGZmZmZmZhhAmpmZmZmZGUBmZmZmZmYaQDMzMzMzMxtAzczMzMzMGkAAAAAAAAAYQM3MzMzMzBZAAAAAAAAAFkAAAAAAAAAWQDMzMzMzMxdAAAAAAAAAGECamZmZmZkVQAAAAAAAABhAzczMzMzMGkAzMzMzMzMZQGZmZmZmZhZAAAAAAAAAFkAAAAAAAAAWQGZmZmZmZhhAMzMzMzMzF0AAAAAAAAAUQGZmZmZmZhZAzczMzMzMFkDNzMzMzMwWQM3MzMzMzBhAZmZmZmZmFEDNzMzMzMwWQA==",
          "dtype": "f8"
         },
         "yaxis": "y"
        },
        {
         "hovertemplate": "species=virginica<br>sepal_width=%{x}<br>sepal_length=%{y}<extra></extra>",
         "legendgroup": "virginica",
         "marker": {
          "color": "#00cc96",
          "symbol": "circle"
         },
         "mode": "markers",
         "name": "virginica",
         "orientation": "v",
         "showlegend": true,
         "type": "scatter",
         "x": {
          "bdata": "ZmZmZmZmCkCamZmZmZkFQAAAAAAAAAhAMzMzMzMzB0AAAAAAAAAIQAAAAAAAAAhAAAAAAAAABEAzMzMzMzMHQAAAAAAAAARAzczMzMzMDECamZmZmZkJQJqZmZmZmQVAAAAAAAAACEAAAAAAAAAEQGZmZmZmZgZAmpmZmZmZCUAAAAAAAAAIQGZmZmZmZg5AzczMzMzMBECamZmZmZkBQJqZmZmZmQlAZmZmZmZmBkBmZmZmZmYGQJqZmZmZmQVAZmZmZmZmCkCamZmZmZkJQGZmZmZmZgZAAAAAAAAACEBmZmZmZmYGQAAAAAAAAAhAZmZmZmZmBkBmZmZmZmYOQGZmZmZmZgZAZmZmZmZmBkDNzMzMzMwEQAAAAAAAAAhAMzMzMzMzC0DNzMzMzMwIQAAAAAAAAAhAzczMzMzMCEDNzMzMzMwIQM3MzMzMzAhAmpmZmZmZBUCamZmZmZkJQGZmZmZmZgpAAAAAAAAACEAAAAAAAAAEQAAAAAAAAAhAMzMzMzMzC0AAAAAAAAAIQA==",
          "dtype": "f8"
         },
         "xaxis": "x",
         "y": {
          "bdata": "MzMzMzMzGUAzMzMzMzMXQGZmZmZmZhxAMzMzMzMzGUAAAAAAAAAaQGZmZmZmZh5AmpmZmZmZE0AzMzMzMzMdQM3MzMzMzBpAzczMzMzMHEAAAAAAAAAaQJqZmZmZmRlAMzMzMzMzG0DNzMzMzMwWQDMzMzMzMxdAmpmZmZmZGUAAAAAAAAAaQM3MzMzMzB5AzczMzMzMHkAAAAAAAAAYQJqZmZmZmRtAZmZmZmZmFkDNzMzMzMweQDMzMzMzMxlAzczMzMzMGkDNzMzMzMwcQM3MzMzMzBhAZmZmZmZmGECamZmZmZkZQM3MzMzMzBxAmpmZmZmZHUCamZmZmZkfQJqZmZmZmRlAMzMzMzMzGUBmZmZmZmYYQM3MzMzMzB5AMzMzMzMzGUCamZmZmZkZQAAAAAAAABhAmpmZmZmZG0DNzMzMzMwaQJqZmZmZmRtAMzMzMzMzF0AzMzMzMzMbQM3MzMzMzBpAzczMzMzMGkAzMzMzMzMZQAAAAAAAABpAzczMzMzMGECamZmZmZkXQA==",
          "dtype": "f8"
         },
         "yaxis": "y"
        }
       ],
       "layout": {
        "legend": {
         "title": {
          "text": "species"
         },
         "tracegroupgap": 0
        },
        "margin": {
         "t": 60
        },
        "template": {
         "data": {
          "bar": [
           {
            "error_x": {
             "color": "#2a3f5f"
            },
            "error_y": {
             "color": "#2a3f5f"
            },
            "marker": {
             "line": {
              "color": "#E5ECF6",
              "width": 0.5
             },
             "pattern": {
              "fillmode": "overlay",
              "size": 10,
              "solidity": 0.2
             }
            },
            "type": "bar"
           }
          ],
          "barpolar": [
           {
            "marker": {
             "line": {
              "color": "#E5ECF6",
              "width": 0.5
             },
             "pattern": {
              "fillmode": "overlay",
              "size": 10,
              "solidity": 0.2
             }
            },
            "type": "barpolar"
           }
          ],
          "carpet": [
           {
            "aaxis": {
             "endlinecolor": "#2a3f5f",
             "gridcolor": "white",
             "linecolor": "white",
             "minorgridcolor": "white",
             "startlinecolor": "#2a3f5f"
            },
            "baxis": {
             "endlinecolor": "#2a3f5f",
             "gridcolor": "white",
             "linecolor": "white",
             "minorgridcolor": "white",
             "startlinecolor": "#2a3f5f"
            },
            "type": "carpet"
           }
          ],
          "choropleth": [
           {
            "colorbar": {
             "outlinewidth": 0,
             "ticks": ""
            },
            "type": "choropleth"
           }
          ],
          "contour": [
           {
            "colorbar": {
             "outlinewidth": 0,
             "ticks": ""
            },
            "colorscale": [
             [
              0,
              "#0d0887"
             ],
             [
              0.1111111111111111,
              "#46039f"
             ],
             [
              0.2222222222222222,
              "#7201a8"
             ],
             [
              0.3333333333333333,
              "#9c179e"
             ],
             [
              0.4444444444444444,
              "#bd3786"
             ],
             [
              0.5555555555555556,
              "#d8576b"
             ],
             [
              0.6666666666666666,
              "#ed7953"
             ],
             [
              0.7777777777777778,
              "#fb9f3a"
             ],
             [
              0.8888888888888888,
              "#fdca26"
             ],
             [
              1,
              "#f0f921"
             ]
            ],
            "type": "contour"
           }
          ],
          "contourcarpet": [
           {
            "colorbar": {
             "outlinewidth": 0,
             "ticks": ""
            },
            "type": "contourcarpet"
           }
          ],
          "heatmap": [
           {
            "colorbar": {
             "outlinewidth": 0,
             "ticks": ""
            },
            "colorscale": [
             [
              0,
              "#0d0887"
             ],
             [
              0.1111111111111111,
              "#46039f"
             ],
             [
              0.2222222222222222,
              "#7201a8"
             ],
             [
              0.3333333333333333,
              "#9c179e"
             ],
             [
              0.4444444444444444,
              "#bd3786"
             ],
             [
              0.5555555555555556,
              "#d8576b"
             ],
             [
              0.6666666666666666,
              "#ed7953"
             ],
             [
              0.7777777777777778,
              "#fb9f3a"
             ],
             [
              0.8888888888888888,
              "#fdca26"
             ],
             [
              1,
              "#f0f921"
             ]
            ],
            "type": "heatmap"
           }
          ],
          "histogram": [
           {
            "marker": {
             "pattern": {
              "fillmode": "overlay",
              "size": 10,
              "solidity": 0.2
             }
            },
            "type": "histogram"
           }
          ],
          "histogram2d": [
           {
            "colorbar": {
             "outlinewidth": 0,
             "ticks": ""
            },
            "colorscale": [
             [
              0,
              "#0d0887"
             ],
             [
              0.1111111111111111,
              "#46039f"
             ],
             [
              0.2222222222222222,
              "#7201a8"
             ],
             [
              0.3333333333333333,
              "#9c179e"
             ],
             [
              0.4444444444444444,
              "#bd3786"
             ],
             [
              0.5555555555555556,
              "#d8576b"
             ],
             [
              0.6666666666666666,
              "#ed7953"
             ],
             [
              0.7777777777777778,
              "#fb9f3a"
             ],
             [
              0.8888888888888888,
              "#fdca26"
             ],
             [
              1,
              "#f0f921"
             ]
            ],
            "type": "histogram2d"
           }
          ],
          "histogram2dcontour": [
           {
            "colorbar": {
             "outlinewidth": 0,
             "ticks": ""
            },
            "colorscale": [
             [
              0,
              "#0d0887"
             ],
             [
              0.1111111111111111,
              "#46039f"
             ],
             [
              0.2222222222222222,
              "#7201a8"
             ],
             [
              0.3333333333333333,
              "#9c179e"
             ],
             [
              0.4444444444444444,
              "#bd3786"
             ],
             [
              0.5555555555555556,
              "#d8576b"
             ],
             [
              0.6666666666666666,
              "#ed7953"
             ],
             [
              0.7777777777777778,
              "#fb9f3a"
             ],
             [
              0.8888888888888888,
              "#fdca26"
             ],
             [
              1,
              "#f0f921"
             ]
            ],
            "type": "histogram2dcontour"
           }
          ],
          "mesh3d": [
           {
            "colorbar": {
             "outlinewidth": 0,
             "ticks": ""
            },
            "type": "mesh3d"
           }
          ],
          "parcoords": [
           {
            "line": {
             "colorbar": {
              "outlinewidth": 0,
              "ticks": ""
             }
            },
            "type": "parcoords"
           }
          ],
          "pie": [
           {
            "automargin": true,
            "type": "pie"
           }
          ],
          "scatter": [
           {
            "fillpattern": {
             "fillmode": "overlay",
             "size": 10,
             "solidity": 0.2
            },
            "type": "scatter"
           }
          ],
          "scatter3d": [
           {
            "line": {
             "colorbar": {
              "outlinewidth": 0,
              "ticks": ""
             }
            },
            "marker": {
             "colorbar": {
              "outlinewidth": 0,
              "ticks": ""
             }
            },
            "type": "scatter3d"
           }
          ],
          "scattercarpet": [
           {
            "marker": {
             "colorbar": {
              "outlinewidth": 0,
              "ticks": ""
             }
            },
            "type": "scattercarpet"
           }
          ],
          "scattergeo": [
           {
            "marker": {
             "colorbar": {
              "outlinewidth": 0,
              "ticks": ""
             }
            },
            "type": "scattergeo"
           }
          ],
          "scattergl": [
           {
            "marker": {
             "colorbar": {
              "outlinewidth": 0,
              "ticks": ""
             }
            },
            "type": "scattergl"
           }
          ],
          "scattermap": [
           {
            "marker": {
             "colorbar": {
              "outlinewidth": 0,
              "ticks": ""
             }
            },
            "type": "scattermap"
           }
          ],
          "scattermapbox": [
           {
            "marker": {
             "colorbar": {
              "outlinewidth": 0,
              "ticks": ""
             }
            },
            "type": "scattermapbox"
           }
          ],
          "scatterpolar": [
           {
            "marker": {
             "colorbar": {
              "outlinewidth": 0,
              "ticks": ""
             }
            },
            "type": "scatterpolar"
           }
          ],
          "scatterpolargl": [
           {
            "marker": {
             "colorbar": {
              "outlinewidth": 0,
              "ticks": ""
             }
            },
            "type": "scatterpolargl"
           }
          ],
          "scatterternary": [
           {
            "marker": {
             "colorbar": {
              "outlinewidth": 0,
              "ticks": ""
             }
            },
            "type": "scatterternary"
           }
          ],
          "surface": [
           {
            "colorbar": {
             "outlinewidth": 0,
             "ticks": ""
            },
            "colorscale": [
             [
              0,
              "#0d0887"
             ],
             [
              0.1111111111111111,
              "#46039f"
             ],
             [
              0.2222222222222222,
              "#7201a8"
             ],
             [
              0.3333333333333333,
              "#9c179e"
             ],
             [
              0.4444444444444444,
              "#bd3786"
             ],
             [
              0.5555555555555556,
              "#d8576b"
             ],
             [
              0.6666666666666666,
              "#ed7953"
             ],
             [
              0.7777777777777778,
              "#fb9f3a"
             ],
             [
              0.8888888888888888,
              "#fdca26"
             ],
             [
              1,
              "#f0f921"
             ]
            ],
            "type": "surface"
           }
          ],
          "table": [
           {
            "cells": {
             "fill": {
              "color": "#EBF0F8"
             },
             "line": {
              "color": "white"
             }
            },
            "header": {
             "fill": {
              "color": "#C8D4E3"
             },
             "line": {
              "color": "white"
             }
            },
            "type": "table"
           }
          ]
         },
         "layout": {
          "annotationdefaults": {
           "arrowcolor": "#2a3f5f",
           "arrowhead": 0,
           "arrowwidth": 1
          },
          "autotypenumbers": "strict",
          "coloraxis": {
           "colorbar": {
            "outlinewidth": 0,
            "ticks": ""
           }
          },
          "colorscale": {
           "diverging": [
            [
             0,
             "#8e0152"
            ],
            [
             0.1,
             "#c51b7d"
            ],
            [
             0.2,
             "#de77ae"
            ],
            [
             0.3,
             "#f1b6da"
            ],
            [
             0.4,
             "#fde0ef"
            ],
            [
             0.5,
             "#f7f7f7"
            ],
            [
             0.6,
             "#e6f5d0"
            ],
            [
             0.7,
             "#b8e186"
            ],
            [
             0.8,
             "#7fbc41"
            ],
            [
             0.9,
             "#4d9221"
            ],
            [
             1,
             "#276419"
            ]
           ],
           "sequential": [
            [
             0,
             "#0d0887"
            ],
            [
             0.1111111111111111,
             "#46039f"
            ],
            [
             0.2222222222222222,
             "#7201a8"
            ],
            [
             0.3333333333333333,
             "#9c179e"
            ],
            [
             0.4444444444444444,
             "#bd3786"
            ],
            [
             0.5555555555555556,
             "#d8576b"
            ],
            [
             0.6666666666666666,
             "#ed7953"
            ],
            [
             0.7777777777777778,
             "#fb9f3a"
            ],
            [
             0.8888888888888888,
             "#fdca26"
            ],
            [
             1,
             "#f0f921"
            ]
           ],
           "sequentialminus": [
            [
             0,
             "#0d0887"
            ],
            [
             0.1111111111111111,
             "#46039f"
            ],
            [
             0.2222222222222222,
             "#7201a8"
            ],
            [
             0.3333333333333333,
             "#9c179e"
            ],
            [
             0.4444444444444444,
             "#bd3786"
            ],
            [
             0.5555555555555556,
             "#d8576b"
            ],
            [
             0.6666666666666666,
             "#ed7953"
            ],
            [
             0.7777777777777778,
             "#fb9f3a"
            ],
            [
             0.8888888888888888,
             "#fdca26"
            ],
            [
             1,
             "#f0f921"
            ]
           ]
          },
          "colorway": [
           "#636efa",
           "#EF553B",
           "#00cc96",
           "#ab63fa",
           "#FFA15A",
           "#19d3f3",
           "#FF6692",
           "#B6E880",
           "#FF97FF",
           "#FECB52"
          ],
          "font": {
           "color": "#2a3f5f"
          },
          "geo": {
           "bgcolor": "white",
           "lakecolor": "white",
           "landcolor": "#E5ECF6",
           "showlakes": true,
           "showland": true,
           "subunitcolor": "white"
          },
          "hoverlabel": {
           "align": "left"
          },
          "hovermode": "closest",
          "mapbox": {
           "style": "light"
          },
          "paper_bgcolor": "white",
          "plot_bgcolor": "#E5ECF6",
          "polar": {
           "angularaxis": {
            "gridcolor": "white",
            "linecolor": "white",
            "ticks": ""
           },
           "bgcolor": "#E5ECF6",
           "radialaxis": {
            "gridcolor": "white",
            "linecolor": "white",
            "ticks": ""
           }
          },
          "scene": {
           "xaxis": {
            "backgroundcolor": "#E5ECF6",
            "gridcolor": "white",
            "gridwidth": 2,
            "linecolor": "white",
            "showbackground": true,
            "ticks": "",
            "zerolinecolor": "white"
           },
           "yaxis": {
            "backgroundcolor": "#E5ECF6",
            "gridcolor": "white",
            "gridwidth": 2,
            "linecolor": "white",
            "showbackground": true,
            "ticks": "",
            "zerolinecolor": "white"
           },
           "zaxis": {
            "backgroundcolor": "#E5ECF6",
            "gridcolor": "white",
            "gridwidth": 2,
            "linecolor": "white",
            "showbackground": true,
            "ticks": "",
            "zerolinecolor": "white"
           }
          },
          "shapedefaults": {
           "line": {
            "color": "#2a3f5f"
           }
          },
          "ternary": {
           "aaxis": {
            "gridcolor": "white",
            "linecolor": "white",
            "ticks": ""
           },
           "baxis": {
            "gridcolor": "white",
            "linecolor": "white",
            "ticks": ""
           },
           "bgcolor": "#E5ECF6",
           "caxis": {
            "gridcolor": "white",
            "linecolor": "white",
            "ticks": ""
           }
          },
          "title": {
           "x": 0.05
          },
          "xaxis": {
           "automargin": true,
           "gridcolor": "white",
           "linecolor": "white",
           "ticks": "",
           "title": {
            "standoff": 15
           },
           "zerolinecolor": "white",
           "zerolinewidth": 2
          },
          "yaxis": {
           "automargin": true,
           "gridcolor": "white",
           "linecolor": "white",
           "ticks": "",
           "title": {
            "standoff": 15
           },
           "zerolinecolor": "white",
           "zerolinewidth": 2
          }
         }
        },
        "xaxis": {
         "anchor": "y",
         "domain": [
          0,
          1
         ],
         "title": {
          "text": "sepal_width"
         }
        },
        "yaxis": {
         "anchor": "x",
         "domain": [
          0,
          1
         ],
         "title": {
          "text": "sepal_length"
         }
        }
       }
      }
     },
     "metadata": {},
     "output_type": "display_data"
    }
   ],
   "source": [
    "fig = px.scatter(df, x=\"sepal_width\", y=\"sepal_length\", color=\"species\")\n",
    "fig.show()\n"
   ]
  },
  {
   "cell_type": "code",
   "execution_count": 28,
   "metadata": {},
   "outputs": [
    {
     "data": {
      "application/vnd.plotly.v1+json": {
       "config": {
        "plotlyServerURL": "https://plot.ly"
       },
       "data": [
        {
         "customdata": {
          "bdata": "ZmZmZmZmFECamZmZmZkTQM3MzMzMzBJAZmZmZmZmEkAAAAAAAAAUQJqZmZmZmRVAZmZmZmZmEkAAAAAAAAAUQJqZmZmZmRFAmpmZmZmZE0CamZmZmZkVQDMzMzMzMxNAMzMzMzMzE0AzMzMzMzMRQDMzMzMzMxdAzczMzMzMFkCamZmZmZkVQGZmZmZmZhRAzczMzMzMFkBmZmZmZmYUQJqZmZmZmRVAZmZmZmZmFEBmZmZmZmYSQGZmZmZmZhRAMzMzMzMzE0AAAAAAAAAUQAAAAAAAABRAzczMzMzMFEDNzMzMzMwUQM3MzMzMzBJAMzMzMzMzE0CamZmZmZkVQM3MzMzMzBRAAAAAAAAAFkCamZmZmZkTQAAAAAAAABRAAAAAAAAAFkCamZmZmZkTQJqZmZmZmRFAZmZmZmZmFEAAAAAAAAAUQAAAAAAAABJAmpmZmZmZEUAAAAAAAAAUQGZmZmZmZhRAMzMzMzMzE0BmZmZmZmYUQGZmZmZmZhJAMzMzMzMzFUAAAAAAAAAUQA==",
          "dtype": "f8",
          "shape": "50, 1"
         },
         "hovertemplate": "species=setosa<br>petal_length=%{x}<br>petal_width=%{y}<br>sepal_width=%{marker.size}<br>sepal_length=%{customdata[0]}<extra></extra>",
         "legendgroup": "setosa",
         "marker": {
          "color": "#636efa",
          "size": {
           "bdata": "AAAAAAAADEAAAAAAAAAIQJqZmZmZmQlAzczMzMzMCEDNzMzMzMwMQDMzMzMzMw9AMzMzMzMzC0AzMzMzMzMLQDMzMzMzMwdAzczMzMzMCECamZmZmZkNQDMzMzMzMwtAAAAAAAAACEAAAAAAAAAIQAAAAAAAABBAmpmZmZmZEUAzMzMzMzMPQAAAAAAAAAxAZmZmZmZmDkBmZmZmZmYOQDMzMzMzMwtAmpmZmZmZDUDNzMzMzMwMQGZmZmZmZgpAMzMzMzMzC0AAAAAAAAAIQDMzMzMzMwtAAAAAAAAADEAzMzMzMzMLQJqZmZmZmQlAzczMzMzMCEAzMzMzMzMLQGZmZmZmZhBAzczMzMzMEEDNzMzMzMwIQJqZmZmZmQlAAAAAAAAADEDNzMzMzMwMQAAAAAAAAAhAMzMzMzMzC0AAAAAAAAAMQGZmZmZmZgJAmpmZmZmZCUAAAAAAAAAMQGZmZmZmZg5AAAAAAAAACEBmZmZmZmYOQJqZmZmZmQlAmpmZmZmZDUBmZmZmZmYKQA==",
           "dtype": "f8"
          },
          "sizemode": "area",
          "sizeref": 0.011000000000000001,
          "symbol": "circle"
         },
         "mode": "markers",
         "name": "setosa",
         "orientation": "v",
         "showlegend": true,
         "type": "scatter",
         "x": {
          "bdata": "ZmZmZmZm9j9mZmZmZmb2P83MzMzMzPQ/AAAAAAAA+D9mZmZmZmb2PzMzMzMzM/s/ZmZmZmZm9j8AAAAAAAD4P2ZmZmZmZvY/AAAAAAAA+D8AAAAAAAD4P5qZmZmZmfk/ZmZmZmZm9j+amZmZmZnxPzMzMzMzM/M/AAAAAAAA+D/NzMzMzMz0P2ZmZmZmZvY/MzMzMzMz+z8AAAAAAAD4PzMzMzMzM/s/AAAAAAAA+D8AAAAAAADwPzMzMzMzM/s/ZmZmZmZm/j+amZmZmZn5P5qZmZmZmfk/AAAAAAAA+D9mZmZmZmb2P5qZmZmZmfk/mpmZmZmZ+T8AAAAAAAD4PwAAAAAAAPg/ZmZmZmZm9j8AAAAAAAD4PzMzMzMzM/M/zczMzMzM9D9mZmZmZmb2P83MzMzMzPQ/AAAAAAAA+D/NzMzMzMz0P83MzMzMzPQ/zczMzMzM9D+amZmZmZn5P2ZmZmZmZv4/ZmZmZmZm9j+amZmZmZn5P2ZmZmZmZvY/AAAAAAAA+D9mZmZmZmb2Pw==",
          "dtype": "f8"
         },
         "xaxis": "x",
         "y": {
          "bdata": "mpmZmZmZyT+amZmZmZnJP5qZmZmZmck/mpmZmZmZyT+amZmZmZnJP5qZmZmZmdk/MzMzMzMz0z+amZmZmZnJP5qZmZmZmck/mpmZmZmZuT+amZmZmZnJP5qZmZmZmck/mpmZmZmZuT+amZmZmZm5P5qZmZmZmck/mpmZmZmZ2T+amZmZmZnZPzMzMzMzM9M/MzMzMzMz0z8zMzMzMzPTP5qZmZmZmck/mpmZmZmZ2T+amZmZmZnJPwAAAAAAAOA/mpmZmZmZyT+amZmZmZnJP5qZmZmZmdk/mpmZmZmZyT+amZmZmZnJP5qZmZmZmck/mpmZmZmZyT+amZmZmZnZP5qZmZmZmbk/mpmZmZmZyT+amZmZmZnJP5qZmZmZmck/mpmZmZmZyT+amZmZmZm5P5qZmZmZmck/mpmZmZmZyT8zMzMzMzPTPzMzMzMzM9M/mpmZmZmZyT8zMzMzMzPjP5qZmZmZmdk/MzMzMzMz0z+amZmZmZnJP5qZmZmZmck/mpmZmZmZyT+amZmZmZnJPw==",
          "dtype": "f8"
         },
         "yaxis": "y"
        },
        {
         "customdata": {
          "bdata": "AAAAAAAAHECamZmZmZkZQJqZmZmZmRtAAAAAAAAAFkAAAAAAAAAaQM3MzMzMzBZAMzMzMzMzGUCamZmZmZkTQGZmZmZmZhpAzczMzMzMFEAAAAAAAAAUQJqZmZmZmRdAAAAAAAAAGEBmZmZmZmYYQGZmZmZmZhZAzczMzMzMGkBmZmZmZmYWQDMzMzMzMxdAzczMzMzMGEBmZmZmZmYWQJqZmZmZmRdAZmZmZmZmGEAzMzMzMzMZQGZmZmZmZhhAmpmZmZmZGUBmZmZmZmYaQDMzMzMzMxtAzczMzMzMGkAAAAAAAAAYQM3MzMzMzBZAAAAAAAAAFkAAAAAAAAAWQDMzMzMzMxdAAAAAAAAAGECamZmZmZkVQAAAAAAAABhAzczMzMzMGkAzMzMzMzMZQGZmZmZmZhZAAAAAAAAAFkAAAAAAAAAWQGZmZmZmZhhAMzMzMzMzF0AAAAAAAAAUQGZmZmZmZhZAzczMzMzMFkDNzMzMzMwWQM3MzMzMzBhAZmZmZmZmFEDNzMzMzMwWQA==",
          "dtype": "f8",
          "shape": "50, 1"
         },
         "hovertemplate": "species=versicolor<br>petal_length=%{x}<br>petal_width=%{y}<br>sepal_width=%{marker.size}<br>sepal_length=%{customdata[0]}<extra></extra>",
         "legendgroup": "versicolor",
         "marker": {
          "color": "#EF553B",
          "size": {
           "bdata": "mpmZmZmZCUCamZmZmZkJQM3MzMzMzAhAZmZmZmZmAkBmZmZmZmYGQGZmZmZmZgZAZmZmZmZmCkAzMzMzMzMDQDMzMzMzMwdAmpmZmZmZBUAAAAAAAAAAQAAAAAAAAAhAmpmZmZmZAUAzMzMzMzMHQDMzMzMzMwdAzczMzMzMCEAAAAAAAAAIQJqZmZmZmQVAmpmZmZmZAUAAAAAAAAAEQJqZmZmZmQlAZmZmZmZmBkAAAAAAAAAEQGZmZmZmZgZAMzMzMzMzB0AAAAAAAAAIQGZmZmZmZgZAAAAAAAAACEAzMzMzMzMHQM3MzMzMzARAMzMzMzMzA0AzMzMzMzMDQJqZmZmZmQVAmpmZmZmZBUAAAAAAAAAIQDMzMzMzMwtAzczMzMzMCEBmZmZmZmYCQAAAAAAAAAhAAAAAAAAABEDNzMzMzMwEQAAAAAAAAAhAzczMzMzMBEBmZmZmZmYCQJqZmZmZmQVAAAAAAAAACEAzMzMzMzMHQDMzMzMzMwdAAAAAAAAABEBmZmZmZmYGQA==",
           "dtype": "f8"
          },
          "sizemode": "area",
          "sizeref": 0.011000000000000001,
          "symbol": "circle"
         },
         "mode": "markers",
         "name": "versicolor",
         "orientation": "v",
         "showlegend": true,
         "type": "scatter",
         "x": {
          "bdata": "zczMzMzMEkAAAAAAAAASQJqZmZmZmRNAAAAAAAAAEEBmZmZmZmYSQAAAAAAAABJAzczMzMzMEkBmZmZmZmYKQGZmZmZmZhJAMzMzMzMzD0AAAAAAAAAMQM3MzMzMzBBAAAAAAAAAEEDNzMzMzMwSQM3MzMzMzAxAmpmZmZmZEUAAAAAAAAASQGZmZmZmZhBAAAAAAAAAEkAzMzMzMzMPQDMzMzMzMxNAAAAAAAAAEECamZmZmZkTQM3MzMzMzBJAMzMzMzMzEUCamZmZmZkRQDMzMzMzMxNAAAAAAAAAFEAAAAAAAAASQAAAAAAAAAxAZmZmZmZmDkCamZmZmZkNQDMzMzMzMw9AZmZmZmZmFEAAAAAAAAASQAAAAAAAABJAzczMzMzMEkCamZmZmZkRQGZmZmZmZhBAAAAAAAAAEECamZmZmZkRQGZmZmZmZhJAAAAAAAAAEEBmZmZmZmYKQM3MzMzMzBBAzczMzMzMEEDNzMzMzMwQQDMzMzMzMxFAAAAAAAAACEBmZmZmZmYQQA==",
          "dtype": "f8"
         },
         "xaxis": "x",
         "y": {
          "bdata": "ZmZmZmZm9j8AAAAAAAD4PwAAAAAAAPg/zczMzMzM9D8AAAAAAAD4P83MzMzMzPQ/mpmZmZmZ+T8AAAAAAADwP83MzMzMzPQ/ZmZmZmZm9j8AAAAAAADwPwAAAAAAAPg/AAAAAAAA8D9mZmZmZmb2P83MzMzMzPQ/ZmZmZmZm9j8AAAAAAAD4PwAAAAAAAPA/AAAAAAAA+D+amZmZmZnxP83MzMzMzPw/zczMzMzM9D8AAAAAAAD4PzMzMzMzM/M/zczMzMzM9D9mZmZmZmb2P2ZmZmZmZvY/MzMzMzMz+z8AAAAAAAD4PwAAAAAAAPA/mpmZmZmZ8T8AAAAAAADwPzMzMzMzM/M/mpmZmZmZ+T8AAAAAAAD4P5qZmZmZmfk/AAAAAAAA+D/NzMzMzMz0P83MzMzMzPQ/zczMzMzM9D8zMzMzMzPzP2ZmZmZmZvY/MzMzMzMz8z8AAAAAAADwP83MzMzMzPQ/MzMzMzMz8z/NzMzMzMz0P83MzMzMzPQ/mpmZmZmZ8T/NzMzMzMz0Pw==",
          "dtype": "f8"
         },
         "yaxis": "y"
        },
        {
         "customdata": {
          "bdata": "MzMzMzMzGUAzMzMzMzMXQGZmZmZmZhxAMzMzMzMzGUAAAAAAAAAaQGZmZmZmZh5AmpmZmZmZE0AzMzMzMzMdQM3MzMzMzBpAzczMzMzMHEAAAAAAAAAaQJqZmZmZmRlAMzMzMzMzG0DNzMzMzMwWQDMzMzMzMxdAmpmZmZmZGUAAAAAAAAAaQM3MzMzMzB5AzczMzMzMHkAAAAAAAAAYQJqZmZmZmRtAZmZmZmZmFkDNzMzMzMweQDMzMzMzMxlAzczMzMzMGkDNzMzMzMwcQM3MzMzMzBhAZmZmZmZmGECamZmZmZkZQM3MzMzMzBxAmpmZmZmZHUCamZmZmZkfQJqZmZmZmRlAMzMzMzMzGUBmZmZmZmYYQM3MzMzMzB5AMzMzMzMzGUCamZmZmZkZQAAAAAAAABhAmpmZmZmZG0DNzMzMzMwaQJqZmZmZmRtAMzMzMzMzF0AzMzMzMzMbQM3MzMzMzBpAzczMzMzMGkAzMzMzMzMZQAAAAAAAABpAzczMzMzMGECamZmZmZkXQA==",
          "dtype": "f8",
          "shape": "50, 1"
         },
         "hovertemplate": "species=virginica<br>petal_length=%{x}<br>petal_width=%{y}<br>sepal_width=%{marker.size}<br>sepal_length=%{customdata[0]}<extra></extra>",
         "legendgroup": "virginica",
         "marker": {
          "color": "#00cc96",
          "size": {
           "bdata": "ZmZmZmZmCkCamZmZmZkFQAAAAAAAAAhAMzMzMzMzB0AAAAAAAAAIQAAAAAAAAAhAAAAAAAAABEAzMzMzMzMHQAAAAAAAAARAzczMzMzMDECamZmZmZkJQJqZmZmZmQVAAAAAAAAACEAAAAAAAAAEQGZmZmZmZgZAmpmZmZmZCUAAAAAAAAAIQGZmZmZmZg5AzczMzMzMBECamZmZmZkBQJqZmZmZmQlAZmZmZmZmBkBmZmZmZmYGQJqZmZmZmQVAZmZmZmZmCkCamZmZmZkJQGZmZmZmZgZAAAAAAAAACEBmZmZmZmYGQAAAAAAAAAhAZmZmZmZmBkBmZmZmZmYOQGZmZmZmZgZAZmZmZmZmBkDNzMzMzMwEQAAAAAAAAAhAMzMzMzMzC0DNzMzMzMwIQAAAAAAAAAhAzczMzMzMCEDNzMzMzMwIQM3MzMzMzAhAmpmZmZmZBUCamZmZmZkJQGZmZmZmZgpAAAAAAAAACEAAAAAAAAAEQAAAAAAAAAhAMzMzMzMzC0AAAAAAAAAIQA==",
           "dtype": "f8"
          },
          "sizemode": "area",
          "sizeref": 0.011000000000000001,
          "symbol": "circle"
         },
         "mode": "markers",
         "name": "virginica",
         "orientation": "v",
         "showlegend": true,
         "type": "scatter",
         "x": {
          "bdata": "AAAAAAAAGEBmZmZmZmYUQJqZmZmZmRdAZmZmZmZmFkAzMzMzMzMXQGZmZmZmZhpAAAAAAAAAEkAzMzMzMzMZQDMzMzMzMxdAZmZmZmZmGEBmZmZmZmYUQDMzMzMzMxVAAAAAAAAAFkAAAAAAAAAUQGZmZmZmZhRAMzMzMzMzFUAAAAAAAAAWQM3MzMzMzBpAmpmZmZmZG0AAAAAAAAAUQM3MzMzMzBZAmpmZmZmZE0DNzMzMzMwaQJqZmZmZmRNAzczMzMzMFkAAAAAAAAAYQDMzMzMzMxNAmpmZmZmZE0BmZmZmZmYWQDMzMzMzMxdAZmZmZmZmGECamZmZmZkZQGZmZmZmZhZAZmZmZmZmFEBmZmZmZmYWQGZmZmZmZhhAZmZmZmZmFkAAAAAAAAAWQDMzMzMzMxNAmpmZmZmZFUBmZmZmZmYWQGZmZmZmZhRAZmZmZmZmFECamZmZmZkXQM3MzMzMzBZAzczMzMzMFEAAAAAAAAAUQM3MzMzMzBRAmpmZmZmZFUBmZmZmZmYUQA==",
          "dtype": "f8"
         },
         "xaxis": "x",
         "y": {
          "bdata": "AAAAAAAABEBmZmZmZmb+P83MzMzMzABAzczMzMzM/D+amZmZmZkBQM3MzMzMzABAMzMzMzMz+z/NzMzMzMz8P83MzMzMzPw/AAAAAAAABEAAAAAAAAAAQGZmZmZmZv4/zczMzMzMAEAAAAAAAAAAQDMzMzMzMwNAZmZmZmZmAkDNzMzMzMz8P5qZmZmZmQFAZmZmZmZmAkAAAAAAAAD4P2ZmZmZmZgJAAAAAAAAAAEAAAAAAAAAAQM3MzMzMzPw/zczMzMzMAEDNzMzMzMz8P83MzMzMzPw/zczMzMzM/D/NzMzMzMwAQJqZmZmZmfk/ZmZmZmZm/j8AAAAAAAAAQJqZmZmZmQFAAAAAAAAA+D9mZmZmZmb2P2ZmZmZmZgJAMzMzMzMzA0DNzMzMzMz8P83MzMzMzPw/zczMzMzMAEAzMzMzMzMDQGZmZmZmZgJAZmZmZmZm/j9mZmZmZmYCQAAAAAAAAARAZmZmZmZmAkBmZmZmZmb+PwAAAAAAAABAZmZmZmZmAkDNzMzMzMz8Pw==",
          "dtype": "f8"
         },
         "yaxis": "y"
        }
       ],
       "layout": {
        "legend": {
         "itemsizing": "constant",
         "title": {
          "text": "species"
         },
         "tracegroupgap": 0
        },
        "template": {
         "data": {
          "bar": [
           {
            "error_x": {
             "color": "#2a3f5f"
            },
            "error_y": {
             "color": "#2a3f5f"
            },
            "marker": {
             "line": {
              "color": "#E5ECF6",
              "width": 0.5
             },
             "pattern": {
              "fillmode": "overlay",
              "size": 10,
              "solidity": 0.2
             }
            },
            "type": "bar"
           }
          ],
          "barpolar": [
           {
            "marker": {
             "line": {
              "color": "#E5ECF6",
              "width": 0.5
             },
             "pattern": {
              "fillmode": "overlay",
              "size": 10,
              "solidity": 0.2
             }
            },
            "type": "barpolar"
           }
          ],
          "carpet": [
           {
            "aaxis": {
             "endlinecolor": "#2a3f5f",
             "gridcolor": "white",
             "linecolor": "white",
             "minorgridcolor": "white",
             "startlinecolor": "#2a3f5f"
            },
            "baxis": {
             "endlinecolor": "#2a3f5f",
             "gridcolor": "white",
             "linecolor": "white",
             "minorgridcolor": "white",
             "startlinecolor": "#2a3f5f"
            },
            "type": "carpet"
           }
          ],
          "choropleth": [
           {
            "colorbar": {
             "outlinewidth": 0,
             "ticks": ""
            },
            "type": "choropleth"
           }
          ],
          "contour": [
           {
            "colorbar": {
             "outlinewidth": 0,
             "ticks": ""
            },
            "colorscale": [
             [
              0,
              "#0d0887"
             ],
             [
              0.1111111111111111,
              "#46039f"
             ],
             [
              0.2222222222222222,
              "#7201a8"
             ],
             [
              0.3333333333333333,
              "#9c179e"
             ],
             [
              0.4444444444444444,
              "#bd3786"
             ],
             [
              0.5555555555555556,
              "#d8576b"
             ],
             [
              0.6666666666666666,
              "#ed7953"
             ],
             [
              0.7777777777777778,
              "#fb9f3a"
             ],
             [
              0.8888888888888888,
              "#fdca26"
             ],
             [
              1,
              "#f0f921"
             ]
            ],
            "type": "contour"
           }
          ],
          "contourcarpet": [
           {
            "colorbar": {
             "outlinewidth": 0,
             "ticks": ""
            },
            "type": "contourcarpet"
           }
          ],
          "heatmap": [
           {
            "colorbar": {
             "outlinewidth": 0,
             "ticks": ""
            },
            "colorscale": [
             [
              0,
              "#0d0887"
             ],
             [
              0.1111111111111111,
              "#46039f"
             ],
             [
              0.2222222222222222,
              "#7201a8"
             ],
             [
              0.3333333333333333,
              "#9c179e"
             ],
             [
              0.4444444444444444,
              "#bd3786"
             ],
             [
              0.5555555555555556,
              "#d8576b"
             ],
             [
              0.6666666666666666,
              "#ed7953"
             ],
             [
              0.7777777777777778,
              "#fb9f3a"
             ],
             [
              0.8888888888888888,
              "#fdca26"
             ],
             [
              1,
              "#f0f921"
             ]
            ],
            "type": "heatmap"
           }
          ],
          "histogram": [
           {
            "marker": {
             "pattern": {
              "fillmode": "overlay",
              "size": 10,
              "solidity": 0.2
             }
            },
            "type": "histogram"
           }
          ],
          "histogram2d": [
           {
            "colorbar": {
             "outlinewidth": 0,
             "ticks": ""
            },
            "colorscale": [
             [
              0,
              "#0d0887"
             ],
             [
              0.1111111111111111,
              "#46039f"
             ],
             [
              0.2222222222222222,
              "#7201a8"
             ],
             [
              0.3333333333333333,
              "#9c179e"
             ],
             [
              0.4444444444444444,
              "#bd3786"
             ],
             [
              0.5555555555555556,
              "#d8576b"
             ],
             [
              0.6666666666666666,
              "#ed7953"
             ],
             [
              0.7777777777777778,
              "#fb9f3a"
             ],
             [
              0.8888888888888888,
              "#fdca26"
             ],
             [
              1,
              "#f0f921"
             ]
            ],
            "type": "histogram2d"
           }
          ],
          "histogram2dcontour": [
           {
            "colorbar": {
             "outlinewidth": 0,
             "ticks": ""
            },
            "colorscale": [
             [
              0,
              "#0d0887"
             ],
             [
              0.1111111111111111,
              "#46039f"
             ],
             [
              0.2222222222222222,
              "#7201a8"
             ],
             [
              0.3333333333333333,
              "#9c179e"
             ],
             [
              0.4444444444444444,
              "#bd3786"
             ],
             [
              0.5555555555555556,
              "#d8576b"
             ],
             [
              0.6666666666666666,
              "#ed7953"
             ],
             [
              0.7777777777777778,
              "#fb9f3a"
             ],
             [
              0.8888888888888888,
              "#fdca26"
             ],
             [
              1,
              "#f0f921"
             ]
            ],
            "type": "histogram2dcontour"
           }
          ],
          "mesh3d": [
           {
            "colorbar": {
             "outlinewidth": 0,
             "ticks": ""
            },
            "type": "mesh3d"
           }
          ],
          "parcoords": [
           {
            "line": {
             "colorbar": {
              "outlinewidth": 0,
              "ticks": ""
             }
            },
            "type": "parcoords"
           }
          ],
          "pie": [
           {
            "automargin": true,
            "type": "pie"
           }
          ],
          "scatter": [
           {
            "fillpattern": {
             "fillmode": "overlay",
             "size": 10,
             "solidity": 0.2
            },
            "type": "scatter"
           }
          ],
          "scatter3d": [
           {
            "line": {
             "colorbar": {
              "outlinewidth": 0,
              "ticks": ""
             }
            },
            "marker": {
             "colorbar": {
              "outlinewidth": 0,
              "ticks": ""
             }
            },
            "type": "scatter3d"
           }
          ],
          "scattercarpet": [
           {
            "marker": {
             "colorbar": {
              "outlinewidth": 0,
              "ticks": ""
             }
            },
            "type": "scattercarpet"
           }
          ],
          "scattergeo": [
           {
            "marker": {
             "colorbar": {
              "outlinewidth": 0,
              "ticks": ""
             }
            },
            "type": "scattergeo"
           }
          ],
          "scattergl": [
           {
            "marker": {
             "colorbar": {
              "outlinewidth": 0,
              "ticks": ""
             }
            },
            "type": "scattergl"
           }
          ],
          "scattermap": [
           {
            "marker": {
             "colorbar": {
              "outlinewidth": 0,
              "ticks": ""
             }
            },
            "type": "scattermap"
           }
          ],
          "scattermapbox": [
           {
            "marker": {
             "colorbar": {
              "outlinewidth": 0,
              "ticks": ""
             }
            },
            "type": "scattermapbox"
           }
          ],
          "scatterpolar": [
           {
            "marker": {
             "colorbar": {
              "outlinewidth": 0,
              "ticks": ""
             }
            },
            "type": "scatterpolar"
           }
          ],
          "scatterpolargl": [
           {
            "marker": {
             "colorbar": {
              "outlinewidth": 0,
              "ticks": ""
             }
            },
            "type": "scatterpolargl"
           }
          ],
          "scatterternary": [
           {
            "marker": {
             "colorbar": {
              "outlinewidth": 0,
              "ticks": ""
             }
            },
            "type": "scatterternary"
           }
          ],
          "surface": [
           {
            "colorbar": {
             "outlinewidth": 0,
             "ticks": ""
            },
            "colorscale": [
             [
              0,
              "#0d0887"
             ],
             [
              0.1111111111111111,
              "#46039f"
             ],
             [
              0.2222222222222222,
              "#7201a8"
             ],
             [
              0.3333333333333333,
              "#9c179e"
             ],
             [
              0.4444444444444444,
              "#bd3786"
             ],
             [
              0.5555555555555556,
              "#d8576b"
             ],
             [
              0.6666666666666666,
              "#ed7953"
             ],
             [
              0.7777777777777778,
              "#fb9f3a"
             ],
             [
              0.8888888888888888,
              "#fdca26"
             ],
             [
              1,
              "#f0f921"
             ]
            ],
            "type": "surface"
           }
          ],
          "table": [
           {
            "cells": {
             "fill": {
              "color": "#EBF0F8"
             },
             "line": {
              "color": "white"
             }
            },
            "header": {
             "fill": {
              "color": "#C8D4E3"
             },
             "line": {
              "color": "white"
             }
            },
            "type": "table"
           }
          ]
         },
         "layout": {
          "annotationdefaults": {
           "arrowcolor": "#2a3f5f",
           "arrowhead": 0,
           "arrowwidth": 1
          },
          "autotypenumbers": "strict",
          "coloraxis": {
           "colorbar": {
            "outlinewidth": 0,
            "ticks": ""
           }
          },
          "colorscale": {
           "diverging": [
            [
             0,
             "#8e0152"
            ],
            [
             0.1,
             "#c51b7d"
            ],
            [
             0.2,
             "#de77ae"
            ],
            [
             0.3,
             "#f1b6da"
            ],
            [
             0.4,
             "#fde0ef"
            ],
            [
             0.5,
             "#f7f7f7"
            ],
            [
             0.6,
             "#e6f5d0"
            ],
            [
             0.7,
             "#b8e186"
            ],
            [
             0.8,
             "#7fbc41"
            ],
            [
             0.9,
             "#4d9221"
            ],
            [
             1,
             "#276419"
            ]
           ],
           "sequential": [
            [
             0,
             "#0d0887"
            ],
            [
             0.1111111111111111,
             "#46039f"
            ],
            [
             0.2222222222222222,
             "#7201a8"
            ],
            [
             0.3333333333333333,
             "#9c179e"
            ],
            [
             0.4444444444444444,
             "#bd3786"
            ],
            [
             0.5555555555555556,
             "#d8576b"
            ],
            [
             0.6666666666666666,
             "#ed7953"
            ],
            [
             0.7777777777777778,
             "#fb9f3a"
            ],
            [
             0.8888888888888888,
             "#fdca26"
            ],
            [
             1,
             "#f0f921"
            ]
           ],
           "sequentialminus": [
            [
             0,
             "#0d0887"
            ],
            [
             0.1111111111111111,
             "#46039f"
            ],
            [
             0.2222222222222222,
             "#7201a8"
            ],
            [
             0.3333333333333333,
             "#9c179e"
            ],
            [
             0.4444444444444444,
             "#bd3786"
            ],
            [
             0.5555555555555556,
             "#d8576b"
            ],
            [
             0.6666666666666666,
             "#ed7953"
            ],
            [
             0.7777777777777778,
             "#fb9f3a"
            ],
            [
             0.8888888888888888,
             "#fdca26"
            ],
            [
             1,
             "#f0f921"
            ]
           ]
          },
          "colorway": [
           "#636efa",
           "#EF553B",
           "#00cc96",
           "#ab63fa",
           "#FFA15A",
           "#19d3f3",
           "#FF6692",
           "#B6E880",
           "#FF97FF",
           "#FECB52"
          ],
          "font": {
           "color": "#2a3f5f"
          },
          "geo": {
           "bgcolor": "white",
           "lakecolor": "white",
           "landcolor": "#E5ECF6",
           "showlakes": true,
           "showland": true,
           "subunitcolor": "white"
          },
          "hoverlabel": {
           "align": "left"
          },
          "hovermode": "closest",
          "mapbox": {
           "style": "light"
          },
          "paper_bgcolor": "white",
          "plot_bgcolor": "#E5ECF6",
          "polar": {
           "angularaxis": {
            "gridcolor": "white",
            "linecolor": "white",
            "ticks": ""
           },
           "bgcolor": "#E5ECF6",
           "radialaxis": {
            "gridcolor": "white",
            "linecolor": "white",
            "ticks": ""
           }
          },
          "scene": {
           "xaxis": {
            "backgroundcolor": "#E5ECF6",
            "gridcolor": "white",
            "gridwidth": 2,
            "linecolor": "white",
            "showbackground": true,
            "ticks": "",
            "zerolinecolor": "white"
           },
           "yaxis": {
            "backgroundcolor": "#E5ECF6",
            "gridcolor": "white",
            "gridwidth": 2,
            "linecolor": "white",
            "showbackground": true,
            "ticks": "",
            "zerolinecolor": "white"
           },
           "zaxis": {
            "backgroundcolor": "#E5ECF6",
            "gridcolor": "white",
            "gridwidth": 2,
            "linecolor": "white",
            "showbackground": true,
            "ticks": "",
            "zerolinecolor": "white"
           }
          },
          "shapedefaults": {
           "line": {
            "color": "#2a3f5f"
           }
          },
          "ternary": {
           "aaxis": {
            "gridcolor": "white",
            "linecolor": "white",
            "ticks": ""
           },
           "baxis": {
            "gridcolor": "white",
            "linecolor": "white",
            "ticks": ""
           },
           "bgcolor": "#E5ECF6",
           "caxis": {
            "gridcolor": "white",
            "linecolor": "white",
            "ticks": ""
           }
          },
          "title": {
           "x": 0.05
          },
          "xaxis": {
           "automargin": true,
           "gridcolor": "white",
           "linecolor": "white",
           "ticks": "",
           "title": {
            "standoff": 15
           },
           "zerolinecolor": "white",
           "zerolinewidth": 2
          },
          "yaxis": {
           "automargin": true,
           "gridcolor": "white",
           "linecolor": "white",
           "ticks": "",
           "title": {
            "standoff": 15
           },
           "zerolinecolor": "white",
           "zerolinewidth": 2
          }
         }
        },
        "title": {
         "text": "Scatter plot of Iris Dataset"
        },
        "xaxis": {
         "anchor": "y",
         "domain": [
          0,
          1
         ],
         "title": {
          "text": "petal_length"
         }
        },
        "yaxis": {
         "anchor": "x",
         "domain": [
          0,
          1
         ],
         "title": {
          "text": "petal_width"
         }
        }
       }
      }
     },
     "metadata": {},
     "output_type": "display_data"
    }
   ],
   "source": [
    "# Caricamento dataset Iris\n",
    "iris = sns.load_dataset('iris')  # oppure: pd.read_csv(...) se usi un file\n",
    "\n",
    "# Scatter plot\n",
    "fig = px.scatter(\n",
    "    iris,\n",
    "    x=\"petal_length\",\n",
    "    y=\"petal_width\",\n",
    "    color=\"species\",\n",
    "    size=\"sepal_width\",\n",
    "    hover_data=['sepal_length'],\n",
    "    title=\"Scatter plot of Iris Dataset\"\n",
    ")\n",
    "\n",
    "fig.show()"
   ]
  },
  {
   "cell_type": "code",
   "execution_count": 29,
   "metadata": {},
   "outputs": [
    {
     "data": {
      "application/vnd.plotly.v1+json": {
       "config": {
        "plotlyServerURL": "https://plot.ly"
       },
       "data": [
        {
         "colorscale": [
          [
           0,
           "#440154"
          ],
          [
           0.1111111111111111,
           "#482878"
          ],
          [
           0.2222222222222222,
           "#3e4989"
          ],
          [
           0.3333333333333333,
           "#31688e"
          ],
          [
           0.4444444444444444,
           "#26828e"
          ],
          [
           0.5555555555555556,
           "#1f9e89"
          ],
          [
           0.6666666666666666,
           "#35b779"
          ],
          [
           0.7777777777777778,
           "#6ece58"
          ],
          [
           0.8888888888888888,
           "#b5de2b"
          ],
          [
           1,
           "#fde725"
          ]
         ],
         "type": "surface",
         "x": {
          "bdata": "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",
          "dtype": "f8",
          "shape": "100, 100"
         },
         "y": {
          "bdata": "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",
          "dtype": "f8",
          "shape": "100, 100"
         },
         "z": {
          "bdata": "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",
          "dtype": "f8",
          "shape": "100, 100"
         }
        }
       ],
       "layout": {
        "scene": {
         "xaxis": {
          "title": {
           "text": "x"
          }
         },
         "yaxis": {
          "title": {
           "text": "y"
          }
         },
         "zaxis": {
          "title": {
           "text": "z"
          }
         }
        },
        "template": {
         "data": {
          "bar": [
           {
            "error_x": {
             "color": "#2a3f5f"
            },
            "error_y": {
             "color": "#2a3f5f"
            },
            "marker": {
             "line": {
              "color": "#E5ECF6",
              "width": 0.5
             },
             "pattern": {
              "fillmode": "overlay",
              "size": 10,
              "solidity": 0.2
             }
            },
            "type": "bar"
           }
          ],
          "barpolar": [
           {
            "marker": {
             "line": {
              "color": "#E5ECF6",
              "width": 0.5
             },
             "pattern": {
              "fillmode": "overlay",
              "size": 10,
              "solidity": 0.2
             }
            },
            "type": "barpolar"
           }
          ],
          "carpet": [
           {
            "aaxis": {
             "endlinecolor": "#2a3f5f",
             "gridcolor": "white",
             "linecolor": "white",
             "minorgridcolor": "white",
             "startlinecolor": "#2a3f5f"
            },
            "baxis": {
             "endlinecolor": "#2a3f5f",
             "gridcolor": "white",
             "linecolor": "white",
             "minorgridcolor": "white",
             "startlinecolor": "#2a3f5f"
            },
            "type": "carpet"
           }
          ],
          "choropleth": [
           {
            "colorbar": {
             "outlinewidth": 0,
             "ticks": ""
            },
            "type": "choropleth"
           }
          ],
          "contour": [
           {
            "colorbar": {
             "outlinewidth": 0,
             "ticks": ""
            },
            "colorscale": [
             [
              0,
              "#0d0887"
             ],
             [
              0.1111111111111111,
              "#46039f"
             ],
             [
              0.2222222222222222,
              "#7201a8"
             ],
             [
              0.3333333333333333,
              "#9c179e"
             ],
             [
              0.4444444444444444,
              "#bd3786"
             ],
             [
              0.5555555555555556,
              "#d8576b"
             ],
             [
              0.6666666666666666,
              "#ed7953"
             ],
             [
              0.7777777777777778,
              "#fb9f3a"
             ],
             [
              0.8888888888888888,
              "#fdca26"
             ],
             [
              1,
              "#f0f921"
             ]
            ],
            "type": "contour"
           }
          ],
          "contourcarpet": [
           {
            "colorbar": {
             "outlinewidth": 0,
             "ticks": ""
            },
            "type": "contourcarpet"
           }
          ],
          "heatmap": [
           {
            "colorbar": {
             "outlinewidth": 0,
             "ticks": ""
            },
            "colorscale": [
             [
              0,
              "#0d0887"
             ],
             [
              0.1111111111111111,
              "#46039f"
             ],
             [
              0.2222222222222222,
              "#7201a8"
             ],
             [
              0.3333333333333333,
              "#9c179e"
             ],
             [
              0.4444444444444444,
              "#bd3786"
             ],
             [
              0.5555555555555556,
              "#d8576b"
             ],
             [
              0.6666666666666666,
              "#ed7953"
             ],
             [
              0.7777777777777778,
              "#fb9f3a"
             ],
             [
              0.8888888888888888,
              "#fdca26"
             ],
             [
              1,
              "#f0f921"
             ]
            ],
            "type": "heatmap"
           }
          ],
          "histogram": [
           {
            "marker": {
             "pattern": {
              "fillmode": "overlay",
              "size": 10,
              "solidity": 0.2
             }
            },
            "type": "histogram"
           }
          ],
          "histogram2d": [
           {
            "colorbar": {
             "outlinewidth": 0,
             "ticks": ""
            },
            "colorscale": [
             [
              0,
              "#0d0887"
             ],
             [
              0.1111111111111111,
              "#46039f"
             ],
             [
              0.2222222222222222,
              "#7201a8"
             ],
             [
              0.3333333333333333,
              "#9c179e"
             ],
             [
              0.4444444444444444,
              "#bd3786"
             ],
             [
              0.5555555555555556,
              "#d8576b"
             ],
             [
              0.6666666666666666,
              "#ed7953"
             ],
             [
              0.7777777777777778,
              "#fb9f3a"
             ],
             [
              0.8888888888888888,
              "#fdca26"
             ],
             [
              1,
              "#f0f921"
             ]
            ],
            "type": "histogram2d"
           }
          ],
          "histogram2dcontour": [
           {
            "colorbar": {
             "outlinewidth": 0,
             "ticks": ""
            },
            "colorscale": [
             [
              0,
              "#0d0887"
             ],
             [
              0.1111111111111111,
              "#46039f"
             ],
             [
              0.2222222222222222,
              "#7201a8"
             ],
             [
              0.3333333333333333,
              "#9c179e"
             ],
             [
              0.4444444444444444,
              "#bd3786"
             ],
             [
              0.5555555555555556,
              "#d8576b"
             ],
             [
              0.6666666666666666,
              "#ed7953"
             ],
             [
              0.7777777777777778,
              "#fb9f3a"
             ],
             [
              0.8888888888888888,
              "#fdca26"
             ],
             [
              1,
              "#f0f921"
             ]
            ],
            "type": "histogram2dcontour"
           }
          ],
          "mesh3d": [
           {
            "colorbar": {
             "outlinewidth": 0,
             "ticks": ""
            },
            "type": "mesh3d"
           }
          ],
          "parcoords": [
           {
            "line": {
             "colorbar": {
              "outlinewidth": 0,
              "ticks": ""
             }
            },
            "type": "parcoords"
           }
          ],
          "pie": [
           {
            "automargin": true,
            "type": "pie"
           }
          ],
          "scatter": [
           {
            "fillpattern": {
             "fillmode": "overlay",
             "size": 10,
             "solidity": 0.2
            },
            "type": "scatter"
           }
          ],
          "scatter3d": [
           {
            "line": {
             "colorbar": {
              "outlinewidth": 0,
              "ticks": ""
             }
            },
            "marker": {
             "colorbar": {
              "outlinewidth": 0,
              "ticks": ""
             }
            },
            "type": "scatter3d"
           }
          ],
          "scattercarpet": [
           {
            "marker": {
             "colorbar": {
              "outlinewidth": 0,
              "ticks": ""
             }
            },
            "type": "scattercarpet"
           }
          ],
          "scattergeo": [
           {
            "marker": {
             "colorbar": {
              "outlinewidth": 0,
              "ticks": ""
             }
            },
            "type": "scattergeo"
           }
          ],
          "scattergl": [
           {
            "marker": {
             "colorbar": {
              "outlinewidth": 0,
              "ticks": ""
             }
            },
            "type": "scattergl"
           }
          ],
          "scattermap": [
           {
            "marker": {
             "colorbar": {
              "outlinewidth": 0,
              "ticks": ""
             }
            },
            "type": "scattermap"
           }
          ],
          "scattermapbox": [
           {
            "marker": {
             "colorbar": {
              "outlinewidth": 0,
              "ticks": ""
             }
            },
            "type": "scattermapbox"
           }
          ],
          "scatterpolar": [
           {
            "marker": {
             "colorbar": {
              "outlinewidth": 0,
              "ticks": ""
             }
            },
            "type": "scatterpolar"
           }
          ],
          "scatterpolargl": [
           {
            "marker": {
             "colorbar": {
              "outlinewidth": 0,
              "ticks": ""
             }
            },
            "type": "scatterpolargl"
           }
          ],
          "scatterternary": [
           {
            "marker": {
             "colorbar": {
              "outlinewidth": 0,
              "ticks": ""
             }
            },
            "type": "scatterternary"
           }
          ],
          "surface": [
           {
            "colorbar": {
             "outlinewidth": 0,
             "ticks": ""
            },
            "colorscale": [
             [
              0,
              "#0d0887"
             ],
             [
              0.1111111111111111,
              "#46039f"
             ],
             [
              0.2222222222222222,
              "#7201a8"
             ],
             [
              0.3333333333333333,
              "#9c179e"
             ],
             [
              0.4444444444444444,
              "#bd3786"
             ],
             [
              0.5555555555555556,
              "#d8576b"
             ],
             [
              0.6666666666666666,
              "#ed7953"
             ],
             [
              0.7777777777777778,
              "#fb9f3a"
             ],
             [
              0.8888888888888888,
              "#fdca26"
             ],
             [
              1,
              "#f0f921"
             ]
            ],
            "type": "surface"
           }
          ],
          "table": [
           {
            "cells": {
             "fill": {
              "color": "#EBF0F8"
             },
             "line": {
              "color": "white"
             }
            },
            "header": {
             "fill": {
              "color": "#C8D4E3"
             },
             "line": {
              "color": "white"
             }
            },
            "type": "table"
           }
          ]
         },
         "layout": {
          "annotationdefaults": {
           "arrowcolor": "#2a3f5f",
           "arrowhead": 0,
           "arrowwidth": 1
          },
          "autotypenumbers": "strict",
          "coloraxis": {
           "colorbar": {
            "outlinewidth": 0,
            "ticks": ""
           }
          },
          "colorscale": {
           "diverging": [
            [
             0,
             "#8e0152"
            ],
            [
             0.1,
             "#c51b7d"
            ],
            [
             0.2,
             "#de77ae"
            ],
            [
             0.3,
             "#f1b6da"
            ],
            [
             0.4,
             "#fde0ef"
            ],
            [
             0.5,
             "#f7f7f7"
            ],
            [
             0.6,
             "#e6f5d0"
            ],
            [
             0.7,
             "#b8e186"
            ],
            [
             0.8,
             "#7fbc41"
            ],
            [
             0.9,
             "#4d9221"
            ],
            [
             1,
             "#276419"
            ]
           ],
           "sequential": [
            [
             0,
             "#0d0887"
            ],
            [
             0.1111111111111111,
             "#46039f"
            ],
            [
             0.2222222222222222,
             "#7201a8"
            ],
            [
             0.3333333333333333,
             "#9c179e"
            ],
            [
             0.4444444444444444,
             "#bd3786"
            ],
            [
             0.5555555555555556,
             "#d8576b"
            ],
            [
             0.6666666666666666,
             "#ed7953"
            ],
            [
             0.7777777777777778,
             "#fb9f3a"
            ],
            [
             0.8888888888888888,
             "#fdca26"
            ],
            [
             1,
             "#f0f921"
            ]
           ],
           "sequentialminus": [
            [
             0,
             "#0d0887"
            ],
            [
             0.1111111111111111,
             "#46039f"
            ],
            [
             0.2222222222222222,
             "#7201a8"
            ],
            [
             0.3333333333333333,
             "#9c179e"
            ],
            [
             0.4444444444444444,
             "#bd3786"
            ],
            [
             0.5555555555555556,
             "#d8576b"
            ],
            [
             0.6666666666666666,
             "#ed7953"
            ],
            [
             0.7777777777777778,
             "#fb9f3a"
            ],
            [
             0.8888888888888888,
             "#fdca26"
            ],
            [
             1,
             "#f0f921"
            ]
           ]
          },
          "colorway": [
           "#636efa",
           "#EF553B",
           "#00cc96",
           "#ab63fa",
           "#FFA15A",
           "#19d3f3",
           "#FF6692",
           "#B6E880",
           "#FF97FF",
           "#FECB52"
          ],
          "font": {
           "color": "#2a3f5f"
          },
          "geo": {
           "bgcolor": "white",
           "lakecolor": "white",
           "landcolor": "#E5ECF6",
           "showlakes": true,
           "showland": true,
           "subunitcolor": "white"
          },
          "hoverlabel": {
           "align": "left"
          },
          "hovermode": "closest",
          "mapbox": {
           "style": "light"
          },
          "paper_bgcolor": "white",
          "plot_bgcolor": "#E5ECF6",
          "polar": {
           "angularaxis": {
            "gridcolor": "white",
            "linecolor": "white",
            "ticks": ""
           },
           "bgcolor": "#E5ECF6",
           "radialaxis": {
            "gridcolor": "white",
            "linecolor": "white",
            "ticks": ""
           }
          },
          "scene": {
           "xaxis": {
            "backgroundcolor": "#E5ECF6",
            "gridcolor": "white",
            "gridwidth": 2,
            "linecolor": "white",
            "showbackground": true,
            "ticks": "",
            "zerolinecolor": "white"
           },
           "yaxis": {
            "backgroundcolor": "#E5ECF6",
            "gridcolor": "white",
            "gridwidth": 2,
            "linecolor": "white",
            "showbackground": true,
            "ticks": "",
            "zerolinecolor": "white"
           },
           "zaxis": {
            "backgroundcolor": "#E5ECF6",
            "gridcolor": "white",
            "gridwidth": 2,
            "linecolor": "white",
            "showbackground": true,
            "ticks": "",
            "zerolinecolor": "white"
           }
          },
          "shapedefaults": {
           "line": {
            "color": "#2a3f5f"
           }
          },
          "ternary": {
           "aaxis": {
            "gridcolor": "white",
            "linecolor": "white",
            "ticks": ""
           },
           "baxis": {
            "gridcolor": "white",
            "linecolor": "white",
            "ticks": ""
           },
           "bgcolor": "#E5ECF6",
           "caxis": {
            "gridcolor": "white",
            "linecolor": "white",
            "ticks": ""
           }
          },
          "title": {
           "x": 0.05
          },
          "xaxis": {
           "automargin": true,
           "gridcolor": "white",
           "linecolor": "white",
           "ticks": "",
           "title": {
            "standoff": 15
           },
           "zerolinecolor": "white",
           "zerolinewidth": 2
          },
          "yaxis": {
           "automargin": true,
           "gridcolor": "white",
           "linecolor": "white",
           "ticks": "",
           "title": {
            "standoff": 15
           },
           "zerolinecolor": "white",
           "zerolinewidth": 2
          }
         }
        },
        "title": {
         "text": "Superficie 3D: sinc(sqrt(x² + y²))"
        }
       }
      }
     },
     "metadata": {},
     "output_type": "display_data"
    }
   ],
   "source": [
    "# Genera griglia di punti\n",
    "x = np.linspace(-6, 6, 100)\n",
    "y = np.linspace(-6, 6, 100)\n",
    "x, y = np.meshgrid(x, y)\n",
    "\n",
    "# Definisce la funzione\n",
    "z = np.sinc(np.sqrt(x**2 + y**2) / np.pi)  # sinc(x) = sin(pi x)/(pi x)\n",
    "\n",
    "# Crea la figura 3D\n",
    "fig = go.Figure(data=[go.Surface(z=z, x=x, y=y, colorscale='Viridis')])\n",
    "\n",
    "fig.update_layout(\n",
    "    title='Superficie 3D: sinc(sqrt(x² + y²))',\n",
    "    scene=dict(\n",
    "        xaxis_title='x',\n",
    "        yaxis_title='y',\n",
    "        zaxis_title='z'\n",
    "    )\n",
    ")\n",
    "\n",
    "fig.show()\n"
   ]
  }
 ],
 "metadata": {
  "kernelspec": {
   "display_name": "ProgrammingLab2",
   "language": "python",
   "name": "python3"
  },
  "language_info": {
   "codemirror_mode": {
    "name": "ipython",
    "version": 3
   },
   "file_extension": ".py",
   "mimetype": "text/x-python",
   "name": "python",
   "nbconvert_exporter": "python",
   "pygments_lexer": "ipython3",
   "version": "3.12.9"
  }
 },
 "nbformat": 4,
 "nbformat_minor": 2
}
