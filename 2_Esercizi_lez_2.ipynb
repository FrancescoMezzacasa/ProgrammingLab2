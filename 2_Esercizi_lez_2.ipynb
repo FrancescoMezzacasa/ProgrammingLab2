{
 "cells": [
  {
   "cell_type": "markdown",
   "metadata": {},
   "source": [
    "### **1. Indicizzazione booleana**\n",
    "\n",
    "1. Creare un nuovo vettore con tutti i numeri primi tra 0 e 20. I numeri primi compresi tra 0 e 20 sono: **2, 3, 5, 7, 11, 13, 17, 19**.\n",
    "\n",
    "2. Utilizza un test logico (ad esempio `>`, `<`, `==`, `!=`) per **selezionare tutte le voci del vettore maggiori di 10**.\n",
    "\n",
    "3. Utilizza un test logico per selezionare **tutti i numeri primi pari** dalla lista.  \n"
   ]
  },
  {
   "cell_type": "code",
   "execution_count": 2,
   "metadata": {},
   "outputs": [
    {
     "data": {
      "text/plain": [
       "array([2])"
      ]
     },
     "execution_count": 2,
     "metadata": {},
     "output_type": "execute_result"
    }
   ],
   "source": [
    "import numpy as np # type: ignore\n",
    "\n",
    "x = np.array([2, 3, 5, 7, 11, 13, 17, 19])\n",
    "\n",
    "x[x > 10]\n",
    "\n",
    "x[x % 2 == 0]"
   ]
  },
  {
   "cell_type": "markdown",
   "metadata": {},
   "source": [
    "### **2.  Operazioni su array**\n",
    "Crea un array **a**, 2D (senza digitarlo esplicitamente), e genera due nuovi array **b**, contenente la sua 2ª e 4ª riga, e **c** contenente solo la 3ª.  Dividi ogni colonna dell'array a, elemento per elemento, con l'array c."
   ]
  },
  {
   "cell_type": "code",
   "execution_count": 10,
   "metadata": {},
   "outputs": [
    {
     "name": "stdout",
     "output_type": "stream",
     "text": [
      "[[ 1  2  3  4]\n",
      " [ 5  6  7  8]\n",
      " [ 9 10 11 12]\n",
      " [13 14 15 16]]\n",
      "[[ 5  6  7  8]\n",
      " [13 14 15 16]]\n",
      "[ 9 10 11 12]\n",
      "[[0.11111111 0.2        0.27272727 0.33333333]\n",
      " [0.55555556 0.6        0.63636364 0.66666667]\n",
      " [1.         1.         1.         1.        ]\n",
      " [1.44444444 1.4        1.36363636 1.33333333]]\n"
     ]
    }
   ],
   "source": [
    "a = np.arange(1, 17).reshape(4, 4)\n",
    "print(a)\n",
    "b = np.array(a[1:4:2, :]) \n",
    "print(b)\n",
    "c = np.array(a[2, :])\n",
    "print(c)\n",
    "print(a/c)"
   ]
  },
  {
   "cell_type": "markdown",
   "metadata": {},
   "source": [
    "### **3. Seleziona il numero più vicino a 0.5 in un array casuale**\n",
    "Genera un array 10 x 3 con numeri casuali nell'intervallo [0,1].\n",
    "Per ogni riga, seleziona il numero più vicino a 0.5. Per farlo usa il fancy indexing."
   ]
  },
  {
   "cell_type": "code",
   "execution_count": 3,
   "metadata": {},
   "outputs": [
    {
     "name": "stdout",
     "output_type": "stream",
     "text": [
      "[[0.8491232  0.16816231 0.51616407]\n",
      " [0.34647084 0.31663162 0.60972644]\n",
      " [0.25404534 0.74460987 0.67399484]\n",
      " [0.92221072 0.1700421  0.68778082]\n",
      " [0.55786972 0.01264382 0.21809748]\n",
      " [0.16459636 0.21996722 0.34055511]\n",
      " [0.01508769 0.22169132 0.04087311]\n",
      " [0.95380493 0.85051333 0.17682086]\n",
      " [0.14272872 0.49135129 0.4370266 ]\n",
      " [0.22871249 0.73228732 0.49736383]]\n",
      "[0.51616407 0.60972644 0.67399484 0.68778082 0.55786972 0.34055511\n",
      " 0.22169132 0.17682086 0.49135129 0.49736383]\n"
     ]
    }
   ],
   "source": [
    "a = np.random.rand(10, 3)\n",
    "print(a)\n",
    "\n",
    "colonne = np.abs(a - 0.5).argmin(axis=1)\n",
    "righe = np.arange(a.shape[0])\n",
    "new = a[righe, colonne]\n",
    "print(new)"
   ]
  },
  {
   "cell_type": "code",
   "execution_count": 16,
   "metadata": {},
   "outputs": [
    {
     "name": "stdout",
     "output_type": "stream",
     "text": [
      "[[0.43704862 0.48167624 0.03577227]\n",
      " [0.68833071 0.55727522 0.77060941]\n",
      " [0.44482122 0.81061873 0.03356564]\n",
      " [0.35133919 0.90448371 0.13156101]\n",
      " [0.91311423 0.17734278 0.6263914 ]\n",
      " [0.79714937 0.39569806 0.46877748]\n",
      " [0.92120212 0.90650015 0.44841269]\n",
      " [0.50449739 0.96122951 0.88912987]\n",
      " [0.52864277 0.29604637 0.68964303]\n",
      " [0.30230825 0.64890262 0.3308437 ]]\n",
      "[0.48167624 0.55727522 0.44482122 0.35133919 0.6263914  0.46877748\n",
      " 0.44841269 0.50449739 0.52864277 0.64890262]\n"
     ]
    }
   ],
   "source": [
    "a = np.random.rand(10, 3)\n",
    "print(a)\n",
    "\n",
    "colonna = np.abs(a - 0.5).argmin(axis=1)\n",
    "#questo vuol dire fai a meno 0.5 poi valore assoluto\n",
    "#e poi prendi l'indice dell'elemento minimo per righe\n",
    "righe = np.arange(10)\n",
    "nuovo = a[righe, colonna]\n",
    "print(nuovo)"
   ]
  },
  {
   "cell_type": "markdown",
   "metadata": {},
   "source": [
    "### **4. Analisi della Frequenza Cardiaca con NumPy**\n",
    "\n",
    "1. **Supponiamo che i seguenti valori rappresentino la tua frequenza cardiaca** registrata dal tuo Fitbit durante la giornata:  \n",
    "   `68, 65, 77, 110, 160, 161, 162, 161, 160, 161, 162, 163, 164, 163, 162, 100, 90, 97, 72, 60, 70`  \n",
    "   Inserisci questi valori in un array NumPy.\n",
    "\n",
    "2. **Trova la frequenza cardiaca minima** registrata durante la giornata.  \n",
    "   _(Questo valore rappresenta approssimativamente la tua frequenza cardiaca a riposo, un comune indicatore di salute.)_\n",
    "\n",
    "3. **Trova la frequenza cardiaca massima** registrata durante la giornata.  \n",
    "   _(Questo valore è un'indicazione dell'intensità dell'esercizio fisico.)_\n",
    "\n",
    "4. **Calcoliamo la percentuale di letture effettuate mentre stavi facendo esercizio fisico (frequenza cardiaca sopra a 120)**:  \n",
    "   - Crea un nuovo array che contiene `True` quando la frequenza cardiaca è **superiore a 120**, e `False` quando è **inferiore o uguale a 120**.\n",
    "   - Utilizza una funzione di sintesi per calcolare la percentuale di osservazioni in cui la tua frequenza cardiaca era sopra 120.\n"
   ]
  },
  {
   "cell_type": "code",
   "execution_count": 19,
   "metadata": {},
   "outputs": [
    {
     "name": "stdout",
     "output_type": "stream",
     "text": [
      "[ 68  65  77 110 160 161 162 161 160 161 162 163 164 163 162 100  90  97\n",
      "  72  60  70] 60 164 52.38095238095239\n"
     ]
    }
   ],
   "source": [
    "bpm = np.array([68, 65, 77, 110, 160, 161, 162, 161, 160, 161, 162, 163, 164, 163, 162, 100, 90, 97, 72, 60, 70])\n",
    "\n",
    "riposo = np.min(bpm)\n",
    "massima = np.max(bpm)\n",
    "\n",
    "maggiore = bpm>120\n",
    "solo_maggiori = bpm[maggiore]\n",
    "percent = (np.size(solo_maggiori)/np.size(bpm)) * 100\n",
    "print(bpm, riposo, massima, percent)"
   ]
  },
  {
   "cell_type": "markdown",
   "metadata": {},
   "source": [
    "### **5. Manipolazione di vettori**\n",
    "\n",
    "1. Creare un vettore contenente i seguenti stipendi: **50.000, 105.250, 55.000, 89.000**.  \n",
    "Qual è il costo totale del personale (somma di tutti gli stipendi dell'azienda)?\n",
    "\n",
    "2. Supponiamo che il nostro malvagio CEO abbia deciso di darsi un aumento.  \n",
    "Modifica il vettore degli stipendi in modo che il CEO, la persona che guadagna **105.250 dollari**, riceva un aumento del **15%**.\n",
    "\n",
    "3. Il **115%** di **105.250 dollari** è **121.037,50 dollari**.  \n",
    "Questo valore è presente nel tuo array? Se no, riesci a capire il motivo?\n",
    "\n",
    "4. Ricrea il vettore e utilizza l'argomento **`dtype`** in modo che, quando il CEO riceve un aumento del **15%**, il suo stipendio finale sia esattamente **121.037,50 dollari**.\n",
    "\n",
    "5. Questo aumento ha infastidito l'impiegata con lo stipendio più basso (**50.000 dollari**), che ora pretende un aumento del **20%**.  \n",
    "Modifica il vettore per riflettere questo cambiamento.\n",
    "\n",
    "6. L'aumento dato al CEO e all'impiegata ha irritato gli altri due dipendenti, quindi ora devono ricevere un aumento del **10%**.  \n",
    "Modifica il vettore di conseguenza.\n",
    "\n",
    "7. Calcola il **costo totale del personale** dopo tutti gli aumenti.  \n",
    "Alla fine, quanto è costato all'azienda l'aumento di circa **16.000 dollari** del CEO?\n"
   ]
  },
  {
   "cell_type": "code",
   "execution_count": 29,
   "metadata": {},
   "outputs": [
    {
     "name": "stdout",
     "output_type": "stream",
     "text": [
      "299250\n",
      "[ 50000 121037  55000  89000]\n",
      "[ 50000.  121037.5  55000.   89000. ]\n",
      "[ 60000.  121037.5  55000.   89000. ]\n",
      "[ 60000.  121037.5  60500.   97900. ]\n",
      "339437.5\n"
     ]
    }
   ],
   "source": [
    "stipendi = np.array([50000, 105250, 55000, 89000])\n",
    "tot = np.sum(stipendi)\n",
    "print(tot)\n",
    "stipendi[1] *= 1.15\n",
    "print(stipendi)\n",
    "#non è giusto perche sono interi, li metto float\n",
    "stipendi = np.array([50000, 105250, 55000, 89000], dtype=float)\n",
    "stipendi[1] *= 1.15\n",
    "print(stipendi)\n",
    "stipendi[0] *= 1.2\n",
    "print(stipendi)\n",
    "stipendi[2:4] *= 1.1\n",
    "print(stipendi)\n",
    "tot = np.sum(stipendi)\n",
    "print(tot)"
   ]
  },
  {
   "cell_type": "markdown",
   "metadata": {},
   "source": [
    "### **6. Valori di Co2**\n",
    "\n",
    "1. Carica tramite numpy il file generato e salvato a lezione sulle emissioni di CO2\n",
    "\n",
    "2. Calcola quanti valori ci CO2 sono sopra la soglia di 18  tonnellate per anno ed il loro valore medio\n",
    "\n",
    "3. Calcola la frazione totale di emissione sopra la soglia (somma totale sopra la soglia/somma totale)"
   ]
  },
  {
   "cell_type": "code",
   "execution_count": 34,
   "metadata": {},
   "outputs": [
    {
     "name": "stdout",
     "output_type": "stream",
     "text": [
      "[18.01 19.34 18.27 19.15 18.23 19.9  18.89 19.4  19.84 19.25 19.62 18.04\n",
      " 18.48 19.63 19.16 18.22 19.01 18.94 18.16 18.75 18.05 19.62 19.26 18.17\n",
      " 19.2 ]\n",
      "25\n",
      "18.903599999999997\n",
      "0.19339354331804212\n"
     ]
    }
   ],
   "source": [
    "emissioni = np.loadtxt(\"/mnt/c/Users/frame/OneDrive/Desktop/Francesco scuola/Uni/Programmazione/Nenzi/git/dati/emissioni.txt\")\n",
    "\n",
    "maggiori = emissioni[emissioni>18]\n",
    "print(maggiori)\n",
    "print(np.size(maggiori))\n",
    "print(np.mean(maggiori))\n",
    "print(np.sum(maggiori)/np.sum(emissioni))"
   ]
  },
  {
   "cell_type": "markdown",
   "metadata": {},
   "source": [
    "### **7. Analisi di una matrice**\n",
    "Data la matrice survey con età, reddito e anni di istruzione\n",
    "\n",
    "survey_matrix = np.array([\n",
    "    [25, 40000, 10],\n",
    "    [32, 52000, 12],\n",
    "    [40, 63000, 14],\n",
    "    [29, 47000, 11],\n",
    "    [35, 58000, 13]\n",
    "])\n",
    "\n",
    "\n",
    "1. Seleziona dalla matrice solo gli intervistati con **almeno 12 anni di istruzione** utilizzando un test logico.\n",
    "\n",
    "2. In un'unica riga di codice, seleziona i **redditi** degli intervistati con **almeno 12 anni di istruzione**.\n",
    "\n",
    "3. In un'unica riga di codice, calcola il **reddito medio** degli intervistati con **almeno 12 anni di istruzione**.\n"
   ]
  },
  {
   "cell_type": "code",
   "execution_count": 48,
   "metadata": {},
   "outputs": [
    {
     "name": "stdout",
     "output_type": "stream",
     "text": [
      "[[   32 52000    12]\n",
      " [   40 63000    14]\n",
      " [   35 58000    13]]\n",
      "[52000 63000 58000]\n",
      "57666.666666666664\n"
     ]
    }
   ],
   "source": [
    "survey_matrix = np.array([\n",
    "    [25, 40000, 10],\n",
    "    [32, 52000, 12],\n",
    "    [40, 63000, 14],\n",
    "    [29, 47000, 11],\n",
    "    [35, 58000, 13]\n",
    "])\n",
    "print(survey_matrix[survey_matrix[:, 2]>=12, :])\n",
    "print(survey_matrix[survey_matrix[:, 2]>=12, 1])\n",
    "print(np.mean(survey_matrix[survey_matrix[:, 2]>=12, 1]))"
   ]
  },
  {
   "cell_type": "markdown",
   "metadata": {},
   "source": [
    "### **8. Rimpiazzare gli outliers**\n",
    "\n",
    "Vediamo se possiamo ripulire alcuni dati mancanti. Immagina di essere il responsabile dei registri di un comune locale con **500 cittadini** di **55 anni e oltre**.  \n",
    "\n",
    "La città è famosa per la sua longevità e un team di ricercatori ti ha chiesto di identificare **il cittadino più anziano**.  \n",
    "\n",
    "Il problema è che, occasionalmente, nei registri si verificano errori e in quei casi viene inserita l'età **999** invece dell'età corretta.  \n",
    "\n",
    "Rimuovi i dati errati dall'array e determina l'età del cittadino più anziano.\n"
   ]
  },
  {
   "cell_type": "code",
   "execution_count": 6,
   "metadata": {},
   "outputs": [
    {
     "name": "stdout",
     "output_type": "stream",
     "text": [
      "[ 92 108  75  63  62  66  90  98  97  92  60 107  90  71  97  86  55  55\n",
      "  98  57  96 104  96  94  72  98 111  98  89  69  77  92  85 101  93 100\n",
      "  90 101  96  98  87 106  86 108  55  67  65  68  59  67  72  57  79  95\n",
      "  67  86  70  91 111  67  75  59  88  90  99  94  65 111 103 100  70  63\n",
      "  65 100 110  70  57  75  56 104 111  90  74 100  90  86  88  99  58 103\n",
      "  88 103  64  96 105  89  83  65 100  62  73 105  83 105  58  96  77  74\n",
      "  95 109  91 101  91  63 111  97 108  75  77  73  58  94  83  90  61 110\n",
      " 107 105  85  64  66  71 107 105  72  78  66 100 102  72  74  68  73  72\n",
      "  90  93  99  55  92  83  58  71  89  75  98  87  78  97  71 106  83  58\n",
      "  81 100  72  93  70  65  60  95 107  94  77  87  90  82  56  99 107  86\n",
      "  56  73  96  64  69  64  92  57 104 110  69  66  68  84  89  72  80  55\n",
      "  75  87  57 106  69  66  62 102  76 111  96  83  84  61 102  63 107  63\n",
      "  76  58  83  58  61  71  77  90  74 100 103  74  92 102  63  87  93  61\n",
      "  63  86  74  98  64  78  95  84  81 107  85  79  82  89  65 107  57  74\n",
      "  77  97  92  58  96 105  60  55  74  57  80  62  85  87  62  71  74  70\n",
      "  97  59  82  96 105  70  89 105  60  70  87  64 108 107 104  85  95 108\n",
      "  74  64  97  89  88  79  67  81  92  63  80  76  94 104  67  73  61  99\n",
      "  96  68  90  86  79  85 111  75  98  81 111 108 103  85  72 108 102  64\n",
      " 107 112  66  93  89  78  66  92  63 101  92  64  72  56  71  64  87  78\n",
      " 107  85 109  95  69 111  64  72  55  66  99  57  78  55  58  90  88  71\n",
      "  90 103  92  98  67  97  77  68  77  59  78  69  77  81  61  99  85  78\n",
      " 104  97  95  74  70  69  83  68  68  77  60  85  82  93  66  71  62  64\n",
      " 107  65  78  59  83  67 108  58  95 106  83  79  67  59  96  90  55  55\n",
      "  96 109  82  55 101  58  97  77  60  81  81  75 100  66  65 105  94 101\n",
      "  56  59 105  59  93  56 104  74  81  62  76  65 107  60 107  98  77  86\n",
      "  83 104  74  69  97  80  91  56 108  87  65  91  93  60  91 110 107  88\n",
      "  96  70  60  99  66  91 107  65  81 109  84 106  80  92  78  84  91  59]\n",
      "112\n"
     ]
    }
   ],
   "source": [
    "ages = np.array([92, 108, 75, 63, 62, 66, 90, 98, 97, 92, 60, 107, 90, 71, 97, 86, 55, 55,\n",
    "                 98, 57, 96, 104, 96, 94, 72, 98, 111, 98, 89, 69, 77, 92, 85, 101, 93, 100,\n",
    "                 90, 101, 96, 98, 999, 87, 106, 86, 108, 55, 67, 65, 68, 59, 67, 72, 57, 79,\n",
    "                 95, 67, 86, 70, 91, 111, 67, 75, 59, 88, 90, 99, 94, 65, 111, 103, 100, 70,\n",
    "                 63, 65, 100, 110, 999, 70, 57, 75, 56, 104, 111, 90, 74, 100, 90, 86, 88, 99,\n",
    "                 58, 103, 88, 103, 64, 96, 105, 89, 83, 65, 100, 62, 73, 105, 83, 105, 58, 96,\n",
    "                 77, 74, 95, 109, 91, 101, 91, 999, 63, 111, 97, 108, 75, 77, 73, 58, 94, 83,\n",
    "                 90, 61, 110, 107, 105, 85, 64, 66, 71, 107, 105, 72, 78, 66, 100, 102, 72, 999,\n",
    "                 74, 68, 73, 72, 90, 93, 99, 55, 92, 83, 58, 71, 89, 75, 98, 87, 999, 78,\n",
    "                 97, 71, 106, 83, 58, 81, 100, 72, 93, 70, 65, 60, 95, 107, 94, 77, 87, 90,\n",
    "                 82, 56, 99, 107, 86, 56, 73, 96, 64, 69, 64, 92, 57, 104, 110, 69, 66, 68,\n",
    "                 84, 89, 72, 80, 55, 75, 87, 57, 106, 69, 66, 62, 102, 76, 111, 999, 96, 83,\n",
    "                 84, 61, 102, 63, 107, 63, 76, 58, 83, 58, 61, 71, 77, 90, 74, 100, 103, 74,\n",
    "                 92, 102, 63, 87, 93, 61, 63, 86, 74, 98, 64, 999, 78, 95, 84, 81, 107, 85,\n",
    "                 79, 82, 89, 65, 107, 57, 74, 77, 97, 92, 58, 96, 105, 60, 55, 74, 57, 80,\n",
    "                 62, 85, 87, 62, 999, 71, 74, 70, 97, 59, 82, 96, 105, 70, 89, 105, 60, 70,\n",
    "                 87, 999, 64, 108, 107, 104, 85, 95, 108, 74, 64, 97, 89, 88, 79, 67, 81, 92,\n",
    "                 63, 80, 76, 94, 104, 67, 73, 61, 99, 96, 68, 90, 86, 79, 85, 111, 75, 98,\n",
    "                 81, 111, 108, 103, 85, 72, 108, 102, 999, 64, 107, 112, 66, 93, 89, 78, 66, 92,\n",
    "                 63, 101, 92, 64, 72, 56, 71, 64, 87, 78, 107, 85, 109, 95, 69, 111, 64, 72,\n",
    "                 55, 66, 99, 57, 78, 55, 58, 90, 88, 71, 90, 103, 92, 98, 67, 97, 77, 68,\n",
    "                 77, 59, 78, 69, 77, 81, 61, 99, 999, 85, 78, 104, 97, 95, 74, 70, 69, 83,\n",
    "                 68, 68, 77, 60, 85, 82, 93, 66, 71, 62, 64, 107, 999, 65, 78, 59, 83, 67,\n",
    "                 108,  58,  95, 106,  83,  79,  67,  59,  96,  90,  55,  55,  96, 109,  82,  55, 101,  58,\n",
    "                 97, 77, 60, 81, 999, 81, 75, 100, 66, 65, 105, 94, 101, 56, 999, 59, 105, 59,\n",
    "                 93, 56, 104, 74, 81, 62, 76, 65, 107, 60, 107, 98, 77, 86, 83, 104, 74, 69,\n",
    "                 97, 80, 91, 56, 108, 87, 65, 91, 93, 60, 91, 110, 107, 88, 96, 70, 60, 99,\n",
    "                 66, 91, 107, 65, 81, 109, 84, 106, 80, 92, 78, 84, 91, 59])\n",
    "\n",
    "#print(ages == 999)\n",
    "\n",
    "new_ages = ages[ages != 999]\n",
    "print(new_ages)\n",
    "print(np.max(new_ages))"
   ]
  },
  {
   "cell_type": "markdown",
   "metadata": {},
   "source": [
    "### 9.**Generazione random di storie**\n",
    "\n",
    "Usando la lista qui sotto, estrai casualmente **5 parole con reinserimento** (cioè, i duplicati sono ammessi).  \n",
    "\n",
    "Successivamente, inserisci casualmente queste parole negli spazi vuoti (indicati con \"_\") nella seguente frase:\n",
    "\n",
    "*\"In epoche passate, viveva una donna saggia che era molto orgogliosa dell'antico __ che proteggeva. Quando un anziano del villaggio venne a chiederle consiglio su come garantire al meglio un raccolto abbondante e le offrì il __ come dono, i suoi occhi si spalancarono e lei esclamò una sola parola, \"__\".  \n",
    "Radunò il villaggio e, per i successivi 100 giorni, su sua richiesta, gli abitanti cercarono nella foresta un __.  \n",
    "Nel 101° giorno, il bambino più giovane del villaggio trovò ciò che stavano cercando e tutti corsero dalla donna saggia per donarglielo.  \n",
    "Con un sorriso da un orecchio all’altro, e cantando canti di festa, la donna saggia guardò i suoi compaesani e disse: \"Ora è giunto il tempo del banchetto - nessuno rimarrà mai più senza _!\" Ci fu grande gioia e celebrazione.\"*\n"
   ]
  },
  {
   "cell_type": "code",
   "execution_count": 26,
   "metadata": {},
   "outputs": [
    {
     "name": "stdout",
     "output_type": "stream",
     "text": [
      "['BIRILLO DA BOWLING' 'AGONIA' 'CERIMONIA' 'VARIANTE' 'AGENTE DI POLIZIA']\n"
     ]
    }
   ],
   "source": [
    "lista_parole = [\n",
    "    'INSEDIAMENTO', 'SEPARAZIONE', 'DIFFERENZA', 'APPLICAZIONE', 'ATTEGGIAMENTO', 'VERDURA', 'IMPERO', 'RICEVIMENTO',\n",
    "    'IGNORANZA', 'BIOGRAFIA', 'VISIONE', 'AGENTE DI POLIZIA', 'PROVA', 'PRESTAZIONE', 'PRESENTAZIONE', 'PARENTE',\n",
    "    'GIUSTIFICAZIONE', 'FILOSOFIA', 'DIREZIONE', 'BENEFICIARIO', 'BATTERIA', 'CERIMONIA', 'AGONIA', 'RECUPERO',\n",
    "    'ALFABETIZZAZIONE', 'CONSEGNA', 'SERBATOIO', 'VOLONTARIO', 'DEPOSITO', 'BIRILLO DA BOWLING', 'NEMICO', 'ANNUNCIO',\n",
    "    'CARAMELLA ZUCCHERATA', 'FULMINE', 'PALLONCINO', 'COPERTA', 'SCOPERTA', 'PENALITÀ', 'GENERALE', 'ALPACA',\n",
    "    'VANTAGGIO', 'HOT DOG', 'ABITO', 'MATEMATICA', 'VARIANTE'\n",
    "]\n",
    "\n",
    "indiciCasuali = np.random.randint(0, len(lista_parole), 5)\n",
    "paroleCasuali = [lista_parole[i] for i in indiciCasuali]\n",
    "parole = np.array(paroleCasuali)\n",
    "print(parole)"
   ]
  },
  {
   "cell_type": "code",
   "execution_count": 27,
   "metadata": {},
   "outputs": [
    {
     "name": "stdout",
     "output_type": "stream",
     "text": [
      "In epoche passate, viveva una donna saggia che era molto orgogliosa dell'antico BIRILLO DA BOWLING che proteggeva. Quando un anziano del villaggio venne a chiederle consiglio su come garantire al meglio un raccolto abbondante e le offrì il AGONIA come dono, i suoi occhi si spalancarono e lei esclamò una sola parola, 'CERIMONIA'.  Radunò il villaggio e, per i successivi 100 giorni, su sua richiesta, gli abitanti cercarono nella foresta un VARIANTE.  Nel 101° giorno, il bambino più giovane del villaggio trovò ciò che stavano cercando e tutti corsero dalla donna saggia per donarglielo.  Con un sorriso da un orecchio all'altro, e cantando canti di festa, la donna saggia guardò i suoi compaesani e disse: 'Ora è giunto il tempo del banchetto - nessuno rimarrà mai più senza AGENTE DI POLIZIA!' Ci fu grande gioia e celebrazione.\n"
     ]
    }
   ],
   "source": [
    "testo = \"In epoche passate, viveva una donna saggia che era molto orgogliosa dell'antico {} che proteggeva. Quando un anziano del villaggio venne a chiederle consiglio su come garantire al meglio un raccolto abbondante e le offrì il {} come dono, i suoi occhi si spalancarono e lei esclamò una sola parola, '{}'.  Radunò il villaggio e, per i successivi 100 giorni, su sua richiesta, gli abitanti cercarono nella foresta un {}.  Nel 101° giorno, il bambino più giovane del villaggio trovò ciò che stavano cercando e tutti corsero dalla donna saggia per donarglielo.  Con un sorriso da un orecchio all'altro, e cantando canti di festa, la donna saggia guardò i suoi compaesani e disse: 'Ora è giunto il tempo del banchetto - nessuno rimarrà mai più senza {}!' Ci fu grande gioia e celebrazione.\".format(parole[0], parole[1], parole[2], parole[3], parole[4])\n",
    "print(testo)"
   ]
  },
  {
   "cell_type": "markdown",
   "metadata": {},
   "source": [
    "Esempio di output\n",
    "\n",
    "\n",
    "\"In epoche passate, viveva una donna saggia che era molto orgogliosa dell'antico APPLICAZIONE che proteggeva. \n",
    "Quando un anziano del villaggio venne a chiederle consiglio su come garantire al meglio un raccolto abbondante \n",
    "e le offrì il DEPOSITO come dono, i suoi occhi si spalancarono e lei esclamò una sola parola, \"PRESTAZIONE\".  \n",
    "\n",
    "Radunò il villaggio e, per i successivi 100 giorni, su sua richiesta, gli abitanti cercarono nella foresta un BIRILLO DA BOWLING. \n",
    "Nel 101° giorno, il bambino più giovane del villaggio trovò ciò che stavano cercando e tutti corsero dalla donna saggia per donarglielo. \n",
    "Con un sorriso da un orecchio all’altro, e cantando canti di festa, la donna saggia guardò i suoi compaesani e disse: \n",
    "\"Ora è giunto il tempo del banchetto - nessuno rimarrà mai più senza GIUSTIFICAZIONE!\"  \n",
    "\n",
    "Ci fu grande gioia e celebrazione.\""
   ]
  },
  {
   "cell_type": "code",
   "execution_count": null,
   "metadata": {},
   "outputs": [],
   "source": []
  }
 ],
 "metadata": {
  "kernelspec": {
   "display_name": "ProgrammingLab2",
   "language": "python",
   "name": "python3"
  },
  "language_info": {
   "codemirror_mode": {
    "name": "ipython",
    "version": 3
   },
   "file_extension": ".py",
   "mimetype": "text/x-python",
   "name": "python",
   "nbconvert_exporter": "python",
   "pygments_lexer": "ipython3",
   "version": "3.12.9"
  }
 },
 "nbformat": 4,
 "nbformat_minor": 2
}
