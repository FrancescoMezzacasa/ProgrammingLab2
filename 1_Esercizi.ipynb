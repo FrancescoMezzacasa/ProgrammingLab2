{
 "cells": [
  {
   "cell_type": "markdown",
   "metadata": {},
   "source": [
    "### **0. Importazione modulo**\n",
    "\n",
    "Prima di tutto importo il modulo numpy"
   ]
  },
  {
   "cell_type": "code",
   "execution_count": 1,
   "metadata": {},
   "outputs": [],
   "source": [
    "import numpy as np"
   ]
  },
  {
   "cell_type": "markdown",
   "metadata": {},
   "source": [
    "### **1. Trasformare cicli in list comprehension**\n",
    "\n",
    "Fai tre esempi di cicli producono una lista e poi riscrivi lo stesso codice usando la list comprehension"
   ]
  },
  {
   "cell_type": "markdown",
   "metadata": {},
   "source": [
    "#### Primo esempio"
   ]
  },
  {
   "cell_type": "code",
   "execution_count": 2,
   "metadata": {},
   "outputs": [
    {
     "name": "stdout",
     "output_type": "stream",
     "text": [
      "[1, 8, 27, 64, 125, 216, 343, 512, 729, 1000]\n",
      "[1, 8, 27, 64, 125, 216, 343, 512, 729, 1000]\n"
     ]
    }
   ],
   "source": [
    "#Lista con i primi 10 cubi\n",
    "\n",
    "l = []\n",
    "for i in range(1, 11):\n",
    "    l.append(i**3)\n",
    "print(l)\n",
    "\n",
    "l1= [i**3 for i in range(1, 11)]\n",
    "print(l1)"
   ]
  },
  {
   "cell_type": "markdown",
   "metadata": {},
   "source": [
    "#### Secondo esempio"
   ]
  },
  {
   "cell_type": "code",
   "execution_count": null,
   "metadata": {},
   "outputs": [
    {
     "name": "stdout",
     "output_type": "stream",
     "text": [
      "[1, 2, 4, 8, 16, 32, 64, 128, 256, 512, 1024]\n",
      "11\n"
     ]
    }
   ],
   "source": [
    "#Lista con le prime 11 potenze di 2\n",
    "\n",
    "l = []\n",
    "for i in range(11):\n",
    "    l.append(2**i)\n",
    "print(l)\n",
    "\n",
    "l1 = [2**i for i in range(11)]\n",
    "print(l1)"
   ]
  },
  {
   "cell_type": "markdown",
   "metadata": {},
   "source": [
    "#### Terzo esempio"
   ]
  },
  {
   "cell_type": "code",
   "execution_count": 9,
   "metadata": {},
   "outputs": [
    {
     "name": "stdout",
     "output_type": "stream",
     "text": [
      "[51, 53, 55, 57, 59]\n",
      "[51, 53, 55, 57, 59]\n"
     ]
    }
   ],
   "source": [
    "#Lista con i soli numeri dispari tra 50 e 60\n",
    "\n",
    "l = []\n",
    "for i in range(50, 61):\n",
    "    if(i % 2 != 0):\n",
    "        l.append(i)\n",
    "print(l)\n",
    "\n",
    "l1 = [i for i in range(50, 60) if(i % 2 != 0)]\n",
    "print(l1)"
   ]
  },
  {
   "cell_type": "markdown",
   "metadata": {},
   "source": [
    "### **2. Vettore di Numeri Primi**\n",
    "\n",
    "1. **Crea un vettore** contenente tutti i numeri primi compresi tra **0 e 10**  \n",
    "   _(Puoi scriverli direttamente nell'array)._\n",
    "\n",
    "2. **Conta quanti numeri ci sono nel vettore** utilizzando la funzione `len()`.  **Ottieni lo stesso numero** accedendo all'attributo `.size` del vettore.\n",
    "\n",
    "3. Quale pensi sia il tipo di dato (`dtype`) del vettore?  Prova a rispondere senza eseguire il codice e Verifica la tua risposta accedendo all'attributo `.dtype` del vettore\n",
    "\n",
    "4. Scrivi l'array usando una list comprehension che controlla che i numeri siano primi. "
   ]
  },
  {
   "cell_type": "code",
   "execution_count": 4,
   "metadata": {},
   "outputs": [
    {
     "name": "stdout",
     "output_type": "stream",
     "text": [
      "4\n",
      "4\n",
      "int64\n",
      "[2, 3, 5, 7]\n"
     ]
    }
   ],
   "source": [
    "a = np.array([2, 3, 5, 7])\n",
    "lungh = len(a)\n",
    "lungh_2= a.size\n",
    "print(lungh)\n",
    "print(lungh_2)\n",
    "\n",
    "#Mi aspetto che il dtype sia int, in quanto i numeri sono tutti interi\n",
    "print(a.dtype)\n",
    "\n",
    "b = [i for i in range(11) if((i == 2 or (i % 2 != 0 and all(i % x != 0 for x in range(2, i//2)))) and i != 1)]\n",
    "print(b)"
   ]
  },
  {
   "cell_type": "markdown",
   "metadata": {},
   "source": [
    "### **3.  Operazioni su array**\n",
    "Crea un array **a**, 1D (senza digitarlo esplicitamente), e genera due nuovi array **b**, contenente una sottostringa a piacere e **c** che è il reverse dell'array **a** (esempio [1,2,3] diventa [3,2,1]) .  Dividi l'array **a** per l'array **c**. Fai la stessa cosa per una lista."
   ]
  },
  {
   "cell_type": "code",
   "execution_count": 5,
   "metadata": {},
   "outputs": [
    {
     "name": "stdout",
     "output_type": "stream",
     "text": [
      "[ 1  2  3  4  5  6  7  8  9 10]\n",
      "[4 5 6]\n",
      "[10  9  8  7  6  5  4  3  2  1]\n",
      "[ 0.1         0.22222222  0.375       0.57142857  0.83333333  1.2\n",
      "  1.75        2.66666667  4.5        10.        ]\n",
      "[1, 2, 3, 4, 5, 6, 7, 8, 9, 10]\n",
      "[4 5 6]\n",
      "[10, 9, 8, 7, 6, 5, 4, 3, 2, 1]\n",
      "[0.1, 0.2222222222222222, 0.375, 0.5714285714285714, 0.8333333333333334, 1.2, 1.75, 2.6666666666666665, 4.5, 10.0]\n"
     ]
    }
   ],
   "source": [
    "l = []\n",
    "for i in range(1, 11):\n",
    "    l.append(i)\n",
    "a = np.array(l)\n",
    "print(a)\n",
    "b = a[3:6]\n",
    "print(b)\n",
    "c = np.flip(a)\n",
    "print(c)\n",
    "print(a/c)\n",
    "\n",
    "a1 = []\n",
    "for i in range(1, 11):\n",
    "    a1.append(i)\n",
    "print(a1)\n",
    "b1 = a[3:6]\n",
    "print(b1)\n",
    "c1 = a1.copy()\n",
    "c1.reverse()\n",
    "print(c1)\n",
    "#print(a1/c1) #non supportato!! devo scorrerla tutta\n",
    "\n",
    "rapporto = []\n",
    "for i in range(len(a1)):\n",
    "    rapporto.append(a1[i]/c1[i])\n",
    "print(rapporto)"
   ]
  }
 ],
 "metadata": {
  "kernelspec": {
   "display_name": "ProgrammingLab2",
   "language": "python",
   "name": "python3"
  },
  "language_info": {
   "codemirror_mode": {
    "name": "ipython",
    "version": 3
   },
   "file_extension": ".py",
   "mimetype": "text/x-python",
   "name": "python",
   "nbconvert_exporter": "python",
   "pygments_lexer": "ipython3",
   "version": "3.12.9"
  }
 },
 "nbformat": 4,
 "nbformat_minor": 2
}
